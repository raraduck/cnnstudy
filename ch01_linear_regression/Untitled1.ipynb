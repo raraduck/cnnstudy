{
 "cells": [
  {
   "cell_type": "code",
   "execution_count": 1,
   "id": "075c1100-a028-4b9b-a7a8-fff28fea79dd",
   "metadata": {},
   "outputs": [],
   "source": [
    "import numpy as np\n",
    "import torch\n",
    "import matplotlib.pyplot as plt"
   ]
  },
  {
   "cell_type": "code",
   "execution_count": 43,
   "id": "9429b047-5f08-4ac6-a4e8-976417e67c07",
   "metadata": {},
   "outputs": [
    {
     "name": "stdout",
     "output_type": "stream",
     "text": [
      "tensor([[0.],\n",
      "        [0.],\n",
      "        [0.],\n",
      "        [0.],\n",
      "        [0.]])\n",
      "tensor([[-0.4037],\n",
      "        [-0.4650],\n",
      "        [ 1.0998],\n",
      "        [-1.4181],\n",
      "        [ 1.5328]])\n",
      "tensor([[ 0.0000, -0.4037],\n",
      "        [ 0.0000, -0.4650],\n",
      "        [ 0.0000,  1.0998],\n",
      "        [ 0.0000, -1.4181],\n",
      "        [ 0.0000,  1.5328]])\n"
     ]
    }
   ],
   "source": [
    "N = 5\n",
    "idx = np.arange(0, N)\n",
    "x1 = torch.zeros(N,1)\n",
    "x2 = torch.randn(N,1)\n",
    "x3 = torch.cat([x1, x2], axis=1)\n",
    "print(x1)\n",
    "print(x2)\n",
    "print(x3)"
   ]
  },
  {
   "cell_type": "code",
   "execution_count": 50,
   "id": "5782d017-a106-451a-beec-fdadaec39a1d",
   "metadata": {},
   "outputs": [
    {
     "name": "stdout",
     "output_type": "stream",
     "text": [
      "tensor([[ 0.0000, -0.4037],\n",
      "        [ 0.0000, -0.4650],\n",
      "        [ 0.0000,  1.0998],\n",
      "        [ 0.0000, -1.4181],\n",
      "        [ 0.0000,  1.5328]]) torch.Size([5, 2])\n",
      "tensor([[-0.7125],\n",
      "        [-1.0025],\n",
      "        [-0.0940],\n",
      "        [ 1.1789],\n",
      "        [-0.9137]]) torch.Size([5, 1])\n",
      "tensor([[-0.7125, -1.1162],\n",
      "        [-1.0025, -1.4675],\n",
      "        [-0.0940,  1.0058],\n",
      "        [ 1.1789, -0.2392],\n",
      "        [-0.9137,  0.6190]])\n"
     ]
    }
   ],
   "source": [
    "noise = torch.randn(N,1)\n",
    "y = x3 + noise\n",
    "print(x3, x3.shape)\n",
    "print(noise, noise.shape)\n",
    "print(y)"
   ]
  }
 ],
 "metadata": {
  "kernelspec": {
   "display_name": "Python 3 (ipykernel)",
   "language": "python",
   "name": "python3"
  },
  "language_info": {
   "codemirror_mode": {
    "name": "ipython",
    "version": 3
   },
   "file_extension": ".py",
   "mimetype": "text/x-python",
   "name": "python",
   "nbconvert_exporter": "python",
   "pygments_lexer": "ipython3",
   "version": "3.10.10"
  }
 },
 "nbformat": 4,
 "nbformat_minor": 5
}
