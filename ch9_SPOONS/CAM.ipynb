{
 "cells": [
  {
   "cell_type": "code",
   "execution_count": 1,
   "id": "f72ade46-6236-4d5c-9b88-22628b503bbb",
   "metadata": {
    "tags": []
   },
   "outputs": [],
   "source": [
    "import torch\n",
    "import torch.nn as nn\n",
    "import cv2 # pip install opencv-python\n"
   ]
  },
  {
   "cell_type": "code",
   "execution_count": null,
   "id": "a03e766a-9d30-401a-bd06-7f8cf86791ca",
   "metadata": {},
   "outputs": [],
   "source": [
    "def CAM(net, conv_filter, layer, org_shape, cls):\n",
    "    act = {}\n",
    "    def get_activation(name):\n",
    "        def hook(net, inp, out):\n",
    "            act[name] = out.detach().numpy()\n",
    "        return hook\n",
    "    layer.register_forward_hook(get_activation('target')) # forward hook을 등록\n",
    "    linear = net.classifier[6].weight[cls].detach().numpy()[:, np.newaxis, np.newaxis] # w1, w2, ..., wn -> weight\n",
    "    _ = net(conv_filter) # forward hook을 실행시킴\n",
    "    activation = act['target'][0] # spatial한 conv filter 가져오는 코드\n",
    "    activation = activation.sum(axis=0)[np.newaxis, ...]\n",
    "    activation = activation * linear \n",
    "    activation = activation.mean(axis=0)\n",
    "    cam = cv2.resize(activation.squeeze(), org_shape, cv2.INTER_LINEAR)\n",
    "    return cam\n"
   ]
  }
 ],
 "metadata": {
  "kernelspec": {
   "display_name": "Python 3 (ipykernel)",
   "language": "python",
   "name": "python3"
  },
  "language_info": {
   "codemirror_mode": {
    "name": "ipython",
    "version": 3
   },
   "file_extension": ".py",
   "mimetype": "text/x-python",
   "name": "python",
   "nbconvert_exporter": "python",
   "pygments_lexer": "ipython3",
   "version": "3.7.2"
  }
 },
 "nbformat": 4,
 "nbformat_minor": 5
}
