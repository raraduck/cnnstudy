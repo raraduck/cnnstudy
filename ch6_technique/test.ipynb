{
 "cells": [
  {
   "cell_type": "code",
   "execution_count": 3,
   "id": "27257dd9-966e-4fef-94fd-6ed66e6d6ac6",
   "metadata": {},
   "outputs": [],
   "source": [
    "from models.load_models import MyCNN"
   ]
  },
  {
   "cell_type": "code",
   "execution_count": 5,
   "id": "9acee08a-8b2b-4c7f-8a84-59ec07f44988",
   "metadata": {},
   "outputs": [],
   "source": [
    "model = MyCNN(28, 28)"
   ]
  },
  {
   "cell_type": "code",
   "execution_count": 6,
   "id": "32e40d2e-13ca-4f95-9e1e-8a6bc6157574",
   "metadata": {},
   "outputs": [
    {
     "name": "stdout",
     "output_type": "stream",
     "text": [
      "MyCNN(\n",
      "  (conv1): Conv2d(1, 16, kernel_size=(5, 5), stride=(1, 1))\n",
      "  (act1): ReLU()\n",
      "  (conv2): Conv2d(16, 32, kernel_size=(5, 5), stride=(1, 1))\n",
      "  (act2): ReLU()\n",
      "  (pool2): MaxPool2d(kernel_size=2, stride=2, padding=0, dilation=1, ceil_mode=False)\n",
      "  (conv3): Conv2d(32, 64, kernel_size=(5, 5), stride=(1, 1))\n",
      "  (act3): ReLU()\n",
      "  (pool3): MaxPool2d(kernel_size=2, stride=2, padding=0, dilation=1, ceil_mode=False)\n",
      "  (fc4): Linear(in_features=576, out_features=100, bias=True)\n",
      "  (act4): ReLU()\n",
      "  (fc5): Linear(in_features=100, out_features=10, bias=True)\n",
      ")\n"
     ]
    }
   ],
   "source": [
    "print(model)"
   ]
  },
  {
   "cell_type": "code",
   "execution_count": 7,
   "id": "89b52622-6a22-44bf-af04-beee6cf20f7d",
   "metadata": {},
   "outputs": [
    {
     "name": "stdout",
     "output_type": "stream",
     "text": [
      "----------------------------------------------------------------\n",
      "        Layer (type)               Output Shape         Param #\n",
      "================================================================\n",
      "            Conv2d-1           [-1, 16, 24, 24]             416\n",
      "              ReLU-2           [-1, 16, 24, 24]               0\n",
      "            Conv2d-3           [-1, 32, 20, 20]          12,832\n",
      "              ReLU-4           [-1, 32, 20, 20]               0\n",
      "         MaxPool2d-5           [-1, 32, 10, 10]               0\n",
      "            Conv2d-6             [-1, 64, 6, 6]          51,264\n",
      "              ReLU-7             [-1, 64, 6, 6]               0\n",
      "         MaxPool2d-8             [-1, 64, 3, 3]               0\n",
      "            Linear-9                  [-1, 100]          57,700\n",
      "             ReLU-10                  [-1, 100]               0\n",
      "           Linear-11                   [-1, 10]           1,010\n",
      "================================================================\n",
      "Total params: 123,222\n",
      "Trainable params: 123,222\n",
      "Non-trainable params: 0\n",
      "----------------------------------------------------------------\n",
      "Input size (MB): 0.00\n",
      "Forward/backward pass size (MB): 0.40\n",
      "Params size (MB): 0.47\n",
      "Estimated Total Size (MB): 0.87\n",
      "----------------------------------------------------------------\n"
     ]
    }
   ],
   "source": [
    "from torchsummary import summary\n",
    "model = model.cuda()\n",
    "summary(model, (1, 28, 28))"
   ]
  },
  {
   "cell_type": "code",
   "execution_count": 11,
   "id": "b355b54f-4b76-4054-9d84-709689c961a2",
   "metadata": {},
   "outputs": [
    {
     "name": "stdout",
     "output_type": "stream",
     "text": [
      "----------------------------------------------------------------\n",
      "        Layer (type)               Output Shape         Param #\n",
      "================================================================\n",
      "            Conv2d-1           [-1, 16, 28, 28]             416\n",
      "              ReLU-2           [-1, 16, 28, 28]               0\n",
      "            Conv2d-3           [-1, 32, 24, 24]          12,832\n",
      "              ReLU-4           [-1, 32, 24, 24]               0\n",
      "         MaxPool2d-5           [-1, 32, 12, 12]               0\n",
      "            Conv2d-6             [-1, 64, 8, 8]          51,264\n",
      "              ReLU-7             [-1, 64, 8, 8]               0\n",
      "         MaxPool2d-8             [-1, 64, 4, 4]               0\n",
      "            Linear-9                  [-1, 100]         102,500\n",
      "             ReLU-10                  [-1, 100]               0\n",
      "           Linear-11                   [-1, 10]           1,010\n",
      "================================================================\n",
      "Total params: 168,022\n",
      "Trainable params: 168,022\n",
      "Non-trainable params: 0\n",
      "----------------------------------------------------------------\n",
      "Input size (MB): 0.00\n",
      "Forward/backward pass size (MB): 0.58\n",
      "Params size (MB): 0.64\n",
      "Estimated Total Size (MB): 1.22\n",
      "----------------------------------------------------------------\n"
     ]
    }
   ],
   "source": [
    "model32 = MyCNN(32, 32)\n",
    "model32 = model32.cuda()\n",
    "summary(model32, (1, 32, 32))"
   ]
  }
 ],
 "metadata": {
  "kernelspec": {
   "display_name": "Python 3 (ipykernel)",
   "language": "python",
   "name": "python3"
  },
  "language_info": {
   "codemirror_mode": {
    "name": "ipython",
    "version": 3
   },
   "file_extension": ".py",
   "mimetype": "text/x-python",
   "name": "python",
   "nbconvert_exporter": "python",
   "pygments_lexer": "ipython3",
   "version": "3.7.9"
  }
 },
 "nbformat": 4,
 "nbformat_minor": 5
}
