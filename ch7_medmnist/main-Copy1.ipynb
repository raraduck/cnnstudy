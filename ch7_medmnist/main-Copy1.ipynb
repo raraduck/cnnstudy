{
 "cells": [
  {
   "cell_type": "markdown",
   "id": "5d7866bd-8c16-4bbb-81de-4e6140d2981d",
   "metadata": {},
   "source": [
    "# loader"
   ]
  },
  {
   "cell_type": "code",
   "execution_count": 6,
   "id": "9c22bc90-755d-4072-950c-51462a1872c1",
   "metadata": {
    "tags": []
   },
   "outputs": [
    {
     "name": "stdout",
     "output_type": "stream",
     "text": [
      "Collecting matplotlib\n",
      "  Using cached matplotlib-3.5.3-cp37-cp37m-win_amd64.whl (7.2 MB)\n",
      "Collecting cycler>=0.10\n",
      "  Using cached cycler-0.11.0-py3-none-any.whl (6.4 kB)\n",
      "Requirement already satisfied: pillow>=6.2.0 in c:\\python\\python37\\lib\\site-packages (from matplotlib) (9.2.0)\n",
      "Requirement already satisfied: pyparsing>=2.2.1 in c:\\python\\python37\\lib\\site-packages (from matplotlib) (2.4.7)\n",
      "Requirement already satisfied: fonttools>=4.22.0 in c:\\python\\python37\\lib\\site-packages (from matplotlib) (4.36.0)\n",
      "Requirement already satisfied: numpy>=1.17 in c:\\python\\python37\\lib\\site-packages (from matplotlib) (1.19.5)\n",
      "Collecting kiwisolver>=1.0.1\n",
      "  Using cached kiwisolver-1.4.4-cp37-cp37m-win_amd64.whl (54 kB)\n",
      "Requirement already satisfied: python-dateutil>=2.7 in c:\\python\\python37\\lib\\site-packages (from matplotlib) (2.8.2)\n",
      "Requirement already satisfied: packaging>=20.0 in c:\\python\\python37\\lib\\site-packages (from matplotlib) (23.1)\n",
      "Requirement already satisfied: typing-extensions in c:\\python\\python37\\lib\\site-packages (from kiwisolver>=1.0.1->matplotlib) (4.3.0)\n",
      "Requirement already satisfied: six>=1.5 in c:\\python\\python37\\lib\\site-packages (from python-dateutil>=2.7->matplotlib) (1.16.0)\n",
      "Installing collected packages: kiwisolver, cycler, matplotlib\n",
      "Successfully installed cycler-0.11.0 kiwisolver-1.4.4 matplotlib-3.5.3\n"
     ]
    },
    {
     "name": "stderr",
     "output_type": "stream",
     "text": [
      "\n",
      "[notice] A new release of pip is available: 23.0.1 -> 23.2.1\n",
      "[notice] To update, run: python.exe -m pip install --upgrade pip\n"
     ]
    }
   ],
   "source": [
    "!pip install matplotlib"
   ]
  },
  {
   "cell_type": "code",
   "execution_count": 18,
   "id": "20a10393-4e3b-4442-9418-50d0b5e1a885",
   "metadata": {
    "tags": []
   },
   "outputs": [
    {
     "name": "stdout",
     "output_type": "stream",
     "text": [
      "tensor([[ 1,  0,  0],\n",
      "        [ 0,  1, -1],\n",
      "        [ 0,  1, -2]])\n"
     ]
    },
    {
     "data": {
      "text/plain": [
       "<matplotlib.image.AxesImage at 0x1b08f58bd08>"
      ]
     },
     "execution_count": 18,
     "metadata": {},
     "output_type": "execute_result"
    },
    {
     "data": {
      "image/png": "[encoded data removed]",
      "text/plain": [
       "<Figure size 432x288 with 1 Axes>"
      ]
     },
     "metadata": {
      "needs_background": "light"
     },
     "output_type": "display_data"
    }
   ],
   "source": [
    "import torch\n",
    "a = torch.tensor([[1,0,0],[0,1,-1],[0,1,-2]])\n",
    "print(a)\n",
    "# import matplotlib.pyplot as plt\n",
    "import matplotlib.pyplot as plt\n",
    "plt.imshow(a, cmap='gray')\n"
   ]
  },
  {
   "cell_type": "code",
   "execution_count": 2,
   "id": "14fb126e-99d2-43bb-a1f0-e50c6765824b",
   "metadata": {},
   "outputs": [
    {
     "name": "stdout",
     "output_type": "stream",
     "text": [
      "Files already downloaded and verified\n",
      "Files already downloaded and verified\n"
     ]
    }
   ],
   "source": [
    "import torch\n",
    "from torchvision.datasets import MNIST, FashionMNIST, CelebA\n",
    "import medmnist\n",
    "from medmnist import ChestMNIST, PneumoniaMNIST\n",
    "from torchvision import transforms\n",
    "from _utils.load_utils import display_from_batch\n",
    "from torch.utils.data import Dataset, DataLoader, TensorDataset\n",
    "\n",
    "# params: batch_size\n",
    "batch_size = 256\n",
    "\n",
    "# train = FashionMNIST(\"./_data\", train=True, download=True, transform=transforms.Compose([transforms.FloatTensor()]))\n",
    "# test = FashionMNIST(\"./_data\", train=False, download=True, transform=transforms.Compose([transforms.FloatTensor()]))\n",
    "# classnames = {\n",
    "#     0:'T-shirt/top',\n",
    "#     1:'Trouser',\n",
    "#     2:'Pullover',\n",
    "#     3:'Dress',\n",
    "#     4:'Coat',\n",
    "#     5:'Sandal',\n",
    "#     6:'Shirt',\n",
    "#     7:'Sneaker',\n",
    "#     8:'Bag',\n",
    "#     9:'Ankle boot',\n",
    "# }\n",
    "# train = PneumoniaMNIST(root=\"./_data\", split=\"train\", download=True, transform=transforms.Compose([transforms.ToTensor()]))\n",
    "# test = PneumoniaMNIST(root=\"./_data\", split=\"test\", download=True, transform=transforms.ToTensor())\n",
    "# classnames={0: 'normal', 1: 'pneumonia'}\n",
    "\n",
    "# train = ChestMNIST(root=\"./_data\", split=\"train\", download=True, transform=transforms.ToTensor())\n",
    "# test = ChestMNIST(root=\"./_data\", split=\"test\", download=True, transform=transforms.ToTensor())\n",
    "# classnames={\n",
    "#     '0': 'atelectasis', \n",
    "#     '1': 'cardiomegaly', \n",
    "#     '2': 'effusion', \n",
    "#     '3': 'infiltration', \n",
    "#     '4': 'mass', \n",
    "#     '5': 'nodule', \n",
    "#     '6': 'pneumonia', \n",
    "#     '7': 'pneumothorax', \n",
    "#     '8': 'consolidation', \n",
    "#     '9': 'edema', \n",
    "#     '10': 'emphysema', \n",
    "#     '11': 'fibrosis', \n",
    "#     '12': 'pleural', \n",
    "#     '13': 'hernia'\n",
    "# }\n",
    "\n",
    "\n",
    "train = CelebA(root='./_data', split='train', transform=transforms.Compose([transforms.ToTensor()]), download=True)\n",
    "test = CelebA(root='./_data', split='test', transform=transforms.Compose([transforms.ToTensor()]), download=True)\n",
    "\n",
    "train_loader = DataLoader(train, batch_size=batch_size, shuffle=True, drop_last=True)\n",
    "test_loader = DataLoader(test, batch_size=batch_size, shuffle=False, drop_last=True)\n",
    "\n",
    "# return train_loader, test_loader"
   ]
  },
  {
   "cell_type": "code",
   "execution_count": 2,
   "id": "1b79f415-8672-4046-9b6d-86ca2b5ea183",
   "metadata": {},
   "outputs": [
    {
     "name": "stdout",
     "output_type": "stream",
     "text": [
      "Dataset FashionMNIST\n",
      "    Number of datapoints: 60000\n",
      "    Root location: ./_data\n",
      "    Split: Train\n",
      "    StandardTransform\n",
      "Transform: ToTensor()\n"
     ]
    }
   ],
   "source": [
    "print(train)"
   ]
  },
  {
   "cell_type": "markdown",
   "id": "f4ad792d-1279-4b1d-b1a3-bcf2228d862a",
   "metadata": {},
   "source": [
    "# _utils"
   ]
  },
  {
   "cell_type": "code",
   "execution_count": 3,
   "id": "8e92e1d5-cfb2-49d0-8914-b066834fd8a4",
   "metadata": {},
   "outputs": [],
   "source": [
    "train_iter = iter(train_loader)"
   ]
  },
  {
   "cell_type": "code",
   "execution_count": 4,
   "id": "9be5be8f-ad94-4a00-81a4-0408dd07e77f",
   "metadata": {
    "scrolled": true
   },
   "outputs": [
    {
     "name": "stdout",
     "output_type": "stream",
     "text": [
      "tensor([0, 0, 2, 2])\n"
     ]
    },
    {
     "data": {
      "image/png": "[encoded data removed]",
      "text/plain": [
       "<Figure size 640x480 with 4 Axes>"
      ]
     },
     "metadata": {},
     "output_type": "display_data"
    }
   ],
   "source": [
    "train_batch = next(train_iter)\n",
    "# params: batch, classname, nrows, ncols\n",
    "print(train_batch[1][:4])\n",
    "# print(train_batch[1].squeeze(1))\n",
    "# print(train_batch[1].squeeze(1).to(torch.long))\n",
    "# print(train_batch[1].squeeze(1).to(torch.long).dtype)\n",
    "display_from_batch(train_batch, 2, 2, classnames)\n",
    "\n",
    "# return none"
   ]
  },
  {
   "cell_type": "markdown",
   "id": "234c2e7c-ba5c-475f-b1bd-92913553922a",
   "metadata": {},
   "source": [
    "# model"
   ]
  },
  {
   "cell_type": "code",
   "execution_count": 5,
   "id": "4838c802-b3dd-452f-b4ed-9273b81274da",
   "metadata": {},
   "outputs": [],
   "source": [
    "import torch\n",
    "from torch import nn, optim\n",
    "\n",
    "class MyCNN(nn.Module):\n",
    "    def __init__(self, height, width, out_features):\n",
    "        super().__init__()\n",
    "        self.conv1 = nn.Conv2d(1, 16, kernel_size=5, padding=0)\n",
    "        self.act1 = nn.ReLU()\n",
    "        h = (height - 4)\n",
    "        w = (width - 4)\n",
    "        self.conv2 = nn.Conv2d(16, 32, kernel_size=5, padding=0)\n",
    "        self.act2 = nn.ReLU()\n",
    "        h = (h - 4)\n",
    "        w = (w - 4)\n",
    "        self.pool2 = nn.MaxPool2d(2,2)\n",
    "        h = h / 2\n",
    "        w = w / 2\n",
    "        self.conv3 = nn.Conv2d(32, 64, kernel_size=5, padding=0)\n",
    "        self.act3 = nn.ReLU()\n",
    "        h = (h - 4)\n",
    "        w = (w - 4)\n",
    "        self.pool3 = nn.MaxPool2d(2,2)\n",
    "        h = h / 2\n",
    "        w = w / 2\n",
    "        # 3x3 이미지가 됨\n",
    "        self.fc4 = nn.Linear(64 * int(h) * int(w), 100)\n",
    "        self.act4 = nn.ReLU()\n",
    "        self.fc5 = nn.Linear(100, out_features)\n",
    "\n",
    "    def forward(self, x):\n",
    "        x = self.conv1(x)\n",
    "        x = self.act1(x)\n",
    "        x = self.conv2(x)\n",
    "        x = self.act2(x)\n",
    "        x = self.pool2(x)\n",
    "        x = self.conv3(x)\n",
    "        x = self.act3(x)\n",
    "        x = self.pool3(x)\n",
    "        \n",
    "        # 모듈화 필요>>>\n",
    "        sizes = x.size()\n",
    "        x = x.view(sizes[0], -1)\n",
    "        # <<<모듈화 필요\n",
    "        \n",
    "        x = self.fc4(x)\n",
    "        x = self.act4(x)\n",
    "        x = self.fc5(x)\n",
    "        return x\n"
   ]
  },
  {
   "cell_type": "code",
   "execution_count": 6,
   "id": "6f40c296-8131-4a15-a0d6-ba75b960892e",
   "metadata": {},
   "outputs": [
    {
     "name": "stdout",
     "output_type": "stream",
     "text": [
      "MyCNN:  123222 [400, 16, 12800, 32, 51200, 64, 57600, 100, 1000, 10]\n"
     ]
    },
    {
     "data": {
      "text/plain": [
       "==========================================================================================\n",
       "Layer (type:depth-idx)                   Output Shape              Param #\n",
       "==========================================================================================\n",
       "MyCNN                                    [1, 10]                   --\n",
       "├─Conv2d: 1-1                            [1, 16, 24, 24]           416\n",
       "├─ReLU: 1-2                              [1, 16, 24, 24]           --\n",
       "├─Conv2d: 1-3                            [1, 32, 20, 20]           12,832\n",
       "├─ReLU: 1-4                              [1, 32, 20, 20]           --\n",
       "├─MaxPool2d: 1-5                         [1, 32, 10, 10]           --\n",
       "├─Conv2d: 1-6                            [1, 64, 6, 6]             51,264\n",
       "├─ReLU: 1-7                              [1, 64, 6, 6]             --\n",
       "├─MaxPool2d: 1-8                         [1, 64, 3, 3]             --\n",
       "├─Linear: 1-9                            [1, 100]                  57,700\n",
       "├─ReLU: 1-10                             [1, 100]                  --\n",
       "├─Linear: 1-11                           [1, 10]                   1,010\n",
       "==========================================================================================\n",
       "Total params: 123,222\n",
       "Trainable params: 123,222\n",
       "Non-trainable params: 0\n",
       "Total mult-adds (M): 7.28\n",
       "==========================================================================================\n",
       "Input size (MB): 0.00\n",
       "Forward/backward pass size (MB): 0.20\n",
       "Params size (MB): 0.49\n",
       "Estimated Total Size (MB): 0.69\n",
       "=========================================================================================="
      ]
     },
     "execution_count": 6,
     "metadata": {},
     "output_type": "execute_result"
    }
   ],
   "source": [
    "model = MyCNN(height=28, width=28, out_features=10)\n",
    "numel_list = [p.numel() for p in model.parameters()]\n",
    "sum(numel_list), numel_list\n",
    "print('MyCNN: ', sum(numel_list), numel_list)\n",
    "from torchinfo import summary\n",
    "summary(model, input_size=(1,1,28,28), device='cpu') "
   ]
  },
  {
   "cell_type": "markdown",
   "id": "e787035c-8378-49c5-a524-9ad14da0b5b9",
   "metadata": {},
   "source": [
    "# train"
   ]
  },
  {
   "cell_type": "code",
   "execution_count": 7,
   "id": "569e69cb-c4e8-4fe6-b785-c2c1d2c655f5",
   "metadata": {},
   "outputs": [],
   "source": [
    "import torch\n",
    "from torch import nn, optim\n",
    "import collections\n",
    "import tqdm\n",
    "all_acc_dict = collections.OrderedDict()\n",
    "device = torch.device(\"cuda:0\" if torch.cuda.is_available() else \"cpu\")\n",
    "import datetime\n",
    "current_time = datetime.datetime.today() # 2021-08-15 20:58:43.302125\n",
    "current_time = current_time.strftime('%Y%m%d%H%M%S') # 20210815205827"
   ]
  },
  {
   "cell_type": "code",
   "execution_count": 8,
   "id": "9158ac34-c5e7-4630-81de-b99cbb4bfead",
   "metadata": {},
   "outputs": [],
   "source": [
    "def eval_net(model, data_loader, device=\"cpu\"):\n",
    "    model.eval()\n",
    "    ys = []\n",
    "    ypreds = []\n",
    "    for x, y in data_loader:\n",
    "        x = x.to(device)\n",
    "        y = y.to(device)\n",
    "        # y = y.squeeze(1).to(torch.long).to(device)\n",
    "        with torch.no_grad():\n",
    "            _, y_pred = model(x).max(1)\n",
    "        ys.append(y)\n",
    "        ypreds.append(y_pred)\n",
    "    ys = torch.cat(ys)\n",
    "    ypreds = torch.cat(ypreds)\n",
    "    acc = (ys == ypreds).float().sum() / len(ys)\n",
    "    return acc.item()"
   ]
  },
  {
   "cell_type": "code",
   "execution_count": 9,
   "id": "0a7adff7-48f8-453f-80b1-a4691563f79a",
   "metadata": {
    "scrolled": true
   },
   "outputs": [
    {
     "name": "stderr",
     "output_type": "stream",
     "text": [
      "100%|█████████████████████████████████████████| 234/234 [00:07<00:00, 29.39it/s]\n"
     ]
    },
    {
     "name": "stdout",
     "output_type": "stream",
     "text": [
      "0 2.306303170617558 0.13603432158119658 0.15034054219722748\n"
     ]
    },
    {
     "name": "stderr",
     "output_type": "stream",
     "text": [
      "100%|█████████████████████████████████████████| 234/234 [00:05<00:00, 39.67it/s]\n"
     ]
    },
    {
     "name": "stdout",
     "output_type": "stream",
     "text": [
      "1 2.056442906416537 0.2961738782051282 0.563401460647583\n"
     ]
    },
    {
     "name": "stderr",
     "output_type": "stream",
     "text": [
      "100%|█████████████████████████████████████████| 234/234 [00:06<00:00, 38.59it/s]\n"
     ]
    },
    {
     "name": "stdout",
     "output_type": "stream",
     "text": [
      "2 1.0087311257620226 0.6194744925213675 0.6586538553237915\n"
     ]
    },
    {
     "name": "stderr",
     "output_type": "stream",
     "text": [
      "100%|█████████████████████████████████████████| 234/234 [00:05<00:00, 39.28it/s]\n"
     ]
    },
    {
     "name": "stdout",
     "output_type": "stream",
     "text": [
      "3 0.8143085868061868 0.6936097756410257 0.6737780570983887\n"
     ]
    },
    {
     "name": "stderr",
     "output_type": "stream",
     "text": [
      "100%|█████████████████████████████████████████| 234/234 [00:06<00:00, 38.73it/s]\n"
     ]
    },
    {
     "name": "stdout",
     "output_type": "stream",
     "text": [
      "4 0.7385250294157364 0.7228231837606838 0.7237580418586731\n"
     ]
    },
    {
     "name": "stderr",
     "output_type": "stream",
     "text": [
      "100%|█████████████████████████████████████████| 234/234 [00:05<00:00, 39.44it/s]\n"
     ]
    },
    {
     "name": "stdout",
     "output_type": "stream",
     "text": [
      "5 0.6918539594171385 0.7431891025641025 0.7425881624221802\n"
     ]
    },
    {
     "name": "stderr",
     "output_type": "stream",
     "text": [
      "100%|█████████████████████████████████████████| 234/234 [00:05<00:00, 39.32it/s]\n"
     ]
    },
    {
     "name": "stdout",
     "output_type": "stream",
     "text": [
      "6 0.6565865608243984 0.7554086538461539 0.7597155570983887\n"
     ]
    },
    {
     "name": "stderr",
     "output_type": "stream",
     "text": [
      "100%|█████████████████████████████████████████| 234/234 [00:05<00:00, 39.54it/s]\n"
     ]
    },
    {
     "name": "stdout",
     "output_type": "stream",
     "text": [
      "7 0.6333193926084707 0.7653412126068376 0.7575120329856873\n"
     ]
    },
    {
     "name": "stderr",
     "output_type": "stream",
     "text": [
      "100%|█████████████████████████████████████████| 234/234 [00:05<00:00, 40.30it/s]\n"
     ]
    },
    {
     "name": "stdout",
     "output_type": "stream",
     "text": [
      "8 0.6152223133733856 0.7712339743589743 0.765625\n"
     ]
    },
    {
     "name": "stderr",
     "output_type": "stream",
     "text": [
      "100%|█████████████████████████████████████████| 234/234 [00:05<00:00, 41.10it/s]\n"
     ]
    },
    {
     "name": "stdout",
     "output_type": "stream",
     "text": [
      "9 0.5959182781978738 0.7802150106837606 0.7768429517745972\n"
     ]
    },
    {
     "name": "stderr",
     "output_type": "stream",
     "text": [
      "100%|█████████████████████████████████████████| 234/234 [00:05<00:00, 41.04it/s]\n"
     ]
    },
    {
     "name": "stdout",
     "output_type": "stream",
     "text": [
      "10 0.5779559594367195 0.7873597756410257 0.7736378312110901\n"
     ]
    },
    {
     "name": "stderr",
     "output_type": "stream",
     "text": [
      "100%|█████████████████████████████████████████| 234/234 [00:05<00:00, 41.11it/s]\n"
     ]
    },
    {
     "name": "stdout",
     "output_type": "stream",
     "text": [
      "11 0.5644946691815945 0.7906984508547008 0.7751402258872986\n"
     ]
    },
    {
     "name": "stderr",
     "output_type": "stream",
     "text": [
      "100%|█████████████████████████████████████████| 234/234 [00:05<00:00, 39.70it/s]\n"
     ]
    },
    {
     "name": "stdout",
     "output_type": "stream",
     "text": [
      "12 0.5525223744529512 0.7971087072649573 0.7836538553237915\n"
     ]
    },
    {
     "name": "stderr",
     "output_type": "stream",
     "text": [
      "100%|█████████████████████████████████████████| 234/234 [00:05<00:00, 39.31it/s]\n"
     ]
    },
    {
     "name": "stdout",
     "output_type": "stream",
     "text": [
      "13 0.5370414060072838 0.8034354967948718 0.7727363705635071\n"
     ]
    },
    {
     "name": "stderr",
     "output_type": "stream",
     "text": [
      "100%|█████████████████████████████████████████| 234/234 [00:05<00:00, 39.54it/s]\n"
     ]
    },
    {
     "name": "stdout",
     "output_type": "stream",
     "text": [
      "14 0.5247860997275733 0.807792467948718 0.802584171295166\n"
     ]
    },
    {
     "name": "stderr",
     "output_type": "stream",
     "text": [
      "100%|█████████████████████████████████████████| 234/234 [00:05<00:00, 40.84it/s]\n"
     ]
    },
    {
     "name": "stdout",
     "output_type": "stream",
     "text": [
      "15 0.5170008702595347 0.810813969017094 0.7934695482254028\n"
     ]
    },
    {
     "name": "stderr",
     "output_type": "stream",
     "text": [
      "100%|█████████████████████████████████████████| 234/234 [00:05<00:00, 40.90it/s]\n"
     ]
    },
    {
     "name": "stdout",
     "output_type": "stream",
     "text": [
      "16 0.5019518697210648 0.8169571314102564 0.8081931471824646\n"
     ]
    },
    {
     "name": "stderr",
     "output_type": "stream",
     "text": [
      "100%|█████████████████████████████████████████| 234/234 [00:05<00:00, 41.01it/s]\n"
     ]
    },
    {
     "name": "stdout",
     "output_type": "stream",
     "text": [
      "17 0.49619489115195214 0.8173911591880342 0.7994791865348816\n"
     ]
    },
    {
     "name": "stderr",
     "output_type": "stream",
     "text": [
      "100%|█████████████████████████████████████████| 234/234 [00:05<00:00, 41.03it/s]\n"
     ]
    },
    {
     "name": "stdout",
     "output_type": "stream",
     "text": [
      "18 0.4845295579136697 0.8205962873931624 0.8199118971824646\n"
     ]
    },
    {
     "name": "stderr",
     "output_type": "stream",
     "text": [
      "100%|█████████████████████████████████████████| 234/234 [00:05<00:00, 40.87it/s]\n"
     ]
    },
    {
     "name": "stdout",
     "output_type": "stream",
     "text": [
      "19 0.47651086523809144 0.8248364049145299 0.8156049847602844\n"
     ]
    },
    {
     "name": "stderr",
     "output_type": "stream",
     "text": [
      "100%|█████████████████████████████████████████| 234/234 [00:05<00:00, 40.83it/s]\n"
     ]
    },
    {
     "name": "stdout",
     "output_type": "stream",
     "text": [
      "20 0.4703686141404983 0.8279246794871795 0.823317289352417\n"
     ]
    },
    {
     "name": "stderr",
     "output_type": "stream",
     "text": [
      "100%|█████████████████████████████████████████| 234/234 [00:05<00:00, 40.88it/s]\n"
     ]
    },
    {
     "name": "stdout",
     "output_type": "stream",
     "text": [
      "21 0.4630868303161834 0.8305121527777778 0.8254206776618958\n"
     ]
    },
    {
     "name": "stderr",
     "output_type": "stream",
     "text": [
      "100%|█████████████████████████████████████████| 234/234 [00:05<00:00, 40.90it/s]\n"
     ]
    },
    {
     "name": "stdout",
     "output_type": "stream",
     "text": [
      "22 0.4584410698372919 0.8327657585470085 0.8300280570983887\n"
     ]
    },
    {
     "name": "stderr",
     "output_type": "stream",
     "text": [
      "100%|█████████████████████████████████████████| 234/234 [00:05<00:00, 40.90it/s]\n"
     ]
    },
    {
     "name": "stdout",
     "output_type": "stream",
     "text": [
      "23 0.45094845555882596 0.8353198450854701 0.8287259936332703\n"
     ]
    },
    {
     "name": "stderr",
     "output_type": "stream",
     "text": [
      "100%|█████████████████████████████████████████| 234/234 [00:05<00:00, 40.79it/s]\n"
     ]
    },
    {
     "name": "stdout",
     "output_type": "stream",
     "text": [
      "24 0.4439501356925064 0.8374732905982906 0.8282251954078674\n"
     ]
    },
    {
     "name": "stderr",
     "output_type": "stream",
     "text": [
      "100%|█████████████████████████████████████████| 234/234 [00:05<00:00, 40.87it/s]\n"
     ]
    },
    {
     "name": "stdout",
     "output_type": "stream",
     "text": [
      "25 0.4394882913566966 0.8395599626068376 0.8266226053237915\n"
     ]
    },
    {
     "name": "stderr",
     "output_type": "stream",
     "text": [
      "100%|█████████████████████████████████████████| 234/234 [00:05<00:00, 40.90it/s]\n"
     ]
    },
    {
     "name": "stdout",
     "output_type": "stream",
     "text": [
      "26 0.4344742562893634 0.8422309027777778 0.8240184187889099\n"
     ]
    },
    {
     "name": "stderr",
     "output_type": "stream",
     "text": [
      "100%|█████████████████████████████████████████| 234/234 [00:05<00:00, 40.83it/s]\n"
     ]
    },
    {
     "name": "stdout",
     "output_type": "stream",
     "text": [
      "27 0.42766318671693104 0.8436331463675214 0.83984375\n"
     ]
    },
    {
     "name": "stderr",
     "output_type": "stream",
     "text": [
      "100%|█████████████████████████████████████████| 234/234 [00:05<00:00, 40.98it/s]\n"
     ]
    },
    {
     "name": "stdout",
     "output_type": "stream",
     "text": [
      "28 0.42280128636585285 0.8457698985042735 0.8363381624221802\n"
     ]
    },
    {
     "name": "stderr",
     "output_type": "stream",
     "text": [
      "100%|█████████████████████████████████████████| 234/234 [00:05<00:00, 40.94it/s]\n"
     ]
    },
    {
     "name": "stdout",
     "output_type": "stream",
     "text": [
      "29 0.419025404258859 0.8474058493589743 0.836838960647583\n"
     ]
    },
    {
     "name": "stderr",
     "output_type": "stream",
     "text": [
      "100%|█████████████████████████████████████████| 234/234 [00:05<00:00, 40.93it/s]\n"
     ]
    },
    {
     "name": "stdout",
     "output_type": "stream",
     "text": [
      "30 0.4123797774826508 0.850761217948718 0.8432492017745972\n"
     ]
    },
    {
     "name": "stderr",
     "output_type": "stream",
     "text": [
      "100%|█████████████████████████████████████████| 234/234 [00:05<00:00, 40.96it/s]\n"
     ]
    },
    {
     "name": "stdout",
     "output_type": "stream",
     "text": [
      "31 0.40958063157331276 0.8503939636752137 0.8453525900840759\n"
     ]
    },
    {
     "name": "stderr",
     "output_type": "stream",
     "text": [
      "100%|█████████████████████████████████████████| 234/234 [00:05<00:00, 40.84it/s]\n"
     ]
    },
    {
     "name": "stdout",
     "output_type": "stream",
     "text": [
      "32 0.40484881106876 0.8526642628205128 0.8438501954078674\n"
     ]
    },
    {
     "name": "stderr",
     "output_type": "stream",
     "text": [
      "100%|█████████████████████████████████████████| 234/234 [00:05<00:00, 40.96it/s]\n"
     ]
    },
    {
     "name": "stdout",
     "output_type": "stream",
     "text": [
      "33 0.40144159775946786 0.8535490117521367 0.8431490659713745\n"
     ]
    },
    {
     "name": "stderr",
     "output_type": "stream",
     "text": [
      "100%|█████████████████████████████████████████| 234/234 [00:05<00:00, 40.83it/s]\n"
     ]
    },
    {
     "name": "stdout",
     "output_type": "stream",
     "text": [
      "34 0.3982188143315745 0.8543836805555556 0.8449519276618958\n"
     ]
    },
    {
     "name": "stderr",
     "output_type": "stream",
     "text": [
      "100%|█████████████████████████████████████████| 234/234 [00:05<00:00, 40.91it/s]\n"
     ]
    },
    {
     "name": "stdout",
     "output_type": "stream",
     "text": [
      "35 0.3919975083529182 0.8563368055555556 0.8427484035491943\n"
     ]
    },
    {
     "name": "stderr",
     "output_type": "stream",
     "text": [
      "100%|█████████████████████████████████████████| 234/234 [00:05<00:00, 40.91it/s]\n"
     ]
    },
    {
     "name": "stdout",
     "output_type": "stream",
     "text": [
      "36 0.3899285821443975 0.8570045405982906 0.8508613705635071\n"
     ]
    },
    {
     "name": "stderr",
     "output_type": "stream",
     "text": [
      "100%|█████████████████████████████████████████| 234/234 [00:05<00:00, 40.86it/s]\n"
     ]
    },
    {
     "name": "stdout",
     "output_type": "stream",
     "text": [
      "37 0.38575175711525356 0.8580562232905983 0.8539663553237915\n"
     ]
    },
    {
     "name": "stderr",
     "output_type": "stream",
     "text": [
      "100%|█████████████████████████████████████████| 234/234 [00:05<00:00, 40.83it/s]\n"
     ]
    },
    {
     "name": "stdout",
     "output_type": "stream",
     "text": [
      "38 0.3838063254632663 0.8596587873931624 0.8452523946762085\n"
     ]
    },
    {
     "name": "stderr",
     "output_type": "stream",
     "text": [
      "100%|█████████████████████████████████████████| 234/234 [00:05<00:00, 40.83it/s]\n"
     ]
    },
    {
     "name": "stdout",
     "output_type": "stream",
     "text": [
      "39 0.37946960278846675 0.862129407051282 0.8550681471824646\n"
     ]
    },
    {
     "name": "stderr",
     "output_type": "stream",
     "text": [
      "100%|█████████████████████████████████████████| 234/234 [00:05<00:00, 40.89it/s]\n"
     ]
    },
    {
     "name": "stdout",
     "output_type": "stream",
     "text": [
      "40 0.37551421592163936 0.8618289262820513 0.8537660241127014\n"
     ]
    },
    {
     "name": "stderr",
     "output_type": "stream",
     "text": [
      "100%|█████████████████████████████████████████| 234/234 [00:05<00:00, 40.78it/s]\n"
     ]
    },
    {
     "name": "stdout",
     "output_type": "stream",
     "text": [
      "41 0.3734026675316397 0.863548344017094 0.8552684187889099\n"
     ]
    },
    {
     "name": "stderr",
     "output_type": "stream",
     "text": [
      "100%|█████████████████████████████████████████| 234/234 [00:05<00:00, 40.84it/s]\n"
     ]
    },
    {
     "name": "stdout",
     "output_type": "stream",
     "text": [
      "42 0.3687694892607022 0.8667534722222222 0.8559695482254028\n"
     ]
    },
    {
     "name": "stderr",
     "output_type": "stream",
     "text": [
      "100%|█████████████████████████████████████████| 234/234 [00:05<00:00, 40.75it/s]\n"
     ]
    },
    {
     "name": "stdout",
     "output_type": "stream",
     "text": [
      "43 0.3658951600222117 0.8666366185897436 0.8457531929016113\n"
     ]
    },
    {
     "name": "stderr",
     "output_type": "stream",
     "text": [
      "100%|█████████████████████████████████████████| 234/234 [00:05<00:00, 40.75it/s]\n"
     ]
    },
    {
     "name": "stdout",
     "output_type": "stream",
     "text": [
      "44 0.36452927379649086 0.8664863782051282 0.8574719429016113\n"
     ]
    },
    {
     "name": "stderr",
     "output_type": "stream",
     "text": [
      "100%|█████████████████████████████████████████| 234/234 [00:05<00:00, 40.78it/s]\n"
     ]
    },
    {
     "name": "stdout",
     "output_type": "stream",
     "text": [
      "45 0.3615756218397566 0.8679053151709402 0.8525640964508057\n"
     ]
    },
    {
     "name": "stderr",
     "output_type": "stream",
     "text": [
      "100%|█████████████████████████████████████████| 234/234 [00:05<00:00, 40.84it/s]\n"
     ]
    },
    {
     "name": "stdout",
     "output_type": "stream",
     "text": [
      "46 0.3595039389164151 0.8685062767094017 0.8615785241127014\n"
     ]
    },
    {
     "name": "stderr",
     "output_type": "stream",
     "text": [
      "100%|█████████████████████████████████████████| 234/234 [00:05<00:00, 41.01it/s]\n"
     ]
    },
    {
     "name": "stdout",
     "output_type": "stream",
     "text": [
      "47 0.3545524751040045 0.8714443108974359 0.8586738705635071\n"
     ]
    },
    {
     "name": "stderr",
     "output_type": "stream",
     "text": [
      "100%|█████████████████████████████████████████| 234/234 [00:05<00:00, 40.95it/s]\n"
     ]
    },
    {
     "name": "stdout",
     "output_type": "stream",
     "text": [
      "48 0.352692999936992 0.8718115651709402 0.8501602411270142\n"
     ]
    },
    {
     "name": "stderr",
     "output_type": "stream",
     "text": [
      "100%|█████████████████████████████████████████| 234/234 [00:05<00:00, 40.91it/s]\n"
     ]
    },
    {
     "name": "stdout",
     "output_type": "stream",
     "text": [
      "49 0.3503694414069213 0.8726629273504274 0.8402444124221802\n"
     ]
    },
    {
     "name": "stderr",
     "output_type": "stream",
     "text": [
      "100%|█████████████████████████████████████████| 234/234 [00:05<00:00, 40.91it/s]\n"
     ]
    },
    {
     "name": "stdout",
     "output_type": "stream",
     "text": [
      "50 0.3459739587849302 0.8739483173076923 0.8590745329856873\n"
     ]
    },
    {
     "name": "stderr",
     "output_type": "stream",
     "text": [
      "100%|█████████████████████████████████████████| 234/234 [00:05<00:00, 40.87it/s]\n"
     ]
    },
    {
     "name": "stdout",
     "output_type": "stream",
     "text": [
      "51 0.34447857545680755 0.8734642094017094 0.8608773946762085\n"
     ]
    },
    {
     "name": "stderr",
     "output_type": "stream",
     "text": [
      "100%|█████████████████████████████████████████| 234/234 [00:05<00:00, 40.31it/s]\n"
     ]
    },
    {
     "name": "stdout",
     "output_type": "stream",
     "text": [
      "52 0.34218414198175523 0.8753171741452992 0.8511618971824646\n"
     ]
    },
    {
     "name": "stderr",
     "output_type": "stream",
     "text": [
      "100%|█████████████████████████████████████████| 234/234 [00:05<00:00, 40.94it/s]\n"
     ]
    },
    {
     "name": "stdout",
     "output_type": "stream",
     "text": [
      "53 0.34096398495553387 0.8759515224358975 0.8509615659713745\n"
     ]
    },
    {
     "name": "stderr",
     "output_type": "stream",
     "text": [
      "100%|█████████████████████████████████████████| 234/234 [00:05<00:00, 40.87it/s]\n"
     ]
    },
    {
     "name": "stdout",
     "output_type": "stream",
     "text": [
      "54 0.33682565653272967 0.8776709401709402 0.859375\n"
     ]
    },
    {
     "name": "stderr",
     "output_type": "stream",
     "text": [
      "100%|█████████████████████████████████████████| 234/234 [00:05<00:00, 40.83it/s]\n"
     ]
    },
    {
     "name": "stdout",
     "output_type": "stream",
     "text": [
      "55 0.3369622908436689 0.8768696581196581 0.8657852411270142\n"
     ]
    },
    {
     "name": "stderr",
     "output_type": "stream",
     "text": [
      "100%|█████████████████████████████████████████| 234/234 [00:05<00:00, 40.81it/s]\n"
     ]
    },
    {
     "name": "stdout",
     "output_type": "stream",
     "text": [
      "56 0.33347743519386 0.8776375534188035 0.8651843070983887\n"
     ]
    },
    {
     "name": "stderr",
     "output_type": "stream",
     "text": [
      "100%|█████████████████████████████████████████| 234/234 [00:05<00:00, 40.67it/s]\n"
     ]
    },
    {
     "name": "stdout",
     "output_type": "stream",
     "text": [
      "57 0.3309648986026453 0.8788394764957265 0.868088960647583\n"
     ]
    },
    {
     "name": "stderr",
     "output_type": "stream",
     "text": [
      "100%|█████████████████████████████████████████| 234/234 [00:05<00:00, 40.88it/s]\n"
     ]
    },
    {
     "name": "stdout",
     "output_type": "stream",
     "text": [
      "58 0.3289654624564453 0.8796741452991453 0.8633814454078674\n"
     ]
    },
    {
     "name": "stderr",
     "output_type": "stream",
     "text": [
      "100%|█████████████████████████████████████████| 234/234 [00:05<00:00, 40.95it/s]\n"
     ]
    },
    {
     "name": "stdout",
     "output_type": "stream",
     "text": [
      "59 0.32852024888787656 0.8798410790598291 0.8612780570983887\n"
     ]
    },
    {
     "name": "stderr",
     "output_type": "stream",
     "text": [
      "100%|█████████████████████████████████████████| 234/234 [00:05<00:00, 40.72it/s]\n"
     ]
    },
    {
     "name": "stdout",
     "output_type": "stream",
     "text": [
      "60 0.3243250310932618 0.8822115384615384 0.8573718070983887\n"
     ]
    },
    {
     "name": "stderr",
     "output_type": "stream",
     "text": [
      "100%|█████████████████████████████████████████| 234/234 [00:05<00:00, 40.73it/s]\n"
     ]
    },
    {
     "name": "stdout",
     "output_type": "stream",
     "text": [
      "61 0.32255006386486756 0.8816773504273504 0.8696914911270142\n"
     ]
    },
    {
     "name": "stderr",
     "output_type": "stream",
     "text": [
      "100%|█████████████████████████████████████████| 234/234 [00:05<00:00, 40.60it/s]\n"
     ]
    },
    {
     "name": "stdout",
     "output_type": "stream",
     "text": [
      "62 0.32041817903518677 0.8829126602564102 0.8681890964508057\n"
     ]
    },
    {
     "name": "stderr",
     "output_type": "stream",
     "text": [
      "100%|█████████████████████████████████████████| 234/234 [00:05<00:00, 40.73it/s]\n"
     ]
    },
    {
     "name": "stdout",
     "output_type": "stream",
     "text": [
      "63 0.31920864519387354 0.884498530982906 0.8678886294364929\n"
     ]
    },
    {
     "name": "stderr",
     "output_type": "stream",
     "text": [
      "100%|█████████████████████████████████████████| 234/234 [00:05<00:00, 40.81it/s]\n"
     ]
    },
    {
     "name": "stdout",
     "output_type": "stream",
     "text": [
      "64 0.3164584811281237 0.8846988514957265 0.859375\n"
     ]
    },
    {
     "name": "stderr",
     "output_type": "stream",
     "text": [
      "100%|█████████████████████████████████████████| 234/234 [00:05<00:00, 40.74it/s]\n"
     ]
    },
    {
     "name": "stdout",
     "output_type": "stream",
     "text": [
      "65 0.31599676954388106 0.8852330395299145 0.8670873641967773\n"
     ]
    },
    {
     "name": "stderr",
     "output_type": "stream",
     "text": [
      "100%|█████████████████████████████████████████| 234/234 [00:05<00:00, 40.81it/s]\n"
     ]
    },
    {
     "name": "stdout",
     "output_type": "stream",
     "text": [
      "66 0.313277449091105 0.885299813034188 0.8686898946762085\n"
     ]
    },
    {
     "name": "stderr",
     "output_type": "stream",
     "text": [
      "100%|█████████████████████████████████████████| 234/234 [00:05<00:00, 40.81it/s]\n"
     ]
    },
    {
     "name": "stdout",
     "output_type": "stream",
     "text": [
      "67 0.3107725320455854 0.8878872863247863 0.8704928159713745\n"
     ]
    },
    {
     "name": "stderr",
     "output_type": "stream",
     "text": [
      "100%|█████████████████████████████████████████| 234/234 [00:05<00:00, 40.81it/s]\n"
     ]
    },
    {
     "name": "stdout",
     "output_type": "stream",
     "text": [
      "68 0.31162232237312415 0.8852330395299145 0.8636819124221802\n"
     ]
    },
    {
     "name": "stderr",
     "output_type": "stream",
     "text": [
      "100%|█████████████████████████████████████████| 234/234 [00:05<00:00, 40.75it/s]\n"
     ]
    },
    {
     "name": "stdout",
     "output_type": "stream",
     "text": [
      "69 0.3082266211381798 0.8873530982905983 0.8700921535491943\n"
     ]
    },
    {
     "name": "stderr",
     "output_type": "stream",
     "text": [
      "100%|█████████████████████████████████████████| 234/234 [00:05<00:00, 40.85it/s]\n"
     ]
    },
    {
     "name": "stdout",
     "output_type": "stream",
     "text": [
      "70 0.3057498148454617 0.8890725160256411 0.8694912195205688\n"
     ]
    },
    {
     "name": "stderr",
     "output_type": "stream",
     "text": [
      "100%|█████████████████████████████████████████| 234/234 [00:05<00:00, 40.71it/s]\n"
     ]
    },
    {
     "name": "stdout",
     "output_type": "stream",
     "text": [
      "71 0.3046914628774823 0.8893062232905983 0.8747996687889099\n"
     ]
    },
    {
     "name": "stderr",
     "output_type": "stream",
     "text": [
      "100%|█████████████████████████████████████████| 234/234 [00:05<00:00, 40.77it/s]\n"
     ]
    },
    {
     "name": "stdout",
     "output_type": "stream",
     "text": [
      "72 0.30196372685002665 0.8885717147435898 0.8736979365348816\n"
     ]
    },
    {
     "name": "stderr",
     "output_type": "stream",
     "text": [
      "100%|█████████████████████████████████████████| 234/234 [00:05<00:00, 40.91it/s]\n"
     ]
    },
    {
     "name": "stdout",
     "output_type": "stream",
     "text": [
      "73 0.3008008158002289 0.8890558226495726 0.8742988705635071\n"
     ]
    },
    {
     "name": "stderr",
     "output_type": "stream",
     "text": [
      "100%|█████████████████████████████████████████| 234/234 [00:05<00:00, 40.79it/s]\n"
     ]
    },
    {
     "name": "stdout",
     "output_type": "stream",
     "text": [
      "74 0.2991522462966616 0.8905415331196581 0.8715945482254028\n"
     ]
    },
    {
     "name": "stderr",
     "output_type": "stream",
     "text": [
      "100%|█████████████████████████████████████████| 234/234 [00:05<00:00, 40.60it/s]\n"
     ]
    },
    {
     "name": "stdout",
     "output_type": "stream",
     "text": [
      "75 0.29783973967568556 0.892311030982906 0.8691906929016113\n"
     ]
    },
    {
     "name": "stderr",
     "output_type": "stream",
     "text": [
      "100%|█████████████████████████████████████████| 234/234 [00:05<00:00, 40.50it/s]\n"
     ]
    },
    {
     "name": "stdout",
     "output_type": "stream",
     "text": [
      "76 0.29624026598081055 0.8920272435897436 0.8687900900840759\n"
     ]
    },
    {
     "name": "stderr",
     "output_type": "stream",
     "text": [
      "100%|█████████████████████████████████████████| 234/234 [00:05<00:00, 40.40it/s]\n"
     ]
    },
    {
     "name": "stdout",
     "output_type": "stream",
     "text": [
      "77 0.29319406182469215 0.8941139155982906 0.8717948794364929\n"
     ]
    },
    {
     "name": "stderr",
     "output_type": "stream",
     "text": [
      "100%|█████████████████████████████████████████| 234/234 [00:05<00:00, 40.43it/s]\n"
     ]
    },
    {
     "name": "stdout",
     "output_type": "stream",
     "text": [
      "78 0.29219328129240374 0.893112313034188 0.8726963400840759\n"
     ]
    },
    {
     "name": "stderr",
     "output_type": "stream",
     "text": [
      "100%|█████████████████████████████████████████| 234/234 [00:05<00:00, 40.53it/s]\n"
     ]
    },
    {
     "name": "stdout",
     "output_type": "stream",
     "text": [
      "79 0.29193789547093435 0.8929620726495726 0.8619791865348816\n"
     ]
    },
    {
     "name": "stderr",
     "output_type": "stream",
     "text": [
      "100%|█████████████████████████████████████████| 234/234 [00:05<00:00, 40.33it/s]\n"
     ]
    },
    {
     "name": "stdout",
     "output_type": "stream",
     "text": [
      "80 0.2899936080746385 0.8934294871794872 0.8660857677459717\n"
     ]
    },
    {
     "name": "stderr",
     "output_type": "stream",
     "text": [
      "100%|█████████████████████████████████████████| 234/234 [00:05<00:00, 40.59it/s]\n"
     ]
    },
    {
     "name": "stdout",
     "output_type": "stream",
     "text": [
      "81 0.29012560716514424 0.8927116720085471 0.8753004670143127\n"
     ]
    },
    {
     "name": "stderr",
     "output_type": "stream",
     "text": [
      "100%|█████████████████████████████████████████| 234/234 [00:05<00:00, 40.56it/s]\n"
     ]
    },
    {
     "name": "stdout",
     "output_type": "stream",
     "text": [
      "82 0.2865848740155093 0.8954159989316239 0.8716947436332703\n"
     ]
    },
    {
     "name": "stderr",
     "output_type": "stream",
     "text": [
      "100%|█████████████████████████████████████████| 234/234 [00:05<00:00, 40.45it/s]\n"
     ]
    },
    {
     "name": "stdout",
     "output_type": "stream",
     "text": [
      "83 0.2844040721910706 0.8957999465811965 0.8777043223381042\n"
     ]
    },
    {
     "name": "stderr",
     "output_type": "stream",
     "text": [
      "100%|█████████████████████████████████████████| 234/234 [00:05<00:00, 40.55it/s]\n"
     ]
    },
    {
     "name": "stdout",
     "output_type": "stream",
     "text": [
      "84 0.2854708855244223 0.8954994658119658 0.8788061141967773\n"
     ]
    },
    {
     "name": "stderr",
     "output_type": "stream",
     "text": [
      "100%|█████████████████████████████████████████| 234/234 [00:05<00:00, 40.64it/s]\n"
     ]
    },
    {
     "name": "stdout",
     "output_type": "stream",
     "text": [
      "85 0.28146086428554273 0.8965344551282052 0.8758012652397156\n"
     ]
    },
    {
     "name": "stderr",
     "output_type": "stream",
     "text": [
      "100%|█████████████████████████████████████████| 234/234 [00:05<00:00, 40.53it/s]\n"
     ]
    },
    {
     "name": "stdout",
     "output_type": "stream",
     "text": [
      "86 0.28084389775863533 0.896217280982906 0.8726963400840759\n"
     ]
    },
    {
     "name": "stderr",
     "output_type": "stream",
     "text": [
      "100%|█████████████████████████████████████████| 234/234 [00:05<00:00, 40.67it/s]\n"
     ]
    },
    {
     "name": "stdout",
     "output_type": "stream",
     "text": [
      "87 0.27748971237389314 0.8980869391025641 0.8621795177459717\n"
     ]
    },
    {
     "name": "stderr",
     "output_type": "stream",
     "text": [
      "100%|█████████████████████████████████████████| 234/234 [00:05<00:00, 40.60it/s]\n"
     ]
    },
    {
     "name": "stdout",
     "output_type": "stream",
     "text": [
      "88 0.277425506212169 0.8980869391025641 0.876802921295166\n"
     ]
    },
    {
     "name": "stderr",
     "output_type": "stream",
     "text": [
      "100%|█████████████████████████████████████████| 234/234 [00:05<00:00, 40.55it/s]\n"
     ]
    },
    {
     "name": "stdout",
     "output_type": "stream",
     "text": [
      "89 0.2783099531871566 0.8971688034188035 0.87890625\n"
     ]
    },
    {
     "name": "stderr",
     "output_type": "stream",
     "text": [
      "100%|█████████████████████████████████████████| 234/234 [00:05<00:00, 40.60it/s]\n"
     ]
    },
    {
     "name": "stdout",
     "output_type": "stream",
     "text": [
      "90 0.2753158824382422 0.8984708867521367 0.8777043223381042\n"
     ]
    },
    {
     "name": "stderr",
     "output_type": "stream",
     "text": [
      "100%|█████████████████████████████████████████| 234/234 [00:05<00:00, 40.70it/s]\n"
     ]
    },
    {
     "name": "stdout",
     "output_type": "stream",
     "text": [
      "91 0.2735794750661809 0.8996895032051282 0.8765023946762085\n"
     ]
    },
    {
     "name": "stderr",
     "output_type": "stream",
     "text": [
      "100%|█████████████████████████████████████████| 234/234 [00:05<00:00, 40.63it/s]\n"
     ]
    },
    {
     "name": "stdout",
     "output_type": "stream",
     "text": [
      "92 0.27044038020490063 0.9007578792735043 0.8784054517745972\n"
     ]
    },
    {
     "name": "stderr",
     "output_type": "stream",
     "text": [
      "100%|█████████████████████████████████████████| 234/234 [00:05<00:00, 40.49it/s]\n"
     ]
    },
    {
     "name": "stdout",
     "output_type": "stream",
     "text": [
      "93 0.2712521351586084 0.8998731303418803 0.8659855723381042\n"
     ]
    },
    {
     "name": "stderr",
     "output_type": "stream",
     "text": [
      "100%|█████████████████████████████████████████| 234/234 [00:05<00:00, 40.69it/s]\n"
     ]
    },
    {
     "name": "stdout",
     "output_type": "stream",
     "text": [
      "94 0.27016606626336664 0.9004073183760684 0.8766025900840759\n"
     ]
    },
    {
     "name": "stderr",
     "output_type": "stream",
     "text": [
      "100%|█████████████████████████████████████████| 234/234 [00:05<00:00, 40.63it/s]\n"
     ]
    },
    {
     "name": "stdout",
     "output_type": "stream",
     "text": [
      "95 0.2681702619714287 0.9014256143162394 0.8799078464508057\n"
     ]
    },
    {
     "name": "stderr",
     "output_type": "stream",
     "text": [
      "100%|█████████████████████████████████████████| 234/234 [00:05<00:00, 40.73it/s]\n"
     ]
    },
    {
     "name": "stdout",
     "output_type": "stream",
     "text": [
      "96 0.26605742818040395 0.90234375 0.879807710647583\n"
     ]
    },
    {
     "name": "stderr",
     "output_type": "stream",
     "text": [
      "100%|█████████████████████████████████████████| 234/234 [00:05<00:00, 40.64it/s]\n"
     ]
    },
    {
     "name": "stdout",
     "output_type": "stream",
     "text": [
      "97 0.2656927853822708 0.9022268963675214 0.8603765964508057\n"
     ]
    },
    {
     "name": "stderr",
     "output_type": "stream",
     "text": [
      "100%|█████████████████████████████████████████| 234/234 [00:05<00:00, 40.57it/s]\n"
     ]
    },
    {
     "name": "stdout",
     "output_type": "stream",
     "text": [
      "98 0.2643988758581391 0.9029947916666666 0.8800080418586731\n"
     ]
    },
    {
     "name": "stderr",
     "output_type": "stream",
     "text": [
      "100%|█████████████████████████████████████████| 234/234 [00:05<00:00, 40.24it/s]\n"
     ]
    },
    {
     "name": "stdout",
     "output_type": "stream",
     "text": [
      "99 0.26410239608758507 0.9030281784188035 0.8811097741127014\n",
      "-----------training finished-----------\n",
      "train_losses:  [2.306303170617558, 2.056442906416537, 1.0087311257620226, 0.8143085868061868, 0.7385250294157364, 0.6918539594171385, 0.6565865608243984, 0.6333193926084707, 0.6152223133733856, 0.5959182781978738, 0.5779559594367195, 0.5644946691815945, 0.5525223744529512, 0.5370414060072838, 0.5247860997275733, 0.5170008702595347, 0.5019518697210648, 0.49619489115195214, 0.4845295579136697, 0.47651086523809144, 0.4703686141404983, 0.4630868303161834, 0.4584410698372919, 0.45094845555882596, 0.4439501356925064, 0.4394882913566966, 0.4344742562893634, 0.42766318671693104, 0.42280128636585285, 0.419025404258859, 0.4123797774826508, 0.40958063157331276, 0.40484881106876, 0.40144159775946786, 0.3982188143315745, 0.3919975083529182, 0.3899285821443975, 0.38575175711525356, 0.3838063254632663, 0.37946960278846675, 0.37551421592163936, 0.3734026675316397, 0.3687694892607022, 0.3658951600222117, 0.36452927379649086, 0.3615756218397566, 0.3595039389164151, 0.3545524751040045, 0.352692999936992, 0.3503694414069213, 0.3459739587849302, 0.34447857545680755, 0.34218414198175523, 0.34096398495553387, 0.33682565653272967, 0.3369622908436689, 0.33347743519386, 0.3309648986026453, 0.3289654624564453, 0.32852024888787656, 0.3243250310932618, 0.32255006386486756, 0.32041817903518677, 0.31920864519387354, 0.3164584811281237, 0.31599676954388106, 0.313277449091105, 0.3107725320455854, 0.31162232237312415, 0.3082266211381798, 0.3057498148454617, 0.3046914628774823, 0.30196372685002665, 0.3008008158002289, 0.2991522462966616, 0.29783973967568556, 0.29624026598081055, 0.29319406182469215, 0.29219328129240374, 0.29193789547093435, 0.2899936080746385, 0.29012560716514424, 0.2865848740155093, 0.2844040721910706, 0.2854708855244223, 0.28146086428554273, 0.28084389775863533, 0.27748971237389314, 0.277425506212169, 0.2783099531871566, 0.2753158824382422, 0.2735794750661809, 0.27044038020490063, 0.2712521351586084, 0.27016606626336664, 0.2681702619714287, 0.26605742818040395, 0.2656927853822708, 0.2643988758581391, 0.26410239608758507]\n",
      "train_acc:  [0.13603432158119658, 0.2961738782051282, 0.6194744925213675, 0.6936097756410257, 0.7228231837606838, 0.7431891025641025, 0.7554086538461539, 0.7653412126068376, 0.7712339743589743, 0.7802150106837606, 0.7873597756410257, 0.7906984508547008, 0.7971087072649573, 0.8034354967948718, 0.807792467948718, 0.810813969017094, 0.8169571314102564, 0.8173911591880342, 0.8205962873931624, 0.8248364049145299, 0.8279246794871795, 0.8305121527777778, 0.8327657585470085, 0.8353198450854701, 0.8374732905982906, 0.8395599626068376, 0.8422309027777778, 0.8436331463675214, 0.8457698985042735, 0.8474058493589743, 0.850761217948718, 0.8503939636752137, 0.8526642628205128, 0.8535490117521367, 0.8543836805555556, 0.8563368055555556, 0.8570045405982906, 0.8580562232905983, 0.8596587873931624, 0.862129407051282, 0.8618289262820513, 0.863548344017094, 0.8667534722222222, 0.8666366185897436, 0.8664863782051282, 0.8679053151709402, 0.8685062767094017, 0.8714443108974359, 0.8718115651709402, 0.8726629273504274, 0.8739483173076923, 0.8734642094017094, 0.8753171741452992, 0.8759515224358975, 0.8776709401709402, 0.8768696581196581, 0.8776375534188035, 0.8788394764957265, 0.8796741452991453, 0.8798410790598291, 0.8822115384615384, 0.8816773504273504, 0.8829126602564102, 0.884498530982906, 0.8846988514957265, 0.8852330395299145, 0.885299813034188, 0.8878872863247863, 0.8852330395299145, 0.8873530982905983, 0.8890725160256411, 0.8893062232905983, 0.8885717147435898, 0.8890558226495726, 0.8905415331196581, 0.892311030982906, 0.8920272435897436, 0.8941139155982906, 0.893112313034188, 0.8929620726495726, 0.8934294871794872, 0.8927116720085471, 0.8954159989316239, 0.8957999465811965, 0.8954994658119658, 0.8965344551282052, 0.896217280982906, 0.8980869391025641, 0.8980869391025641, 0.8971688034188035, 0.8984708867521367, 0.8996895032051282, 0.9007578792735043, 0.8998731303418803, 0.9004073183760684, 0.9014256143162394, 0.90234375, 0.9022268963675214, 0.9029947916666666, 0.9030281784188035]\n",
      "val_acc:  [0.15034054219722748, 0.563401460647583, 0.6586538553237915, 0.6737780570983887, 0.7237580418586731, 0.7425881624221802, 0.7597155570983887, 0.7575120329856873, 0.765625, 0.7768429517745972, 0.7736378312110901, 0.7751402258872986, 0.7836538553237915, 0.7727363705635071, 0.802584171295166, 0.7934695482254028, 0.8081931471824646, 0.7994791865348816, 0.8199118971824646, 0.8156049847602844, 0.823317289352417, 0.8254206776618958, 0.8300280570983887, 0.8287259936332703, 0.8282251954078674, 0.8266226053237915, 0.8240184187889099, 0.83984375, 0.8363381624221802, 0.836838960647583, 0.8432492017745972, 0.8453525900840759, 0.8438501954078674, 0.8431490659713745, 0.8449519276618958, 0.8427484035491943, 0.8508613705635071, 0.8539663553237915, 0.8452523946762085, 0.8550681471824646, 0.8537660241127014, 0.8552684187889099, 0.8559695482254028, 0.8457531929016113, 0.8574719429016113, 0.8525640964508057, 0.8615785241127014, 0.8586738705635071, 0.8501602411270142, 0.8402444124221802, 0.8590745329856873, 0.8608773946762085, 0.8511618971824646, 0.8509615659713745, 0.859375, 0.8657852411270142, 0.8651843070983887, 0.868088960647583, 0.8633814454078674, 0.8612780570983887, 0.8573718070983887, 0.8696914911270142, 0.8681890964508057, 0.8678886294364929, 0.859375, 0.8670873641967773, 0.8686898946762085, 0.8704928159713745, 0.8636819124221802, 0.8700921535491943, 0.8694912195205688, 0.8747996687889099, 0.8736979365348816, 0.8742988705635071, 0.8715945482254028, 0.8691906929016113, 0.8687900900840759, 0.8717948794364929, 0.8726963400840759, 0.8619791865348816, 0.8660857677459717, 0.8753004670143127, 0.8716947436332703, 0.8777043223381042, 0.8788061141967773, 0.8758012652397156, 0.8726963400840759, 0.8621795177459717, 0.876802921295166, 0.87890625, 0.8777043223381042, 0.8765023946762085, 0.8784054517745972, 0.8659855723381042, 0.8766025900840759, 0.8799078464508057, 0.879807710647583, 0.8603765964508057, 0.8800080418586731, 0.8811097741127014]\n"
     ]
    }
   ],
   "source": [
    "n_epochs = 100\n",
    "\n",
    "model = model.to(device)\n",
    "loss_fn = nn.CrossEntropyLoss()\n",
    "optimizer = optim.SGD(model.parameters(), lr=1e-2)\n",
    "\n",
    "train_losses = []\n",
    "train_acc = []\n",
    "val_acc = []\n",
    "for epoch in range(n_epochs):\n",
    "    running_loss = 0.0\n",
    "    model.train()\n",
    "    n = 0\n",
    "    n_acc = 0\n",
    "    # 시간이 많이 걸리므로 tqdm을 사용해서 진행바를 표시\n",
    "    for i, (xx, yy) in tqdm.tqdm(enumerate(train_loader), total=len(train_loader)):\n",
    "        xx = xx.to(device)\n",
    "        yy = yy.to(device)\n",
    "        # yy = yy.squeeze(1).to(torch.long).to(device)\n",
    "        h = model(xx)\n",
    "        loss = loss_fn(h, yy)\n",
    "        \n",
    "        optimizer.zero_grad()\n",
    "        loss.backward()\n",
    "        optimizer.step()\n",
    "\n",
    "        running_loss += loss.item()\n",
    "        n += len(xx)\n",
    "        _, y_pred = h.max(1)\n",
    "        n_acc += (yy == y_pred).float().sum().item()\n",
    "    train_losses.append(running_loss / i)\n",
    "    # 훈련 데이터의 예측 정확도\n",
    "    train_acc.append(n_acc / n)\n",
    "\n",
    "    # 검증 데이터의 예측 정확도\n",
    "    val_acc.append(eval_net(model, test_loader, device))\n",
    "    print(epoch, train_losses[-1], train_acc[-1], val_acc[-1], flush=True)\n",
    "print('-----------training finished-----------')\n",
    "print('train_losses: ', train_losses)\n",
    "print('train_acc: ', train_acc)\n",
    "print('val_acc: ', val_acc)"
   ]
  },
  {
   "cell_type": "code",
   "execution_count": 10,
   "id": "54287ebd-aeb7-48db-b800-19dcbf7dc6d7",
   "metadata": {},
   "outputs": [
    {
     "data": {
      "text/plain": [
       "[<matplotlib.lines.Line2D at 0x1e6edd40ee0>]"
      ]
     },
     "execution_count": 10,
     "metadata": {},
     "output_type": "execute_result"
    },
    {
     "data": {
      "image/png": "[encoded data removed]",
      "text/plain": [
       "<Figure size 640x480 with 1 Axes>"
      ]
     },
     "metadata": {},
     "output_type": "display_data"
    }
   ],
   "source": [
    "import matplotlib.pyplot as plt\n",
    "plt.plot(train_losses)\n",
    "plt.plot(train_acc)\n",
    "plt.plot(val_acc)"
   ]
  },
  {
   "cell_type": "code",
   "execution_count": null,
   "id": "77c2752b-cff7-40ab-908e-c5943316d0c0",
   "metadata": {},
   "outputs": [],
   "source": []
  }
 ],
 "metadata": {
  "kernelspec": {
   "display_name": "Python 3 (ipykernel)",
   "language": "python",
   "name": "python3"
  },
  "language_info": {
   "codemirror_mode": {
    "name": "ipython",
    "version": 3
   },
   "file_extension": ".py",
   "mimetype": "text/x-python",
   "name": "python",
   "nbconvert_exporter": "python",
   "pygments_lexer": "ipython3",
   "version": "3.7.9"
  }
 },
 "nbformat": 4,
 "nbformat_minor": 5
}
