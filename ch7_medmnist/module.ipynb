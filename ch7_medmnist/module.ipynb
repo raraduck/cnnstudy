{
 "cells": [
  {
   "cell_type": "markdown",
   "id": "1e18672d-cbd5-4ecf-b5bb-0dd264b2a547",
   "metadata": {},
   "source": [
    "# loader"
   ]
  },
  {
   "cell_type": "code",
   "execution_count": 1,
   "id": "acb35a02-4e83-478f-becf-9df49c6a839a",
   "metadata": {},
   "outputs": [],
   "source": [
    "from loader.load_data import load_fashionmnist, load_pneumoniamnist, load_chestmnist\n",
    "train, test, classnames = load_fashionmnist()\n",
    "# train, test, classnames = load_pneumoniamnist()\n",
    "# train, test, classnames = load_chestmnist()"
   ]
  },
  {
   "cell_type": "code",
   "execution_count": 2,
   "id": "6398bf92-aa42-481a-8715-9d5a8522a738",
   "metadata": {},
   "outputs": [
    {
     "name": "stdout",
     "output_type": "stream",
     "text": [
      "{0: 'T-shirt/top', 1: 'Trouser', 2: 'Pullover', 3: 'Dress', 4: 'Coat', 5: 'Sandal', 6: 'Shirt', 7: 'Sneaker', 8: 'Bag', 9: 'Ankle boot'}\n"
     ]
    },
    {
     "data": {
      "image/png": "[encoded data removed]",
      "text/plain": [
       "<Figure size 640x480 with 4 Axes>"
      ]
     },
     "metadata": {},
     "output_type": "display_data"
    }
   ],
   "source": [
    "from _utils.load_utils import display_from_batch\n",
    "print(classnames)\n",
    "sample_batch = next(iter(train))\n",
    "display_from_batch(sample_batch, 2, 2, classnames)"
   ]
  },
  {
   "cell_type": "markdown",
   "id": "6b19b2e3-efa5-4d26-b22d-52afcea10cc0",
   "metadata": {},
   "source": [
    "# model"
   ]
  },
  {
   "cell_type": "code",
   "execution_count": 3,
   "id": "d037b372-574a-4a0b-8bdb-b12d5142192d",
   "metadata": {
    "scrolled": true
   },
   "outputs": [
    {
     "name": "stdout",
     "output_type": "stream",
     "text": [
      "MyCNN:  123222 [400, 16, 12800, 32, 51200, 64, 57600, 100, 1000, 10]\n"
     ]
    },
    {
     "data": {
      "text/plain": [
       "==========================================================================================\n",
       "Layer (type:depth-idx)                   Output Shape              Param #\n",
       "==========================================================================================\n",
       "MyCNN                                    [1, 10]                   --\n",
       "├─Conv2d: 1-1                            [1, 16, 24, 24]           416\n",
       "├─ReLU: 1-2                              [1, 16, 24, 24]           --\n",
       "├─Conv2d: 1-3                            [1, 32, 20, 20]           12,832\n",
       "├─ReLU: 1-4                              [1, 32, 20, 20]           --\n",
       "├─MaxPool2d: 1-5                         [1, 32, 10, 10]           --\n",
       "├─Conv2d: 1-6                            [1, 64, 6, 6]             51,264\n",
       "├─ReLU: 1-7                              [1, 64, 6, 6]             --\n",
       "├─MaxPool2d: 1-8                         [1, 64, 3, 3]             --\n",
       "├─Linear: 1-9                            [1, 100]                  57,700\n",
       "├─ReLU: 1-10                             [1, 100]                  --\n",
       "├─Linear: 1-11                           [1, 10]                   1,010\n",
       "==========================================================================================\n",
       "Total params: 123,222\n",
       "Trainable params: 123,222\n",
       "Non-trainable params: 0\n",
       "Total mult-adds (M): 7.28\n",
       "==========================================================================================\n",
       "Input size (MB): 0.00\n",
       "Forward/backward pass size (MB): 0.20\n",
       "Params size (MB): 0.49\n",
       "Estimated Total Size (MB): 0.69\n",
       "=========================================================================================="
      ]
     },
     "execution_count": 3,
     "metadata": {},
     "output_type": "execute_result"
    }
   ],
   "source": [
    "from model.load_model import MyCNN\n",
    "model = MyCNN(28, 28, 10)\n",
    "numel_list = [p.numel() for p in model.parameters()]\n",
    "# sum(numel_list), numel_list\n",
    "print('MyCNN: ', sum(numel_list), numel_list)\n",
    "from torchinfo import summary\n",
    "summary(model, input_size=(1,1,28,28), device='cpu') "
   ]
  },
  {
   "cell_type": "markdown",
   "id": "0a22d985-0ed6-4ef9-ad15-e1637b6287d4",
   "metadata": {},
   "source": [
    "# runner"
   ]
  },
  {
   "cell_type": "code",
   "execution_count": 4,
   "id": "19aebf63-ff54-4f4b-8521-eeb6387d93c9",
   "metadata": {},
   "outputs": [],
   "source": [
    "import datetime\n",
    "current_time = datetime.datetime.today() # 2021-08-15 20:58:43.302125\n",
    "current_time = current_time.strftime('%Y%m%d%H%M%S') # 20210815205827"
   ]
  },
  {
   "cell_type": "code",
   "execution_count": 5,
   "id": "e2532c73-ca3e-491a-a82a-af65203d4afa",
   "metadata": {},
   "outputs": [
    {
     "name": "stderr",
     "output_type": "stream",
     "text": [
      "100%|█████████████████████████████████████████| 234/234 [00:07<00:00, 29.44it/s]\n"
     ]
    },
    {
     "name": "stdout",
     "output_type": "stream",
     "text": [
      "0 2.2987857325394265 0.14646768162393162 0.31630608439445496\n"
     ]
    },
    {
     "name": "stderr",
     "output_type": "stream",
     "text": [
      "100%|█████████████████████████████████████████| 234/234 [00:05<00:00, 40.61it/s]\n"
     ]
    },
    {
     "name": "stdout",
     "output_type": "stream",
     "text": [
      "1 1.6825379864852317 0.4517227564102564 0.6343148946762085\n"
     ]
    },
    {
     "name": "stderr",
     "output_type": "stream",
     "text": [
      "100%|█████████████████████████████████████████| 234/234 [00:05<00:00, 40.76it/s]\n"
     ]
    },
    {
     "name": "stdout",
     "output_type": "stream",
     "text": [
      "2 0.9162692893216539 0.6568342681623932 0.6843950152397156\n"
     ]
    },
    {
     "name": "stderr",
     "output_type": "stream",
     "text": [
      "100%|█████████████████████████████████████████| 234/234 [00:05<00:00, 40.82it/s]\n"
     ]
    },
    {
     "name": "stdout",
     "output_type": "stream",
     "text": [
      "3 0.777392479994778 0.7057458600427351 0.6904046535491943\n"
     ]
    },
    {
     "name": "stderr",
     "output_type": "stream",
     "text": [
      "100%|█████████████████████████████████████████| 234/234 [00:05<00:00, 40.68it/s]\n"
     ]
    },
    {
     "name": "stdout",
     "output_type": "stream",
     "text": [
      "4 0.7138118843663915 0.732154780982906 0.720552921295166\n"
     ]
    },
    {
     "name": "stderr",
     "output_type": "stream",
     "text": [
      "100%|█████████████████████████████████████████| 234/234 [00:05<00:00, 40.81it/s]\n"
     ]
    },
    {
     "name": "stdout",
     "output_type": "stream",
     "text": [
      "5 0.6811475418667936 0.7447248931623932 0.7407852411270142\n"
     ]
    },
    {
     "name": "stderr",
     "output_type": "stream",
     "text": [
      "100%|█████████████████████████████████████████| 234/234 [00:05<00:00, 40.81it/s]\n"
     ]
    },
    {
     "name": "stdout",
     "output_type": "stream",
     "text": [
      "6 0.6538534699079817 0.7562433226495726 0.7601162195205688\n"
     ]
    },
    {
     "name": "stderr",
     "output_type": "stream",
     "text": [
      "100%|█████████████████████████████████████████| 234/234 [00:05<00:00, 41.02it/s]\n"
     ]
    },
    {
     "name": "stdout",
     "output_type": "stream",
     "text": [
      "7 0.6309784905337469 0.764206063034188 0.76171875\n"
     ]
    },
    {
     "name": "stderr",
     "output_type": "stream",
     "text": [
      "100%|█████████████████████████████████████████| 234/234 [00:05<00:00, 40.71it/s]\n"
     ]
    },
    {
     "name": "stdout",
     "output_type": "stream",
     "text": [
      "8 0.6119029804616527 0.7728866185897436 0.7604166865348816\n"
     ]
    },
    {
     "name": "stderr",
     "output_type": "stream",
     "text": [
      "100%|█████████████████████████████████████████| 234/234 [00:05<00:00, 41.00it/s]\n"
     ]
    },
    {
     "name": "stdout",
     "output_type": "stream",
     "text": [
      "9 0.5936987346334007 0.7802317040598291 0.7657251954078674\n",
      "-----------training finished-----------\n",
      "train_losses:  [2.2987857325394265, 1.6825379864852317, 0.9162692893216539, 0.777392479994778, 0.7138118843663915, 0.6811475418667936, 0.6538534699079817, 0.6309784905337469, 0.6119029804616527, 0.5936987346334007]\n",
      "train_acc:  [0.14646768162393162, 0.4517227564102564, 0.6568342681623932, 0.7057458600427351, 0.732154780982906, 0.7447248931623932, 0.7562433226495726, 0.764206063034188, 0.7728866185897436, 0.7802317040598291]\n",
      "val_acc:  [0.31630608439445496, 0.6343148946762085, 0.6843950152397156, 0.6904046535491943, 0.720552921295166, 0.7407852411270142, 0.7601162195205688, 0.76171875, 0.7604166865348816, 0.7657251954078674]\n"
     ]
    }
   ],
   "source": [
    "import torch\n",
    "from torch import nn, optim\n",
    "from runner.run_multiclass_loop import mlc_training_loop\n",
    "from runner.run_multilabel_loop import mll_training_loop\n",
    "device = torch.device(\"cuda:0\" if torch.cuda.is_available() else \"cpu\")\n",
    "model = MyCNN(28, 28, 10).to(device)\n",
    "loss_fn = nn.CrossEntropyLoss()\n",
    "# loss_fn = nn.MultiLabelSoftMarginLoss()\n",
    "optimizer = optim.SGD(model.parameters(), lr=1e-2)\n",
    "mlc_training_loop(\n",
    "    n_epochs=10,\n",
    "    optimizer=optimizer,\n",
    "    model=model,\n",
    "    loss_fn=loss_fn,\n",
    "    train_loader=train,\n",
    "    test_loader=test,\n",
    "    device=device\n",
    ")"
   ]
  },
  {
   "cell_type": "code",
   "execution_count": 6,
   "id": "9eff3a5c-7ffe-4485-b095-beee028d37c0",
   "metadata": {},
   "outputs": [],
   "source": [
    "import collections\n",
    "import tqdm\n",
    "all_acc_dict = collections.OrderedDict()"
   ]
  },
  {
   "cell_type": "markdown",
   "id": "dd329a2f-2e4b-4296-aaa8-8aa43e2dd9c9",
   "metadata": {},
   "source": [
    "# VGGnet"
   ]
  },
  {
   "cell_type": "code",
   "execution_count": 5,
   "id": "cf0d522f-22ea-4043-b5a4-35d727d822d9",
   "metadata": {
    "tags": []
   },
   "outputs": [
    {
     "name": "stdout",
     "output_type": "stream",
     "text": [
      "{0: 'T-shirt/top', 1: 'Trouser', 2: 'Pullover', 3: 'Dress', 4: 'Coat', 5: 'Sandal', 6: 'Shirt', 7: 'Sneaker', 8: 'Bag', 9: 'Ankle boot'}\n",
      "torch.Size([256, 1, 224, 224])\n"
     ]
    },
    {
     "data": {
      "image/png": "[encoded data removed]",
      "text/plain": [
       "<Figure size 432x288 with 4 Axes>"
      ]
     },
     "metadata": {
      "needs_background": "light"
     },
     "output_type": "display_data"
    }
   ],
   "source": [
    "from loader.load_data import load_fashionmnist, load_pneumoniamnist, load_chestmnist\n",
    "from torchvision import transforms\n",
    "trformers=transforms.Compose([\n",
    "    transforms.Resize(224),\n",
    "    transforms.ToTensor()\n",
    "])\n",
    "train, test, classnames = load_fashionmnist(trformers=trformers)\n",
    "# train, test, classnames = load_pneumoniamnist()\n",
    "# train, test, classnames = load_chestmnist()\n",
    "\n",
    "from _utils.load_utils import display_from_batch\n",
    "print(classnames)\n",
    "sample_batch = next(iter(train))\n",
    "print(sample_batch[0].shape)\n",
    "display_from_batch(sample_batch, 2, 2, classnames)"
   ]
  },
  {
   "cell_type": "code",
   "execution_count": 3,
   "id": "d59747fc-0a13-4115-96f3-609c716165b5",
   "metadata": {},
   "outputs": [],
   "source": [
    "from model.load_model import VGG\n",
    "cfgs = { \"A\": [64, \"M\", 128, \"M\", 256, 256, \"M\", 512, 512, \"M\", 512, 512, \"M\"],\n",
    "         \"B\": [64, 64, \"M\", 128, 128, \"M\", 256, 256, \"M\", 512, 512, \"M\", 512, 512, \"M\"],\n",
    "         \"D\": [64, 64, \"M\", 128, 128, \"M\", 256, 256, 256, \"M\", 512, 512, 512, \"M\", 512, 512, 512, \"M\"],\n",
    "         \"E\": [64, 64, \"M\", 128, 128, \"M\", 256, 256, 256, 256, \"M\", 512, 512, 512, 512, \"M\", 512, 512, 512, 512, \"M\"] }\n",
    "model = VGG(cfgs[\"E\"], batch_norm=False, num_classes=10)"
   ]
  },
  {
   "cell_type": "code",
   "execution_count": 4,
   "id": "a564fbbe-187c-45fd-a843-d9f821614ba6",
   "metadata": {
    "scrolled": true
   },
   "outputs": [
    {
     "name": "stdout",
     "output_type": "stream",
     "text": [
      "VGG:  139610058 [576, 64, 36864, 64, 73728, 128, 147456, 128, 294912, 256, 589824, 256, 589824, 256, 589824, 256, 1179648, 512, 2359296, 512, 2359296, 512, 2359296, 512, 2359296, 512, 2359296, 512, 2359296, 512, 2359296, 512, 102760448, 4096, 16777216, 4096, 40960, 10]\n"
     ]
    },
    {
     "data": {
      "text/plain": [
       "==========================================================================================\n",
       "Layer (type:depth-idx)                   Output Shape              Param #\n",
       "==========================================================================================\n",
       "VGG                                      --                        --\n",
       "├─Sequential: 1-1                        [2, 512, 7, 7]            --\n",
       "│    └─Conv2d: 2-1                       [2, 64, 224, 224]         640\n",
       "│    └─ReLU: 2-2                         [2, 64, 224, 224]         --\n",
       "│    └─Conv2d: 2-3                       [2, 64, 224, 224]         36,928\n",
       "│    └─ReLU: 2-4                         [2, 64, 224, 224]         --\n",
       "│    └─MaxPool2d: 2-5                    [2, 64, 112, 112]         --\n",
       "│    └─Conv2d: 2-6                       [2, 128, 112, 112]        73,856\n",
       "│    └─ReLU: 2-7                         [2, 128, 112, 112]        --\n",
       "│    └─Conv2d: 2-8                       [2, 128, 112, 112]        147,584\n",
       "│    └─ReLU: 2-9                         [2, 128, 112, 112]        --\n",
       "│    └─MaxPool2d: 2-10                   [2, 128, 56, 56]          --\n",
       "│    └─Conv2d: 2-11                      [2, 256, 56, 56]          295,168\n",
       "│    └─ReLU: 2-12                        [2, 256, 56, 56]          --\n",
       "│    └─Conv2d: 2-13                      [2, 256, 56, 56]          590,080\n",
       "│    └─ReLU: 2-14                        [2, 256, 56, 56]          --\n",
       "│    └─Conv2d: 2-15                      [2, 256, 56, 56]          590,080\n",
       "│    └─ReLU: 2-16                        [2, 256, 56, 56]          --\n",
       "│    └─Conv2d: 2-17                      [2, 256, 56, 56]          590,080\n",
       "│    └─ReLU: 2-18                        [2, 256, 56, 56]          --\n",
       "│    └─MaxPool2d: 2-19                   [2, 256, 28, 28]          --\n",
       "│    └─Conv2d: 2-20                      [2, 512, 28, 28]          1,180,160\n",
       "│    └─ReLU: 2-21                        [2, 512, 28, 28]          --\n",
       "│    └─Conv2d: 2-22                      [2, 512, 28, 28]          2,359,808\n",
       "│    └─ReLU: 2-23                        [2, 512, 28, 28]          --\n",
       "│    └─Conv2d: 2-24                      [2, 512, 28, 28]          2,359,808\n",
       "│    └─ReLU: 2-25                        [2, 512, 28, 28]          --\n",
       "│    └─Conv2d: 2-26                      [2, 512, 28, 28]          2,359,808\n",
       "│    └─ReLU: 2-27                        [2, 512, 28, 28]          --\n",
       "│    └─MaxPool2d: 2-28                   [2, 512, 14, 14]          --\n",
       "│    └─Conv2d: 2-29                      [2, 512, 14, 14]          2,359,808\n",
       "│    └─ReLU: 2-30                        [2, 512, 14, 14]          --\n",
       "│    └─Conv2d: 2-31                      [2, 512, 14, 14]          2,359,808\n",
       "│    └─ReLU: 2-32                        [2, 512, 14, 14]          --\n",
       "│    └─Conv2d: 2-33                      [2, 512, 14, 14]          2,359,808\n",
       "│    └─ReLU: 2-34                        [2, 512, 14, 14]          --\n",
       "│    └─Conv2d: 2-35                      [2, 512, 14, 14]          2,359,808\n",
       "│    └─ReLU: 2-36                        [2, 512, 14, 14]          --\n",
       "│    └─MaxPool2d: 2-37                   [2, 512, 7, 7]            --\n",
       "├─AdaptiveAvgPool2d: 1-2                 [2, 512, 7, 7]            --\n",
       "├─Sequential: 1-3                        [2, 10]                   --\n",
       "│    └─Linear: 2-38                      [2, 4096]                 102,764,544\n",
       "│    └─ReLU: 2-39                        [2, 4096]                 --\n",
       "│    └─Dropout: 2-40                     [2, 4096]                 --\n",
       "│    └─Linear: 2-41                      [2, 4096]                 16,781,312\n",
       "│    └─ReLU: 2-42                        [2, 4096]                 --\n",
       "│    └─Dropout: 2-43                     [2, 4096]                 --\n",
       "│    └─Linear: 2-44                      [2, 10]                   40,970\n",
       "==========================================================================================\n",
       "Total params: 139,610,058\n",
       "Trainable params: 139,610,058\n",
       "Non-trainable params: 0\n",
       "Total mult-adds (G): 39.17\n",
       "==========================================================================================\n",
       "Input size (MB): 0.40\n",
       "Forward/backward pass size (MB): 237.76\n",
       "Params size (MB): 558.44\n",
       "Estimated Total Size (MB): 796.61\n",
       "=========================================================================================="
      ]
     },
     "execution_count": 4,
     "metadata": {},
     "output_type": "execute_result"
    }
   ],
   "source": [
    "numel_list = [p.numel() for p in model.parameters()]\n",
    "# sum(numel_list), numel_list\n",
    "print('VGG: ', sum(numel_list), numel_list)\n",
    "from torchinfo import summary\n",
    "summary(model, input_size=(2,1,224,224), device='cpu') "
   ]
  },
  {
   "cell_type": "code",
   "execution_count": 12,
   "id": "9f187592-8e41-4a01-95b5-65fcfb352c32",
   "metadata": {},
   "outputs": [
    {
     "name": "stdout",
     "output_type": "stream",
     "text": [
      "torch.Size([2, 10])\n"
     ]
    }
   ],
   "source": [
    "import torch\n",
    "x = torch.randn(2,1,224,224)\n",
    "print(model(x).shape)"
   ]
  },
  {
   "cell_type": "code",
   "execution_count": null,
   "id": "4b5766f0-0a96-4ee1-91c4-244e73c33a0f",
   "metadata": {
    "tags": []
   },
   "outputs": [
    {
     "name": "stderr",
     "output_type": "stream",
     "text": [
      "  3%|██████▏                                                                                                                                                                                                                                            | 6/234 [11:13<6:59:27, 110.38s/it]"
     ]
    }
   ],
   "source": [
    "import torch\n",
    "from torch import nn, optim\n",
    "from runner.run_multiclass_loop import mlc_training_loop\n",
    "from runner.run_multilabel_loop import mll_training_loop\n",
    "device = torch.device(\"cuda:0\" if torch.cuda.is_available() else \"cpu\")\n",
    "model = model.to(device)\n",
    "loss_fn = nn.CrossEntropyLoss()\n",
    "# loss_fn = nn.MultiLabelSoftMarginLoss()\n",
    "optimizer = optim.SGD(model.parameters(), lr=1e-2)\n",
    "mlc_training_loop(\n",
    "    n_epochs=10,\n",
    "    optimizer=optimizer,\n",
    "    model=model,\n",
    "    loss_fn=loss_fn,\n",
    "    train_loader=train,\n",
    "    test_loader=test,\n",
    "    device=device\n",
    ")"
   ]
  }
 ],
 "metadata": {
  "kernelspec": {
   "display_name": "Python 3",
   "language": "python",
   "name": "python3"
  },
  "language_info": {
   "codemirror_mode": {
    "name": "ipython",
    "version": 3
   },
   "file_extension": ".py",
   "mimetype": "text/x-python",
   "name": "python",
   "nbconvert_exporter": "python",
   "pygments_lexer": "ipython3",
   "version": "3.6.9"
  }
 },
 "nbformat": 4,
 "nbformat_minor": 5
}
