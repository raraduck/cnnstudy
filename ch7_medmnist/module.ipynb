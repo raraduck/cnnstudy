{
 "cells": [
  {
   "cell_type": "markdown",
   "id": "1e18672d-cbd5-4ecf-b5bb-0dd264b2a547",
   "metadata": {},
   "source": [
    "# loader"
   ]
  },
  {
   "cell_type": "code",
   "execution_count": null,
   "id": "acb35a02-4e83-478f-becf-9df49c6a839a",
   "metadata": {},
   "outputs": [],
   "source": [
    "from loader.load_data import load_fashionmnist, load_pneumoniamnist, load_chestmnist\n",
    "train, test, classnames = load_fashionmnist()\n",
    "# train, test, classnames = load_pneumoniamnist()\n",
    "# train, test, classnames = load_chestmnist()"
   ]
  },
  {
   "cell_type": "code",
   "execution_count": null,
   "id": "6398bf92-aa42-481a-8715-9d5a8522a738",
   "metadata": {},
   "outputs": [],
   "source": [
    "from _utils.load_utils import display_from_batch\n",
    "print(classnames)\n",
    "sample_batch = next(iter(train))\n",
    "display_from_batch(sample_batch, 2, 2, classnames)"
   ]
  },
  {
   "cell_type": "markdown",
   "id": "6b19b2e3-efa5-4d26-b22d-52afcea10cc0",
   "metadata": {},
   "source": [
    "# model"
   ]
  },
  {
   "cell_type": "code",
   "execution_count": null,
   "id": "d037b372-574a-4a0b-8bdb-b12d5142192d",
   "metadata": {
    "scrolled": true
   },
   "outputs": [],
   "source": [
    "from model.load_model import MyCNN\n",
    "model = MyCNN(28, 28, 10)\n",
    "numel_list = [p.numel() for p in model.parameters()]\n",
    "# sum(numel_list), numel_list\n",
    "print('MyCNN: ', sum(numel_list), numel_list)\n",
    "from torchinfo import summary\n",
    "summary(model, input_size=(1,1,28,28), device='cpu') "
   ]
  },
  {
   "cell_type": "markdown",
   "id": "0a22d985-0ed6-4ef9-ad15-e1637b6287d4",
   "metadata": {},
   "source": [
    "# runner"
   ]
  },
  {
   "cell_type": "code",
   "execution_count": null,
   "id": "19aebf63-ff54-4f4b-8521-eeb6387d93c9",
   "metadata": {},
   "outputs": [],
   "source": [
    "import datetime\n",
    "current_time = datetime.datetime.today() # 2021-08-15 20:58:43.302125\n",
    "current_time = current_time.strftime('%Y%m%d%H%M%S') # 20210815205827"
   ]
  },
  {
   "cell_type": "code",
   "execution_count": null,
   "id": "e2532c73-ca3e-491a-a82a-af65203d4afa",
   "metadata": {},
   "outputs": [],
   "source": [
    "import torch\n",
    "from torch import nn, optim\n",
    "from runner.run_multiclass_loop import mlc_training_loop\n",
    "from runner.run_multilabel_loop import mll_training_loop\n",
    "device = torch.device(\"cuda:0\" if torch.cuda.is_available() else \"cpu\")\n",
    "model = MyCNN(28, 28, 10).to(device)\n",
    "loss_fn = nn.CrossEntropyLoss()\n",
    "# loss_fn = nn.MultiLabelSoftMarginLoss()\n",
    "optimizer = optim.SGD(model.parameters(), lr=1e-2)\n",
    "mlc_training_loop(\n",
    "    n_epochs=10,\n",
    "    optimizer=optimizer,\n",
    "    model=model,\n",
    "    loss_fn=loss_fn,\n",
    "    train_loader=train,\n",
    "    test_loader=test,\n",
    "    device=device\n",
    ")"
   ]
  },
  {
   "cell_type": "code",
   "execution_count": null,
   "id": "9eff3a5c-7ffe-4485-b095-beee028d37c0",
   "metadata": {},
   "outputs": [],
   "source": [
    "import collections\n",
    "import tqdm\n",
    "all_acc_dict = collections.OrderedDict()"
   ]
  },
  {
   "cell_type": "markdown",
   "id": "dd329a2f-2e4b-4296-aaa8-8aa43e2dd9c9",
   "metadata": {},
   "source": [
    "# VGGnet"
   ]
  },
  {
   "cell_type": "code",
   "execution_count": null,
   "id": "cf0d522f-22ea-4043-b5a4-35d727d822d9",
   "metadata": {
    "tags": []
   },
   "outputs": [],
   "source": [
    "from loader.load_data import load_fashionmnist, load_pneumoniamnist, load_chestmnist\n",
    "from torchvision import transforms\n",
    "trformers=transforms.Compose([\n",
    "    transforms.Resize(224),\n",
    "    transforms.ToTensor()\n",
    "])\n",
    "train, test, classnames = load_fashionmnist(batch_size=4, trformers=trformers)\n",
    "# train, test, classnames = load_pneumoniamnist()\n",
    "# train, test, classnames = load_chestmnist()\n",
    "\n",
    "from _utils.load_utils import display_from_batch\n",
    "print(classnames)\n",
    "sample_batch = next(iter(train))\n",
    "print(sample_batch[0].shape)\n",
    "display_from_batch(sample_batch, 2, 2, classnames)"
   ]
  },
  {
   "cell_type": "code",
   "execution_count": null,
   "id": "d59747fc-0a13-4115-96f3-609c716165b5",
   "metadata": {
    "tags": []
   },
   "outputs": [],
   "source": [
    "from model.load_model import VGG\n",
    "cfgs = { \"A\": [64, \"M\", 128, \"M\", 256, 256, \"M\", 512, 512, \"M\", 512, 512, \"M\"],\n",
    "         \"B\": [64, 64, \"M\", 128, 128, \"M\", 256, 256, \"M\", 512, 512, \"M\", 512, 512, \"M\"],\n",
    "         \"D\": [64, 64, \"M\", 128, 128, \"M\", 256, 256, 256, \"M\", 512, 512, 512, \"M\", 512, 512, 512, \"M\"],\n",
    "         \"E\": [64, 64, \"M\", 128, 128, \"M\", 256, 256, 256, 256, \"M\", 512, 512, 512, 512, \"M\", 512, 512, 512, 512, \"M\"] }\n",
    "model = VGG(cfgs[\"E\"], batch_norm=False, num_classes=10)"
   ]
  },
  {
   "cell_type": "code",
   "execution_count": null,
   "id": "a564fbbe-187c-45fd-a843-d9f821614ba6",
   "metadata": {
    "scrolled": true,
    "tags": []
   },
   "outputs": [],
   "source": [
    "numel_list = [p.numel() for p in model.parameters()]\n",
    "# sum(numel_list), numel_list\n",
    "print('VGG: ', sum(numel_list), numel_list)\n",
    "from torchinfo import summary\n",
    "summary(model, input_size=(2,1,224,224), device='cpu') "
   ]
  },
  {
   "cell_type": "code",
   "execution_count": null,
   "id": "9f187592-8e41-4a01-95b5-65fcfb352c32",
   "metadata": {
    "tags": []
   },
   "outputs": [],
   "source": [
    "import torch\n",
    "x = torch.randn(4,1,224,224)\n",
    "print(model(x).shape)\n",
    "print(model(x))\n",
    "_, y_pred = model(x).max(1)\n",
    "print(y_pred)"
   ]
  },
  {
   "cell_type": "code",
   "execution_count": null,
   "id": "4b5766f0-0a96-4ee1-91c4-244e73c33a0f",
   "metadata": {
    "tags": []
   },
   "outputs": [],
   "source": [
    "import torch\n",
    "from torch import nn, optim\n",
    "from runner.run_multiclass_loop import mlc_training_loop\n",
    "from runner.run_multilabel_loop import mll_training_loop\n",
    "device = torch.device(\"cuda:0\" if torch.cuda.is_available() else \"cpu\")\n",
    "model = model.to(device)\n",
    "loss_fn = nn.CrossEntropyLoss()\n",
    "# loss_fn = nn.MultiLabelSoftMarginLoss()\n",
    "optimizer = optim.SGD(model.parameters(), lr=1e-2)\n",
    "mlc_training_loop(\n",
    "    n_epochs=4,\n",
    "    optimizer=optimizer,\n",
    "    model=model,\n",
    "    loss_fn=loss_fn,\n",
    "    train_loader=train,\n",
    "    test_loader=test,\n",
    "    device=device\n",
    ")"
   ]
  },
  {
   "cell_type": "markdown",
   "id": "69c17231-c264-4300-9c0a-2ffc77f852bb",
   "metadata": {},
   "source": [
    "# AlexNet"
   ]
  },
  {
   "cell_type": "code",
   "execution_count": null,
   "id": "e337eea8-0358-4031-9e81-9969cbedb3bf",
   "metadata": {
    "tags": []
   },
   "outputs": [],
   "source": [
    "from loader.load_data import load_fashionmnist, load_pneumoniamnist, load_chestmnist, load_cifar10\n",
    "train, test, classnames = load_cifar10()\n",
    "# train, test, classnames = load_fashionmnist()\n",
    "# train, test, classnames = load_pneumoniamnist()\n",
    "# train, test, classnames = load_chestmnist()"
   ]
  },
  {
   "cell_type": "code",
   "execution_count": null,
   "id": "965ed53f-4916-4bd4-a904-c77a2b0b16e3",
   "metadata": {
    "tags": []
   },
   "outputs": [],
   "source": [
    "from _utils.load_utils import display_from_batch\n",
    "print(classnames)\n",
    "sample_batch = next(iter(train))\n",
    "print(sample_batch[0].shape)\n",
    "display_from_batch(sample_batch, 2, 2, classnames)"
   ]
  },
  {
   "cell_type": "code",
   "execution_count": null,
   "id": "5e429f1d-3bec-462c-b691-02056536e2a7",
   "metadata": {
    "tags": []
   },
   "outputs": [],
   "source": [
    "from model.load_model import MyCNN, AlexNet\n",
    "model = AlexNet(3, 32, 32, 10)\n",
    "numel_list = [p.numel() for p in model.parameters()]\n",
    "# sum(numel_list), numel_list\n",
    "print('AlexNet: ', sum(numel_list), numel_list)\n",
    "from torchinfo import summary\n",
    "summary(model, input_size=(1,3,32,32), device='cpu') "
   ]
  },
  {
   "cell_type": "code",
   "execution_count": null,
   "id": "c1a256e4-21c4-4cdf-b09a-681eaf823544",
   "metadata": {
    "tags": []
   },
   "outputs": [],
   "source": [
    "import torch\n",
    "x = torch.randn(4,3,32,32)\n",
    "print(model(x).shape)\n",
    "print(model(x))\n",
    "_, y_pred = model(x).max(1)\n",
    "print(y_pred)"
   ]
  },
  {
   "cell_type": "code",
   "execution_count": null,
   "id": "b118de14-9fc8-47e4-92a2-313d72d0b6a9",
   "metadata": {
    "tags": []
   },
   "outputs": [],
   "source": [
    "import torch\n",
    "from torch import nn, optim\n",
    "from runner.run_multiclass_loop import mlc_training_loop\n",
    "from runner.run_multilabel_loop import mll_training_loop\n",
    "device = torch.device(\"cuda:0\" if torch.cuda.is_available() else \"cpu\")\n",
    "model = model.to(device)\n",
    "loss_fn = nn.CrossEntropyLoss()\n",
    "# loss_fn = nn.MultiLabelSoftMarginLoss()\n",
    "optimizer = optim.Adam(model.parameters(), lr=1e-3)\n",
    "# optimizer = optim.SGD(model.parameters(), lr=1e-2)\n",
    "train_losses, train_acc, val_acc = mlc_training_loop(\n",
    "    n_epochs=20,\n",
    "    optimizer=optimizer,\n",
    "    model=model,\n",
    "    loss_fn=loss_fn,\n",
    "    train_loader=train,\n",
    "    test_loader=test,\n",
    "    device=device\n",
    ")"
   ]
  },
  {
   "cell_type": "code",
   "execution_count": null,
   "id": "3a88c08d-69fc-44be-80a0-44ad1dd036ae",
   "metadata": {
    "tags": []
   },
   "outputs": [],
   "source": [
    "import matplotlib.pyplot as plt\n",
    "plt.plot(train_losses)\n",
    "plt.title('Training Loss')\n",
    "plt.xlabel('epoch')\n",
    "plt.show()"
   ]
  }
 ],
 "metadata": {
  "kernelspec": {
   "display_name": "Python 3 (ipykernel)",
   "language": "python",
   "name": "python3"
  },
  "language_info": {
   "codemirror_mode": {
    "name": "ipython",
    "version": 3
   },
   "file_extension": ".py",
   "mimetype": "text/x-python",
   "name": "python",
   "nbconvert_exporter": "python",
   "pygments_lexer": "ipython3",
   "version": "3.7.9"
  }
 },
 "nbformat": 4,
 "nbformat_minor": 5
}
