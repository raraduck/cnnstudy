{
 "cells": [
  {
   "cell_type": "markdown",
   "id": "5d7866bd-8c16-4bbb-81de-4e6140d2981d",
   "metadata": {},
   "source": [
    "# loader"
   ]
  },
  {
   "cell_type": "code",
   "execution_count": 1,
   "id": "14fb126e-99d2-43bb-a1f0-e50c6765824b",
   "metadata": {
    "tags": []
   },
   "outputs": [
    {
     "name": "stderr",
     "output_type": "stream",
     "text": [
      "/home2/dwnusa/workspace/cnnstudy/venv/lib/python3.6/site-packages/tqdm/auto.py:22: TqdmWarning: IProgress not found. Please update jupyter and ipywidgets. See https://ipywidgets.readthedocs.io/en/stable/user_install.html\n",
      "  from .autonotebook import tqdm as notebook_tqdm\n"
     ]
    }
   ],
   "source": [
    "import torch\n",
    "from torchvision.datasets import MNIST, FashionMNIST, CelebA\n",
    "import medmnist\n",
    "from medmnist import ChestMNIST, PneumoniaMNIST\n",
    "from torchvision import transforms\n",
    "from _utils.load_utils import display_from_batch\n",
    "from torch.utils.data import Dataset, DataLoader, TensorDataset\n",
    "\n",
    "# params: batch_size\n",
    "batch_size = 256\n",
    "\n",
    "# train = FashionMNIST(\"./_data\", train=True, download=True, transform=transforms.Compose([transforms.FloatTensor()]))\n",
    "# test = FashionMNIST(\"./_data\", train=False, download=True, transform=transforms.Compose([transforms.FloatTensor()]))\n",
    "# classnames = {\n",
    "#     0:'T-shirt/top',\n",
    "#     1:'Trouser',\n",
    "#     2:'Pullover',\n",
    "#     3:'Dress',\n",
    "#     4:'Coat',\n",
    "#     5:'Sandal',\n",
    "#     6:'Shirt',\n",
    "#     7:'Sneaker',\n",
    "#     8:'Bag',\n",
    "#     9:'Ankle boot',\n",
    "# }\n",
    "# train = PneumoniaMNIST(root=\"./_data\", split=\"train\", download=True, transform=transforms.Compose([transforms.ToTensor()]))\n",
    "# test = PneumoniaMNIST(root=\"./_data\", split=\"test\", download=True, transform=transforms.ToTensor())\n",
    "# classnames={0: 'normal', 1: 'pneumonia'}\n",
    "\n",
    "# train = ChestMNIST(root=\"./_data\", split=\"train\", download=True, transform=transforms.ToTensor())\n",
    "# test = ChestMNIST(root=\"./_data\", split=\"test\", download=True, transform=transforms.ToTensor())\n",
    "# classnames={\n",
    "#     '0': 'atelectasis', \n",
    "#     '1': 'cardiomegaly', \n",
    "#     '2': 'effusion', \n",
    "#     '3': 'infiltration', \n",
    "#     '4': 'mass', \n",
    "#     '5': 'nodule', \n",
    "#     '6': 'pneumonia', \n",
    "#     '7': 'pneumothorax', \n",
    "#     '8': 'consolidation', \n",
    "#     '9': 'edema', \n",
    "#     '10': 'emphysema', \n",
    "#     '11': 'fibrosis', \n",
    "#     '12': 'pleural', \n",
    "#     '13': 'hernia'\n",
    "# }\n",
    "\n",
    "# train = CelebA(root='./_data', split='train', transform=transforms.Compose([transforms.ToTensor()]), download=True)\n",
    "# test = CelebA(root='./_data', split='test', transform=transforms.ToTensor(), download=True)\n",
    "\n",
    "train_loader = DataLoader(train, batch_size=batch_size, shuffle=True, drop_last=True)\n",
    "test_loader = DataLoader(test, batch_size=batch_size, shuffle=False, drop_last=True)\n",
    "\n",
    "# return train_loader, test_loader"
   ]
  },
  {
   "cell_type": "code",
   "execution_count": 2,
   "id": "1b79f415-8672-4046-9b6d-86ca2b5ea183",
   "metadata": {},
   "outputs": [
    {
     "name": "stdout",
     "output_type": "stream",
     "text": [
      "Dataset FashionMNIST\n",
      "    Number of datapoints: 60000\n",
      "    Root location: ./_data\n",
      "    Split: Train\n",
      "    StandardTransform\n",
      "Transform: ToTensor()\n"
     ]
    }
   ],
   "source": [
    "print(train)"
   ]
  },
  {
   "cell_type": "markdown",
   "id": "f4ad792d-1279-4b1d-b1a3-bcf2228d862a",
   "metadata": {},
   "source": [
    "# _utils"
   ]
  },
  {
   "cell_type": "code",
   "execution_count": 3,
   "id": "8e92e1d5-cfb2-49d0-8914-b066834fd8a4",
   "metadata": {},
   "outputs": [],
   "source": [
    "train_iter = iter(train_loader)"
   ]
  },
  {
   "cell_type": "code",
   "execution_count": 4,
   "id": "9be5be8f-ad94-4a00-81a4-0408dd07e77f",
   "metadata": {
    "scrolled": true
   },
   "outputs": [
    {
     "name": "stdout",
     "output_type": "stream",
     "text": [
      "tensor([6, 9, 3, 6])\n"
     ]
    },
    {
     "data": {
      "image/png": "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\n",
      "text/plain": [
       "<Figure size 432x288 with 4 Axes>"
      ]
     },
     "metadata": {
      "needs_background": "light"
     },
     "output_type": "display_data"
    }
   ],
   "source": [
    "train_batch = next(train_iter)\n",
    "# params: batch, classname, nrows, ncols\n",
    "print(train_batch[1][:4])\n",
    "# print(train_batch[1].squeeze(1))\n",
    "# print(train_batch[1].squeeze(1).to(torch.long))\n",
    "# print(train_batch[1].squeeze(1).to(torch.long).dtype)\n",
    "display_from_batch(train_batch, 2, 2, classnames)\n",
    "\n",
    "# return none"
   ]
  },
  {
   "cell_type": "markdown",
   "id": "234c2e7c-ba5c-475f-b1bd-92913553922a",
   "metadata": {},
   "source": [
    "# model"
   ]
  },
  {
   "cell_type": "code",
   "execution_count": 5,
   "id": "4838c802-b3dd-452f-b4ed-9273b81274da",
   "metadata": {},
   "outputs": [],
   "source": [
    "import torch\n",
    "from torch import nn, optim\n",
    "\n",
    "class MyCNN(nn.Module):\n",
    "    def __init__(self, height, width, out_features):\n",
    "        super().__init__()\n",
    "        self.conv1 = nn.Conv2d(1, 16, kernel_size=5, padding=0)\n",
    "        self.act1 = nn.ReLU()\n",
    "        h = (height - 4)\n",
    "        w = (width - 4)\n",
    "        self.conv2 = nn.Conv2d(16, 32, kernel_size=5, padding=0)\n",
    "        self.act2 = nn.ReLU()\n",
    "        h = (h - 4)\n",
    "        w = (w - 4)\n",
    "        self.pool2 = nn.MaxPool2d(2,2)\n",
    "        h = h / 2\n",
    "        w = w / 2\n",
    "        self.conv3 = nn.Conv2d(32, 64, kernel_size=5, padding=0)\n",
    "        self.act3 = nn.ReLU()\n",
    "        h = (h - 4)\n",
    "        w = (w - 4)\n",
    "        self.pool3 = nn.MaxPool2d(2,2)\n",
    "        h = h / 2\n",
    "        w = w / 2\n",
    "        # 3x3 이미지가 됨\n",
    "        self.fc4 = nn.Linear(64 * int(h) * int(w), 100)\n",
    "        self.act4 = nn.ReLU()\n",
    "        self.fc5 = nn.Linear(100, out_features)\n",
    "\n",
    "    def forward(self, x):\n",
    "        x = self.conv1(x)\n",
    "        x = self.act1(x)\n",
    "        x = self.conv2(x)\n",
    "        x = self.act2(x)\n",
    "        x = self.pool2(x)\n",
    "        x = self.conv3(x)\n",
    "        x = self.act3(x)\n",
    "        x = self.pool3(x)\n",
    "        \n",
    "        # 모듈화 필요>>>\n",
    "        sizes = x.size()\n",
    "        x = x.view(sizes[0], -1)\n",
    "        # <<<모듈화 필요\n",
    "        \n",
    "        x = self.fc4(x)\n",
    "        x = self.act4(x)\n",
    "        x = self.fc5(x)\n",
    "        return x\n"
   ]
  },
  {
   "cell_type": "code",
   "execution_count": 6,
   "id": "6f40c296-8131-4a15-a0d6-ba75b960892e",
   "metadata": {},
   "outputs": [
    {
     "name": "stdout",
     "output_type": "stream",
     "text": [
      "MyCNN:  123222 [400, 16, 12800, 32, 51200, 64, 57600, 100, 1000, 10]\n"
     ]
    },
    {
     "data": {
      "text/plain": [
       "==========================================================================================\n",
       "Layer (type:depth-idx)                   Output Shape              Param #\n",
       "==========================================================================================\n",
       "MyCNN                                    --                        --\n",
       "├─Conv2d: 1-1                            [1, 16, 24, 24]           416\n",
       "├─ReLU: 1-2                              [1, 16, 24, 24]           --\n",
       "├─Conv2d: 1-3                            [1, 32, 20, 20]           12,832\n",
       "├─ReLU: 1-4                              [1, 32, 20, 20]           --\n",
       "├─MaxPool2d: 1-5                         [1, 32, 10, 10]           --\n",
       "├─Conv2d: 1-6                            [1, 64, 6, 6]             51,264\n",
       "├─ReLU: 1-7                              [1, 64, 6, 6]             --\n",
       "├─MaxPool2d: 1-8                         [1, 64, 3, 3]             --\n",
       "├─Linear: 1-9                            [1, 100]                  57,700\n",
       "├─ReLU: 1-10                             [1, 100]                  --\n",
       "├─Linear: 1-11                           [1, 10]                   1,010\n",
       "==========================================================================================\n",
       "Total params: 123,222\n",
       "Trainable params: 123,222\n",
       "Non-trainable params: 0\n",
       "Total mult-adds (M): 7.28\n",
       "==========================================================================================\n",
       "Input size (MB): 0.00\n",
       "Forward/backward pass size (MB): 0.20\n",
       "Params size (MB): 0.49\n",
       "Estimated Total Size (MB): 0.69\n",
       "=========================================================================================="
      ]
     },
     "execution_count": 6,
     "metadata": {},
     "output_type": "execute_result"
    }
   ],
   "source": [
    "model = MyCNN(height=28, width=28, out_features=10)\n",
    "numel_list = [p.numel() for p in model.parameters()]\n",
    "sum(numel_list), numel_list\n",
    "print('MyCNN: ', sum(numel_list), numel_list)\n",
    "from torchinfo import summary\n",
    "summary(model, input_size=(1,1,28,28), device='cpu') "
   ]
  },
  {
   "cell_type": "markdown",
   "id": "e787035c-8378-49c5-a524-9ad14da0b5b9",
   "metadata": {},
   "source": [
    "# train"
   ]
  },
  {
   "cell_type": "code",
   "execution_count": 7,
   "id": "569e69cb-c4e8-4fe6-b785-c2c1d2c655f5",
   "metadata": {},
   "outputs": [],
   "source": [
    "import torch\n",
    "from torch import nn, optim\n",
    "import collections\n",
    "import tqdm\n",
    "all_acc_dict = collections.OrderedDict()\n",
    "device = torch.device(\"cuda:0\" if torch.cuda.is_available() else \"cpu\")\n",
    "import datetime\n",
    "current_time = datetime.datetime.today() # 2021-08-15 20:58:43.302125\n",
    "current_time = current_time.strftime('%Y%m%d%H%M%S') # 20210815205827"
   ]
  },
  {
   "cell_type": "code",
   "execution_count": 8,
   "id": "9158ac34-c5e7-4630-81de-b99cbb4bfead",
   "metadata": {},
   "outputs": [],
   "source": [
    "def eval_net(model, data_loader, device=\"cpu\"):\n",
    "    model.eval()\n",
    "    ys = []\n",
    "    ypreds = []\n",
    "    for x, y in data_loader:\n",
    "        x = x.to(device)\n",
    "        y = y.to(device)\n",
    "        # y = y.squeeze(1).to(torch.long).to(device)\n",
    "        with torch.no_grad():\n",
    "            _, y_pred = model(x).max(1)\n",
    "        ys.append(y)\n",
    "        ypreds.append(y_pred)\n",
    "    ys = torch.cat(ys)\n",
    "    ypreds = torch.cat(ypreds)\n",
    "    acc = (ys == ypreds).float().sum() / len(ys)\n",
    "    return acc.item()"
   ]
  },
  {
   "cell_type": "code",
   "execution_count": 9,
   "id": "0a7adff7-48f8-453f-80b1-a4691563f79a",
   "metadata": {
    "scrolled": true
   },
   "outputs": [
    {
     "name": "stderr",
     "output_type": "stream",
     "text": [
      "100%|██████████| 234/234 [00:05<00:00, 45.54it/s]\n"
     ]
    },
    {
     "name": "stdout",
     "output_type": "stream",
     "text": [
      "0 2.3018628241166534 0.10828993055555555 0.10546875\n"
     ]
    },
    {
     "name": "stderr",
     "output_type": "stream",
     "text": [
      "100%|██████████| 234/234 [00:04<00:00, 47.05it/s]\n"
     ]
    },
    {
     "name": "stdout",
     "output_type": "stream",
     "text": [
      "1 1.8194220076303114 0.3531650641025641 0.5470753312110901\n"
     ]
    },
    {
     "name": "stderr",
     "output_type": "stream",
     "text": [
      "100%|██████████| 234/234 [00:04<00:00, 46.86it/s]\n"
     ]
    },
    {
     "name": "stdout",
     "output_type": "stream",
     "text": [
      "2 0.9498021280305068 0.6480034722222222 0.6634615659713745\n"
     ]
    },
    {
     "name": "stderr",
     "output_type": "stream",
     "text": [
      "100%|██████████| 234/234 [00:04<00:00, 47.11it/s]\n"
     ]
    },
    {
     "name": "stdout",
     "output_type": "stream",
     "text": [
      "3 0.7949442029510957 0.7021067040598291 0.7095352411270142\n"
     ]
    },
    {
     "name": "stderr",
     "output_type": "stream",
     "text": [
      "100%|██████████| 234/234 [00:04<00:00, 47.29it/s]\n"
     ]
    },
    {
     "name": "stdout",
     "output_type": "stream",
     "text": [
<<<<<<< HEAD
      "4 0.7356180034481916 0.7242087339743589 0.73828125\n"
=======
      "4 0.7385250294157364 0.7228231837606838 0.7237580418586731\n"
>>>>>>> 3daf2ce3a0ac810462b7df190a09cf402b1262bb
     ]
    },
    {
     "name": "stderr",
     "output_type": "stream",
     "text": [
<<<<<<< HEAD
      "100%|██████████| 234/234 [00:04<00:00, 47.41it/s]\n"
=======
      "100%|█████████████████████████████████████████| 234/234 [00:05<00:00, 39.44it/s]\n"
>>>>>>> 3daf2ce3a0ac810462b7df190a09cf402b1262bb
     ]
    },
    {
     "name": "stdout",
     "output_type": "stream",
     "text": [
<<<<<<< HEAD
      "5 0.6996430120243023 0.7399338942307693 0.75\n"
=======
      "5 0.6918539594171385 0.7431891025641025 0.7425881624221802\n"
>>>>>>> 3daf2ce3a0ac810462b7df190a09cf402b1262bb
     ]
    },
    {
     "name": "stderr",
     "output_type": "stream",
     "text": [
<<<<<<< HEAD
      "100%|██████████| 234/234 [00:04<00:00, 47.36it/s]\n"
=======
      "100%|█████████████████████████████████████████| 234/234 [00:05<00:00, 39.32it/s]\n"
>>>>>>> 3daf2ce3a0ac810462b7df190a09cf402b1262bb
     ]
    },
    {
     "name": "stdout",
     "output_type": "stream",
     "text": [
<<<<<<< HEAD
      "6 0.6706724380474746 0.7503505608974359 0.7585136294364929\n"
=======
      "6 0.6565865608243984 0.7554086538461539 0.7597155570983887\n"
>>>>>>> 3daf2ce3a0ac810462b7df190a09cf402b1262bb
     ]
    },
    {
     "name": "stderr",
     "output_type": "stream",
     "text": [
<<<<<<< HEAD
      "100%|██████████| 234/234 [00:05<00:00, 46.67it/s]\n"
=======
      "100%|█████████████████████████████████████████| 234/234 [00:05<00:00, 39.54it/s]\n"
>>>>>>> 3daf2ce3a0ac810462b7df190a09cf402b1262bb
     ]
    },
    {
     "name": "stdout",
     "output_type": "stream",
     "text": [
<<<<<<< HEAD
      "7 0.6451157735652678 0.7614850427350427 0.7591145634651184\n"
=======
      "7 0.6333193926084707 0.7653412126068376 0.7575120329856873\n"
>>>>>>> 3daf2ce3a0ac810462b7df190a09cf402b1262bb
     ]
    },
    {
     "name": "stderr",
     "output_type": "stream",
     "text": [
<<<<<<< HEAD
      "100%|██████████| 234/234 [00:04<00:00, 47.32it/s]\n"
=======
      "100%|█████████████████████████████████████████| 234/234 [00:05<00:00, 40.30it/s]\n"
>>>>>>> 3daf2ce3a0ac810462b7df190a09cf402b1262bb
     ]
    },
    {
     "name": "stdout",
     "output_type": "stream",
     "text": [
<<<<<<< HEAD
      "8 0.6263081045109826 0.7685797275641025 0.7519030570983887\n"
=======
      "8 0.6152223133733856 0.7712339743589743 0.765625\n"
>>>>>>> 3daf2ce3a0ac810462b7df190a09cf402b1262bb
     ]
    },
    {
     "name": "stderr",
     "output_type": "stream",
     "text": [
<<<<<<< HEAD
      "100%|██████████| 234/234 [00:04<00:00, 47.43it/s]\n"
=======
      "100%|█████████████████████████████████████████| 234/234 [00:05<00:00, 41.10it/s]\n"
>>>>>>> 3daf2ce3a0ac810462b7df190a09cf402b1262bb
     ]
    },
    {
     "name": "stdout",
     "output_type": "stream",
     "text": [
<<<<<<< HEAD
      "9 0.6077172669218334 0.7754573985042735 0.776442289352417\n"
=======
      "9 0.5959182781978738 0.7802150106837606 0.7768429517745972\n"
>>>>>>> 3daf2ce3a0ac810462b7df190a09cf402b1262bb
     ]
    },
    {
     "name": "stderr",
     "output_type": "stream",
     "text": [
<<<<<<< HEAD
      "100%|██████████| 234/234 [00:04<00:00, 47.28it/s]\n"
=======
      "100%|█████████████████████████████████████████| 234/234 [00:05<00:00, 41.04it/s]\n"
>>>>>>> 3daf2ce3a0ac810462b7df190a09cf402b1262bb
     ]
    },
    {
     "name": "stdout",
     "output_type": "stream",
     "text": [
<<<<<<< HEAD
      "10 0.5928888331155409 0.7818175747863247 0.7755408883094788\n"
=======
      "10 0.5779559594367195 0.7873597756410257 0.7736378312110901\n"
>>>>>>> 3daf2ce3a0ac810462b7df190a09cf402b1262bb
     ]
    },
    {
     "name": "stderr",
     "output_type": "stream",
     "text": [
<<<<<<< HEAD
      "100%|██████████| 234/234 [00:04<00:00, 47.32it/s]\n"
=======
      "100%|█████████████████████████████████████████| 234/234 [00:05<00:00, 41.11it/s]\n"
>>>>>>> 3daf2ce3a0ac810462b7df190a09cf402b1262bb
     ]
    },
    {
     "name": "stdout",
     "output_type": "stream",
     "text": [
<<<<<<< HEAD
      "11 0.5796954131689195 0.7872763087606838 0.7841546535491943\n"
=======
      "11 0.5644946691815945 0.7906984508547008 0.7751402258872986\n"
>>>>>>> 3daf2ce3a0ac810462b7df190a09cf402b1262bb
     ]
    },
    {
     "name": "stderr",
     "output_type": "stream",
     "text": [
<<<<<<< HEAD
      "100%|██████████| 234/234 [00:04<00:00, 47.48it/s]\n"
=======
      "100%|█████████████████████████████████████████| 234/234 [00:05<00:00, 39.70it/s]\n"
>>>>>>> 3daf2ce3a0ac810462b7df190a09cf402b1262bb
     ]
    },
    {
     "name": "stdout",
     "output_type": "stream",
     "text": [
<<<<<<< HEAD
      "12 0.5630742930547362 0.7934194711538461 0.7914663553237915\n"
=======
      "12 0.5525223744529512 0.7971087072649573 0.7836538553237915\n"
>>>>>>> 3daf2ce3a0ac810462b7df190a09cf402b1262bb
     ]
    },
    {
     "name": "stderr",
     "output_type": "stream",
     "text": [
<<<<<<< HEAD
      "100%|██████████| 234/234 [00:04<00:00, 47.34it/s]\n"
=======
      "100%|█████████████████████████████████████████| 234/234 [00:05<00:00, 39.31it/s]\n"
>>>>>>> 3daf2ce3a0ac810462b7df190a09cf402b1262bb
     ]
    },
    {
     "name": "stdout",
     "output_type": "stream",
     "text": [
<<<<<<< HEAD
      "13 0.5506209847497326 0.7975093482905983 0.7776442170143127\n"
=======
      "13 0.5370414060072838 0.8034354967948718 0.7727363705635071\n"
>>>>>>> 3daf2ce3a0ac810462b7df190a09cf402b1262bb
     ]
    },
    {
     "name": "stderr",
     "output_type": "stream",
     "text": [
<<<<<<< HEAD
      "100%|██████████| 234/234 [00:04<00:00, 47.05it/s]\n"
=======
      "100%|█████████████████████████████████████████| 234/234 [00:05<00:00, 39.54it/s]\n"
>>>>>>> 3daf2ce3a0ac810462b7df190a09cf402b1262bb
     ]
    },
    {
     "name": "stdout",
     "output_type": "stream",
     "text": [
<<<<<<< HEAD
      "14 0.5389016086451486 0.8029513888888888 0.7924679517745972\n"
=======
      "14 0.5247860997275733 0.807792467948718 0.802584171295166\n"
>>>>>>> 3daf2ce3a0ac810462b7df190a09cf402b1262bb
     ]
    },
    {
     "name": "stderr",
     "output_type": "stream",
     "text": [
<<<<<<< HEAD
      "100%|██████████| 234/234 [00:04<00:00, 47.27it/s]\n"
=======
      "100%|█████████████████████████████████████████| 234/234 [00:05<00:00, 40.84it/s]\n"
>>>>>>> 3daf2ce3a0ac810462b7df190a09cf402b1262bb
     ]
    },
    {
     "name": "stdout",
     "output_type": "stream",
     "text": [
<<<<<<< HEAD
      "15 0.526694319662618 0.8089610042735043 0.8008814454078674\n"
=======
      "15 0.5170008702595347 0.810813969017094 0.7934695482254028\n"
>>>>>>> 3daf2ce3a0ac810462b7df190a09cf402b1262bb
     ]
    },
    {
     "name": "stderr",
     "output_type": "stream",
     "text": [
<<<<<<< HEAD
      "100%|██████████| 234/234 [00:04<00:00, 47.38it/s]\n"
=======
      "100%|█████████████████████████████████████████| 234/234 [00:05<00:00, 40.90it/s]\n"
>>>>>>> 3daf2ce3a0ac810462b7df190a09cf402b1262bb
     ]
    },
    {
     "name": "stdout",
     "output_type": "stream",
     "text": [
<<<<<<< HEAD
      "16 0.5166175302773586 0.8095452724358975 0.8125\n"
=======
      "16 0.5019518697210648 0.8169571314102564 0.8081931471824646\n"
>>>>>>> 3daf2ce3a0ac810462b7df190a09cf402b1262bb
     ]
    },
    {
     "name": "stderr",
     "output_type": "stream",
     "text": [
<<<<<<< HEAD
      "100%|██████████| 234/234 [00:04<00:00, 47.16it/s]\n"
=======
      "100%|█████████████████████████████████████████| 234/234 [00:05<00:00, 41.01it/s]\n"
>>>>>>> 3daf2ce3a0ac810462b7df190a09cf402b1262bb
     ]
    },
    {
     "name": "stdout",
     "output_type": "stream",
     "text": [
<<<<<<< HEAD
      "17 0.5072072373439314 0.8157885950854701 0.8133012652397156\n"
=======
      "17 0.49619489115195214 0.8173911591880342 0.7994791865348816\n"
>>>>>>> 3daf2ce3a0ac810462b7df190a09cf402b1262bb
     ]
    },
    {
     "name": "stderr",
     "output_type": "stream",
     "text": [
<<<<<<< HEAD
      "100%|██████████| 234/234 [00:04<00:00, 47.29it/s]\n"
=======
      "100%|█████████████████████████████████████████| 234/234 [00:05<00:00, 41.03it/s]\n"
>>>>>>> 3daf2ce3a0ac810462b7df190a09cf402b1262bb
     ]
    },
    {
     "name": "stdout",
     "output_type": "stream",
     "text": [
<<<<<<< HEAD
      "18 0.5002347238585673 0.8181423611111112 0.8125\n"
=======
      "18 0.4845295579136697 0.8205962873931624 0.8199118971824646\n"
>>>>>>> 3daf2ce3a0ac810462b7df190a09cf402b1262bb
     ]
    },
    {
     "name": "stderr",
     "output_type": "stream",
     "text": [
<<<<<<< HEAD
      "100%|██████████| 234/234 [00:04<00:00, 47.18it/s]\n"
=======
      "100%|█████████████████████████████████████████| 234/234 [00:05<00:00, 40.87it/s]\n"
>>>>>>> 3daf2ce3a0ac810462b7df190a09cf402b1262bb
     ]
    },
    {
     "name": "stdout",
     "output_type": "stream",
     "text": [
<<<<<<< HEAD
      "19 0.48945858985057716 0.8221487713675214 0.8129006624221802\n"
=======
      "19 0.47651086523809144 0.8248364049145299 0.8156049847602844\n"
>>>>>>> 3daf2ce3a0ac810462b7df190a09cf402b1262bb
     ]
    },
    {
     "name": "stderr",
     "output_type": "stream",
     "text": [
<<<<<<< HEAD
      "100%|██████████| 234/234 [00:05<00:00, 46.70it/s]\n"
=======
      "100%|█████████████████████████████████████████| 234/234 [00:05<00:00, 40.83it/s]\n"
>>>>>>> 3daf2ce3a0ac810462b7df190a09cf402b1262bb
     ]
    },
    {
     "name": "stdout",
     "output_type": "stream",
     "text": [
<<<<<<< HEAD
      "20 0.4805831308016961 0.8241018963675214 0.8128004670143127\n"
=======
      "20 0.4703686141404983 0.8279246794871795 0.823317289352417\n"
>>>>>>> 3daf2ce3a0ac810462b7df190a09cf402b1262bb
     ]
    },
    {
     "name": "stderr",
     "output_type": "stream",
     "text": [
<<<<<<< HEAD
      "100%|██████████| 234/234 [00:04<00:00, 46.92it/s]\n"
=======
      "100%|█████████████████████████████████████████| 234/234 [00:05<00:00, 40.88it/s]\n"
>>>>>>> 3daf2ce3a0ac810462b7df190a09cf402b1262bb
     ]
    },
    {
     "name": "stdout",
     "output_type": "stream",
     "text": [
<<<<<<< HEAD
      "21 0.4739516331402529 0.8253372061965812 0.8204126954078674\n"
=======
      "21 0.4630868303161834 0.8305121527777778 0.8254206776618958\n"
>>>>>>> 3daf2ce3a0ac810462b7df190a09cf402b1262bb
     ]
    },
    {
     "name": "stderr",
     "output_type": "stream",
     "text": [
<<<<<<< HEAD
      "100%|██████████| 234/234 [00:05<00:00, 45.46it/s]\n"
=======
      "100%|█████████████████████████████████████████| 234/234 [00:05<00:00, 40.90it/s]\n"
>>>>>>> 3daf2ce3a0ac810462b7df190a09cf402b1262bb
     ]
    },
    {
     "name": "stdout",
     "output_type": "stream",
     "text": [
<<<<<<< HEAD
      "22 0.4689443085838285 0.8291599893162394 0.8249198794364929\n"
=======
      "22 0.4584410698372919 0.8327657585470085 0.8300280570983887\n"
>>>>>>> 3daf2ce3a0ac810462b7df190a09cf402b1262bb
     ]
    },
    {
     "name": "stderr",
     "output_type": "stream",
     "text": [
<<<<<<< HEAD
      "100%|██████████| 234/234 [00:04<00:00, 47.09it/s]\n"
=======
      "100%|█████████████████████████████████████████| 234/234 [00:05<00:00, 40.90it/s]\n"
>>>>>>> 3daf2ce3a0ac810462b7df190a09cf402b1262bb
     ]
    },
    {
     "name": "stdout",
     "output_type": "stream",
     "text": [
<<<<<<< HEAD
      "23 0.46161707941554647 0.832832532051282 0.825120210647583\n"
=======
      "23 0.45094845555882596 0.8353198450854701 0.8287259936332703\n"
>>>>>>> 3daf2ce3a0ac810462b7df190a09cf402b1262bb
     ]
    },
    {
     "name": "stderr",
     "output_type": "stream",
     "text": [
<<<<<<< HEAD
      "100%|██████████| 234/234 [00:04<00:00, 47.24it/s]\n"
=======
      "100%|█████████████████████████████████████████| 234/234 [00:05<00:00, 40.79it/s]\n"
>>>>>>> 3daf2ce3a0ac810462b7df190a09cf402b1262bb
     ]
    },
    {
     "name": "stdout",
     "output_type": "stream",
     "text": [
<<<<<<< HEAD
      "24 0.4536956093342007 0.8344184027777778 0.8282251954078674\n"
=======
      "24 0.4439501356925064 0.8374732905982906 0.8282251954078674\n"
>>>>>>> 3daf2ce3a0ac810462b7df190a09cf402b1262bb
     ]
    },
    {
     "name": "stderr",
     "output_type": "stream",
     "text": [
<<<<<<< HEAD
      "100%|██████████| 234/234 [00:04<00:00, 47.07it/s]\n"
=======
      "100%|█████████████████████████████████████████| 234/234 [00:05<00:00, 40.87it/s]\n"
>>>>>>> 3daf2ce3a0ac810462b7df190a09cf402b1262bb
     ]
    },
    {
     "name": "stdout",
     "output_type": "stream",
     "text": [
<<<<<<< HEAD
      "25 0.4493564560433826 0.8368389423076923 0.8324319124221802\n"
=======
      "25 0.4394882913566966 0.8395599626068376 0.8266226053237915\n"
>>>>>>> 3daf2ce3a0ac810462b7df190a09cf402b1262bb
     ]
    },
    {
     "name": "stderr",
     "output_type": "stream",
     "text": [
<<<<<<< HEAD
      "100%|██████████| 234/234 [00:04<00:00, 47.14it/s]\n"
=======
      "100%|█████████████████████████████████████████| 234/234 [00:05<00:00, 40.90it/s]\n"
>>>>>>> 3daf2ce3a0ac810462b7df190a09cf402b1262bb
     ]
    },
    {
     "name": "stdout",
     "output_type": "stream",
     "text": [
<<<<<<< HEAD
      "26 0.4423412967137513 0.8387586805555556 0.8255208730697632\n"
=======
      "26 0.4344742562893634 0.8422309027777778 0.8240184187889099\n"
>>>>>>> 3daf2ce3a0ac810462b7df190a09cf402b1262bb
     ]
    },
    {
     "name": "stderr",
     "output_type": "stream",
     "text": [
<<<<<<< HEAD
      "100%|██████████| 234/234 [00:04<00:00, 47.31it/s]\n"
=======
      "100%|█████████████████████████████████████████| 234/234 [00:05<00:00, 40.83it/s]\n"
>>>>>>> 3daf2ce3a0ac810462b7df190a09cf402b1262bb
     ]
    },
    {
     "name": "stdout",
     "output_type": "stream",
     "text": [
<<<<<<< HEAD
      "27 0.43870939563783967 0.8406617254273504 0.8138021230697632\n"
=======
      "27 0.42766318671693104 0.8436331463675214 0.83984375\n"
>>>>>>> 3daf2ce3a0ac810462b7df190a09cf402b1262bb
     ]
    },
    {
     "name": "stderr",
     "output_type": "stream",
     "text": [
<<<<<<< HEAD
      "100%|██████████| 234/234 [00:04<00:00, 46.94it/s]\n"
=======
      "100%|█████████████████████████████████████████| 234/234 [00:05<00:00, 40.98it/s]\n"
>>>>>>> 3daf2ce3a0ac810462b7df190a09cf402b1262bb
     ]
    },
    {
     "name": "stdout",
     "output_type": "stream",
     "text": [
<<<<<<< HEAD
      "28 0.43215812071198556 0.8426649305555556 0.822115421295166\n"
=======
      "28 0.42280128636585285 0.8457698985042735 0.8363381624221802\n"
>>>>>>> 3daf2ce3a0ac810462b7df190a09cf402b1262bb
     ]
    },
    {
     "name": "stderr",
     "output_type": "stream",
     "text": [
<<<<<<< HEAD
      "100%|██████████| 234/234 [00:04<00:00, 46.86it/s]\n"
=======
      "100%|█████████████████████████████████████████| 234/234 [00:05<00:00, 40.94it/s]\n"
>>>>>>> 3daf2ce3a0ac810462b7df190a09cf402b1262bb
     ]
    },
    {
     "name": "stdout",
     "output_type": "stream",
     "text": [
<<<<<<< HEAD
      "29 0.4277253583265476 0.8449686164529915 0.8321314454078674\n"
=======
      "29 0.419025404258859 0.8474058493589743 0.836838960647583\n"
>>>>>>> 3daf2ce3a0ac810462b7df190a09cf402b1262bb
     ]
    },
    {
     "name": "stderr",
     "output_type": "stream",
     "text": [
<<<<<<< HEAD
      "100%|██████████| 234/234 [00:04<00:00, 47.19it/s]\n"
=======
      "100%|█████████████████████████████████████████| 234/234 [00:05<00:00, 40.93it/s]\n"
>>>>>>> 3daf2ce3a0ac810462b7df190a09cf402b1262bb
     ]
    },
    {
     "name": "stdout",
     "output_type": "stream",
     "text": [
<<<<<<< HEAD
      "30 0.4241107521906431 0.8467214209401709 0.842848539352417\n"
=======
      "30 0.4123797774826508 0.850761217948718 0.8432492017745972\n"
>>>>>>> 3daf2ce3a0ac810462b7df190a09cf402b1262bb
     ]
    },
    {
     "name": "stderr",
     "output_type": "stream",
     "text": [
<<<<<<< HEAD
      "100%|██████████| 234/234 [00:04<00:00, 47.21it/s]\n"
=======
      "100%|█████████████████████████████████████████| 234/234 [00:05<00:00, 40.96it/s]\n"
>>>>>>> 3daf2ce3a0ac810462b7df190a09cf402b1262bb
     ]
    },
    {
     "name": "stdout",
     "output_type": "stream",
     "text": [
<<<<<<< HEAD
      "31 0.41690537090465235 0.8496928418803419 0.837740421295166\n"
=======
      "31 0.40958063157331276 0.8503939636752137 0.8453525900840759\n"
>>>>>>> 3daf2ce3a0ac810462b7df190a09cf402b1262bb
     ]
    },
    {
     "name": "stderr",
     "output_type": "stream",
     "text": [
<<<<<<< HEAD
      "100%|██████████| 234/234 [00:04<00:00, 47.08it/s]\n"
=======
      "100%|█████████████████████████████████████████| 234/234 [00:05<00:00, 40.84it/s]\n"
>>>>>>> 3daf2ce3a0ac810462b7df190a09cf402b1262bb
     ]
    },
    {
     "name": "stdout",
     "output_type": "stream",
     "text": [
<<<<<<< HEAD
      "32 0.4155805434536013 0.8483907585470085 0.8349359035491943\n"
=======
      "32 0.40484881106876 0.8526642628205128 0.8438501954078674\n"
>>>>>>> 3daf2ce3a0ac810462b7df190a09cf402b1262bb
     ]
    },
    {
     "name": "stderr",
     "output_type": "stream",
     "text": [
<<<<<<< HEAD
      "100%|██████████| 234/234 [00:04<00:00, 47.31it/s]\n"
=======
      "100%|█████████████████████████████████████████| 234/234 [00:05<00:00, 40.96it/s]\n"
>>>>>>> 3daf2ce3a0ac810462b7df190a09cf402b1262bb
     ]
    },
    {
     "name": "stdout",
     "output_type": "stream",
     "text": [
<<<<<<< HEAD
      "33 0.4086747055657432 0.8530649038461539 0.8436498641967773\n"
=======
      "33 0.40144159775946786 0.8535490117521367 0.8431490659713745\n"
>>>>>>> 3daf2ce3a0ac810462b7df190a09cf402b1262bb
     ]
    },
    {
     "name": "stderr",
     "output_type": "stream",
     "text": [
<<<<<<< HEAD
      "100%|██████████| 234/234 [00:04<00:00, 47.28it/s]\n"
=======
      "100%|█████████████████████████████████████████| 234/234 [00:05<00:00, 40.83it/s]\n"
>>>>>>> 3daf2ce3a0ac810462b7df190a09cf402b1262bb
     ]
    },
    {
     "name": "stdout",
     "output_type": "stream",
     "text": [
<<<<<<< HEAD
      "34 0.4049044163186151 0.8536992521367521 0.8386418223381042\n"
=======
      "34 0.3982188143315745 0.8543836805555556 0.8449519276618958\n"
>>>>>>> 3daf2ce3a0ac810462b7df190a09cf402b1262bb
     ]
    },
    {
     "name": "stderr",
     "output_type": "stream",
     "text": [
<<<<<<< HEAD
      "100%|██████████| 234/234 [00:04<00:00, 47.36it/s]\n"
=======
      "100%|█████████████████████████████████████████| 234/234 [00:05<00:00, 40.91it/s]\n"
>>>>>>> 3daf2ce3a0ac810462b7df190a09cf402b1262bb
     ]
    },
    {
     "name": "stdout",
     "output_type": "stream",
     "text": [
<<<<<<< HEAD
      "35 0.4029401149360919 0.8539496527777778 0.8426482677459717\n"
=======
      "35 0.3919975083529182 0.8563368055555556 0.8427484035491943\n"
>>>>>>> 3daf2ce3a0ac810462b7df190a09cf402b1262bb
     ]
    },
    {
     "name": "stderr",
     "output_type": "stream",
     "text": [
<<<<<<< HEAD
      "100%|██████████| 234/234 [00:04<00:00, 47.14it/s]\n"
=======
      "100%|█████████████████████████████████████████| 234/234 [00:05<00:00, 40.91it/s]\n"
>>>>>>> 3daf2ce3a0ac810462b7df190a09cf402b1262bb
     ]
    },
    {
     "name": "stdout",
     "output_type": "stream",
     "text": [
<<<<<<< HEAD
      "36 0.3986702011378538 0.856270032051282 0.8462539911270142\n"
=======
      "36 0.3899285821443975 0.8570045405982906 0.8508613705635071\n"
>>>>>>> 3daf2ce3a0ac810462b7df190a09cf402b1262bb
     ]
    },
    {
     "name": "stderr",
     "output_type": "stream",
     "text": [
<<<<<<< HEAD
      "100%|██████████| 234/234 [00:04<00:00, 47.00it/s]\n"
=======
      "100%|█████████████████████████████████████████| 234/234 [00:05<00:00, 40.86it/s]\n"
>>>>>>> 3daf2ce3a0ac810462b7df190a09cf402b1262bb
     ]
    },
    {
     "name": "stdout",
     "output_type": "stream",
     "text": [
<<<<<<< HEAD
      "37 0.3927824359722915 0.8581563835470085 0.8438501954078674\n"
=======
      "37 0.38575175711525356 0.8580562232905983 0.8539663553237915\n"
>>>>>>> 3daf2ce3a0ac810462b7df190a09cf402b1262bb
     ]
    },
    {
     "name": "stderr",
     "output_type": "stream",
     "text": [
<<<<<<< HEAD
      "100%|██████████| 234/234 [00:04<00:00, 47.05it/s]\n"
=======
      "100%|█████████████████████████████████████████| 234/234 [00:05<00:00, 40.83it/s]\n"
>>>>>>> 3daf2ce3a0ac810462b7df190a09cf402b1262bb
     ]
    },
    {
     "name": "stdout",
     "output_type": "stream",
     "text": [
<<<<<<< HEAD
      "38 0.38981787291207537 0.8599592681623932 0.8491586446762085\n"
=======
      "38 0.3838063254632663 0.8596587873931624 0.8452523946762085\n"
>>>>>>> 3daf2ce3a0ac810462b7df190a09cf402b1262bb
     ]
    },
    {
     "name": "stderr",
     "output_type": "stream",
     "text": [
<<<<<<< HEAD
      "100%|██████████| 234/234 [00:04<00:00, 47.19it/s]\n"
=======
      "100%|█████████████████████████████████████████| 234/234 [00:05<00:00, 40.83it/s]\n"
>>>>>>> 3daf2ce3a0ac810462b7df190a09cf402b1262bb
     ]
    },
    {
     "name": "stdout",
     "output_type": "stream",
     "text": [
<<<<<<< HEAD
      "39 0.38502270430965996 0.8612446581196581 0.8415464758872986\n"
=======
      "39 0.37946960278846675 0.862129407051282 0.8550681471824646\n"
>>>>>>> 3daf2ce3a0ac810462b7df190a09cf402b1262bb
     ]
    },
    {
     "name": "stderr",
     "output_type": "stream",
     "text": [
<<<<<<< HEAD
      "100%|██████████| 234/234 [00:04<00:00, 46.92it/s]\n"
=======
      "100%|█████████████████████████████████████████| 234/234 [00:05<00:00, 40.89it/s]\n"
>>>>>>> 3daf2ce3a0ac810462b7df190a09cf402b1262bb
     ]
    },
    {
     "name": "stdout",
     "output_type": "stream",
     "text": [
<<<<<<< HEAD
      "40 0.3831967729355644 0.8619958600427351 0.8497596383094788\n"
=======
      "40 0.37551421592163936 0.8618289262820513 0.8537660241127014\n"
>>>>>>> 3daf2ce3a0ac810462b7df190a09cf402b1262bb
     ]
    },
    {
     "name": "stderr",
     "output_type": "stream",
     "text": [
<<<<<<< HEAD
      "100%|██████████| 234/234 [00:04<00:00, 47.45it/s]\n"
=======
      "100%|█████████████████████████████████████████| 234/234 [00:05<00:00, 40.78it/s]\n"
>>>>>>> 3daf2ce3a0ac810462b7df190a09cf402b1262bb
     ]
    },
    {
     "name": "stdout",
     "output_type": "stream",
     "text": [
<<<<<<< HEAD
      "41 0.37859972006773235 0.8625467414529915 0.8515625\n"
=======
      "41 0.3734026675316397 0.863548344017094 0.8552684187889099\n"
>>>>>>> 3daf2ce3a0ac810462b7df190a09cf402b1262bb
     ]
    },
    {
     "name": "stderr",
     "output_type": "stream",
     "text": [
<<<<<<< HEAD
      "100%|██████████| 234/234 [00:04<00:00, 47.43it/s]\n"
=======
      "100%|█████████████████████████████████████████| 234/234 [00:05<00:00, 40.84it/s]\n"
>>>>>>> 3daf2ce3a0ac810462b7df190a09cf402b1262bb
     ]
    },
    {
     "name": "stdout",
     "output_type": "stream",
     "text": [
<<<<<<< HEAD
      "42 0.37573007478222825 0.8647836538461539 0.8520632982254028\n"
=======
      "42 0.3687694892607022 0.8667534722222222 0.8559695482254028\n"
>>>>>>> 3daf2ce3a0ac810462b7df190a09cf402b1262bb
     ]
    },
    {
     "name": "stderr",
     "output_type": "stream",
     "text": [
<<<<<<< HEAD
      "100%|██████████| 234/234 [00:04<00:00, 47.38it/s]\n"
=======
      "100%|█████████████████████████████████████████| 234/234 [00:05<00:00, 40.75it/s]\n"
>>>>>>> 3daf2ce3a0ac810462b7df190a09cf402b1262bb
     ]
    },
    {
     "name": "stdout",
     "output_type": "stream",
     "text": [
<<<<<<< HEAD
      "43 0.3713625597851471 0.8662526709401709 0.8531650900840759\n"
=======
      "43 0.3658951600222117 0.8666366185897436 0.8457531929016113\n"
>>>>>>> 3daf2ce3a0ac810462b7df190a09cf402b1262bb
     ]
    },
    {
     "name": "stderr",
     "output_type": "stream",
     "text": [
<<<<<<< HEAD
      "100%|██████████| 234/234 [00:04<00:00, 47.70it/s]\n"
=======
      "100%|█████████████████████████████████████████| 234/234 [00:05<00:00, 40.75it/s]\n"
>>>>>>> 3daf2ce3a0ac810462b7df190a09cf402b1262bb
     ]
    },
    {
     "name": "stdout",
     "output_type": "stream",
     "text": [
<<<<<<< HEAD
      "44 0.369392591420673 0.8669037126068376 0.8539663553237915\n"
=======
      "44 0.36452927379649086 0.8664863782051282 0.8574719429016113\n"
>>>>>>> 3daf2ce3a0ac810462b7df190a09cf402b1262bb
     ]
    },
    {
     "name": "stderr",
     "output_type": "stream",
     "text": [
<<<<<<< HEAD
      "100%|██████████| 234/234 [00:04<00:00, 47.59it/s]\n"
=======
      "100%|█████████████████████████████████████████| 234/234 [00:05<00:00, 40.78it/s]\n"
>>>>>>> 3daf2ce3a0ac810462b7df190a09cf402b1262bb
     ]
    },
    {
     "name": "stdout",
     "output_type": "stream",
     "text": [
<<<<<<< HEAD
      "45 0.36292838647386033 0.8694411057692307 0.8556690812110901\n"
=======
      "45 0.3615756218397566 0.8679053151709402 0.8525640964508057\n"
>>>>>>> 3daf2ce3a0ac810462b7df190a09cf402b1262bb
     ]
    },
    {
     "name": "stderr",
     "output_type": "stream",
     "text": [
<<<<<<< HEAD
      "100%|██████████| 234/234 [00:04<00:00, 47.04it/s]\n"
=======
      "100%|█████████████████████████████████████████| 234/234 [00:05<00:00, 40.84it/s]\n"
>>>>>>> 3daf2ce3a0ac810462b7df190a09cf402b1262bb
     ]
    },
    {
     "name": "stdout",
     "output_type": "stream",
     "text": [
<<<<<<< HEAD
      "46 0.3615543968943567 0.8689903846153846 0.85546875\n"
=======
      "46 0.3595039389164151 0.8685062767094017 0.8615785241127014\n"
>>>>>>> 3daf2ce3a0ac810462b7df190a09cf402b1262bb
     ]
    },
    {
     "name": "stderr",
     "output_type": "stream",
     "text": [
<<<<<<< HEAD
      "100%|██████████| 234/234 [00:04<00:00, 47.35it/s]\n"
=======
      "100%|█████████████████████████████████████████| 234/234 [00:05<00:00, 41.01it/s]\n"
>>>>>>> 3daf2ce3a0ac810462b7df190a09cf402b1262bb
     ]
    },
    {
     "name": "stdout",
     "output_type": "stream",
     "text": [
<<<<<<< HEAD
      "47 0.3591298755146403 0.8698751335470085 0.8540664911270142\n"
=======
      "47 0.3545524751040045 0.8714443108974359 0.8586738705635071\n"
>>>>>>> 3daf2ce3a0ac810462b7df190a09cf402b1262bb
     ]
    },
    {
     "name": "stderr",
     "output_type": "stream",
     "text": [
<<<<<<< HEAD
      "100%|██████████| 234/234 [00:04<00:00, 47.24it/s]\n"
=======
      "100%|█████████████████████████████████████████| 234/234 [00:05<00:00, 40.95it/s]\n"
>>>>>>> 3daf2ce3a0ac810462b7df190a09cf402b1262bb
     ]
    },
    {
     "name": "stdout",
     "output_type": "stream",
     "text": [
<<<<<<< HEAD
      "48 0.3541060015878964 0.8711104433760684 0.8567708730697632\n"
=======
      "48 0.352692999936992 0.8718115651709402 0.8501602411270142\n"
>>>>>>> 3daf2ce3a0ac810462b7df190a09cf402b1262bb
     ]
    },
    {
     "name": "stderr",
     "output_type": "stream",
     "text": [
<<<<<<< HEAD
      "100%|██████████| 234/234 [00:04<00:00, 47.19it/s]\n"
=======
      "100%|█████████████████████████████████████████| 234/234 [00:05<00:00, 40.91it/s]\n"
>>>>>>> 3daf2ce3a0ac810462b7df190a09cf402b1262bb
     ]
    },
    {
     "name": "stdout",
     "output_type": "stream",
     "text": [
<<<<<<< HEAD
      "49 0.35210628046498277 0.8725961538461539 0.8569711446762085\n"
=======
      "49 0.3503694414069213 0.8726629273504274 0.8402444124221802\n"
>>>>>>> 3daf2ce3a0ac810462b7df190a09cf402b1262bb
     ]
    },
    {
     "name": "stderr",
     "output_type": "stream",
     "text": [
<<<<<<< HEAD
      "100%|██████████| 234/234 [00:04<00:00, 47.07it/s]\n"
=======
      "100%|█████████████████████████████████████████| 234/234 [00:05<00:00, 40.91it/s]\n"
>>>>>>> 3daf2ce3a0ac810462b7df190a09cf402b1262bb
     ]
    },
    {
     "name": "stdout",
     "output_type": "stream",
     "text": [
<<<<<<< HEAD
      "50 0.3493366827268969 0.8733306623931624 0.862379789352417\n"
=======
      "50 0.3459739587849302 0.8739483173076923 0.8590745329856873\n"
>>>>>>> 3daf2ce3a0ac810462b7df190a09cf402b1262bb
     ]
    },
    {
     "name": "stderr",
     "output_type": "stream",
     "text": [
<<<<<<< HEAD
      "100%|██████████| 234/234 [00:04<00:00, 47.05it/s]\n"
=======
      "100%|█████████████████████████████████████████| 234/234 [00:05<00:00, 40.87it/s]\n"
>>>>>>> 3daf2ce3a0ac810462b7df190a09cf402b1262bb
     ]
    },
    {
     "name": "stdout",
     "output_type": "stream",
     "text": [
<<<<<<< HEAD
      "51 0.34715699452443183 0.8732972756410257 0.8319311141967773\n"
=======
      "51 0.34447857545680755 0.8734642094017094 0.8608773946762085\n"
>>>>>>> 3daf2ce3a0ac810462b7df190a09cf402b1262bb
     ]
    },
    {
     "name": "stderr",
     "output_type": "stream",
     "text": [
<<<<<<< HEAD
      "100%|██████████| 234/234 [00:04<00:00, 47.32it/s]\n"
=======
      "100%|█████████████████████████████████████████| 234/234 [00:05<00:00, 40.31it/s]\n"
>>>>>>> 3daf2ce3a0ac810462b7df190a09cf402b1262bb
     ]
    },
    {
     "name": "stdout",
     "output_type": "stream",
     "text": [
<<<<<<< HEAD
      "52 0.3446800158770811 0.8750834668803419 0.8599759936332703\n"
=======
      "52 0.34218414198175523 0.8753171741452992 0.8511618971824646\n"
>>>>>>> 3daf2ce3a0ac810462b7df190a09cf402b1262bb
     ]
    },
    {
     "name": "stderr",
     "output_type": "stream",
     "text": [
<<<<<<< HEAD
      "100%|██████████| 234/234 [00:04<00:00, 47.14it/s]\n"
=======
      "100%|█████████████████████████████████████████| 234/234 [00:05<00:00, 40.94it/s]\n"
>>>>>>> 3daf2ce3a0ac810462b7df190a09cf402b1262bb
     ]
    },
    {
     "name": "stdout",
     "output_type": "stream",
     "text": [
<<<<<<< HEAD
      "53 0.34270518883870904 0.875534188034188 0.8559695482254028\n"
=======
      "53 0.34096398495553387 0.8759515224358975 0.8509615659713745\n"
>>>>>>> 3daf2ce3a0ac810462b7df190a09cf402b1262bb
     ]
    },
    {
     "name": "stderr",
     "output_type": "stream",
     "text": [
<<<<<<< HEAD
      "100%|██████████| 234/234 [00:04<00:00, 47.13it/s]\n"
=======
      "100%|█████████████████████████████████████████| 234/234 [00:05<00:00, 40.87it/s]\n"
>>>>>>> 3daf2ce3a0ac810462b7df190a09cf402b1262bb
     ]
    },
    {
     "name": "stdout",
     "output_type": "stream",
     "text": [
<<<<<<< HEAD
      "54 0.33939472608300236 0.8762853899572649 0.8605769276618958\n"
=======
      "54 0.33682565653272967 0.8776709401709402 0.859375\n"
>>>>>>> 3daf2ce3a0ac810462b7df190a09cf402b1262bb
     ]
    },
    {
     "name": "stderr",
     "output_type": "stream",
     "text": [
<<<<<<< HEAD
      "100%|██████████| 234/234 [00:04<00:00, 47.16it/s]\n"
=======
      "100%|█████████████████████████████████████████| 234/234 [00:05<00:00, 40.83it/s]\n"
>>>>>>> 3daf2ce3a0ac810462b7df190a09cf402b1262bb
     ]
    },
    {
     "name": "stdout",
     "output_type": "stream",
     "text": [
<<<<<<< HEAD
      "55 0.33743167224104315 0.8774539262820513 0.8598757982254028\n"
=======
      "55 0.3369622908436689 0.8768696581196581 0.8657852411270142\n"
>>>>>>> 3daf2ce3a0ac810462b7df190a09cf402b1262bb
     ]
    },
    {
     "name": "stderr",
     "output_type": "stream",
     "text": [
<<<<<<< HEAD
      "100%|██████████| 234/234 [00:04<00:00, 47.32it/s]\n"
=======
      "100%|█████████████████████████████████████████| 234/234 [00:05<00:00, 40.81it/s]\n"
>>>>>>> 3daf2ce3a0ac810462b7df190a09cf402b1262bb
     ]
    },
    {
     "name": "stdout",
     "output_type": "stream",
     "text": [
<<<<<<< HEAD
      "56 0.33517838445344195 0.8785890758547008 0.862379789352417\n"
=======
      "56 0.33347743519386 0.8776375534188035 0.8651843070983887\n"
>>>>>>> 3daf2ce3a0ac810462b7df190a09cf402b1262bb
     ]
    },
    {
     "name": "stderr",
     "output_type": "stream",
     "text": [
<<<<<<< HEAD
      "100%|██████████| 234/234 [00:04<00:00, 47.21it/s]\n"
=======
      "100%|█████████████████████████████████████████| 234/234 [00:05<00:00, 40.67it/s]\n"
>>>>>>> 3daf2ce3a0ac810462b7df190a09cf402b1262bb
     ]
    },
    {
     "name": "stdout",
     "output_type": "stream",
     "text": [
<<<<<<< HEAD
      "57 0.33356954170143144 0.8784555288461539 0.8613781929016113\n"
=======
      "57 0.3309648986026453 0.8788394764957265 0.868088960647583\n"
>>>>>>> 3daf2ce3a0ac810462b7df190a09cf402b1262bb
     ]
    },
    {
     "name": "stderr",
     "output_type": "stream",
     "text": [
<<<<<<< HEAD
      "100%|██████████| 234/234 [00:04<00:00, 47.37it/s]\n"
=======
      "100%|█████████████████████████████████████████| 234/234 [00:05<00:00, 40.88it/s]\n"
>>>>>>> 3daf2ce3a0ac810462b7df190a09cf402b1262bb
     ]
    },
    {
     "name": "stdout",
     "output_type": "stream",
     "text": [
<<<<<<< HEAD
      "58 0.32984834576880984 0.8801582532051282 0.8619791865348816\n"
=======
      "58 0.3289654624564453 0.8796741452991453 0.8633814454078674\n"
>>>>>>> 3daf2ce3a0ac810462b7df190a09cf402b1262bb
     ]
    },
    {
     "name": "stderr",
     "output_type": "stream",
     "text": [
<<<<<<< HEAD
      "100%|██████████| 234/234 [00:04<00:00, 47.21it/s]\n"
=======
      "100%|█████████████████████████████████████████| 234/234 [00:05<00:00, 40.95it/s]\n"
>>>>>>> 3daf2ce3a0ac810462b7df190a09cf402b1262bb
     ]
    },
    {
     "name": "stdout",
     "output_type": "stream",
     "text": [
<<<<<<< HEAD
      "59 0.32764983273115283 0.8813601762820513 0.8634815812110901\n"
=======
      "59 0.32852024888787656 0.8798410790598291 0.8612780570983887\n"
>>>>>>> 3daf2ce3a0ac810462b7df190a09cf402b1262bb
     ]
    },
    {
     "name": "stderr",
     "output_type": "stream",
     "text": [
<<<<<<< HEAD
      "100%|██████████| 234/234 [00:04<00:00, 47.06it/s]\n"
=======
      "100%|█████████████████████████████████████████| 234/234 [00:05<00:00, 40.72it/s]\n"
>>>>>>> 3daf2ce3a0ac810462b7df190a09cf402b1262bb
     ]
    },
    {
     "name": "stdout",
     "output_type": "stream",
     "text": [
<<<<<<< HEAD
      "60 0.3267152290871215 0.8798577724358975 0.8607772588729858\n"
=======
      "60 0.3243250310932618 0.8822115384615384 0.8573718070983887\n"
>>>>>>> 3daf2ce3a0ac810462b7df190a09cf402b1262bb
     ]
    },
    {
     "name": "stderr",
     "output_type": "stream",
     "text": [
<<<<<<< HEAD
      "100%|██████████| 234/234 [00:04<00:00, 47.15it/s]\n"
=======
      "100%|█████████████████████████████████████████| 234/234 [00:05<00:00, 40.73it/s]\n"
>>>>>>> 3daf2ce3a0ac810462b7df190a09cf402b1262bb
     ]
    },
    {
     "name": "stdout",
     "output_type": "stream",
     "text": [
<<<<<<< HEAD
      "61 0.32224342578726267 0.8833299946581197 0.8643830418586731\n"
=======
      "61 0.32255006386486756 0.8816773504273504 0.8696914911270142\n"
>>>>>>> 3daf2ce3a0ac810462b7df190a09cf402b1262bb
     ]
    },
    {
     "name": "stderr",
     "output_type": "stream",
     "text": [
<<<<<<< HEAD
      "100%|██████████| 234/234 [00:04<00:00, 47.28it/s]\n"
=======
      "100%|█████████████████████████████████████████| 234/234 [00:05<00:00, 40.60it/s]\n"
>>>>>>> 3daf2ce3a0ac810462b7df190a09cf402b1262bb
     ]
    },
    {
     "name": "stdout",
     "output_type": "stream",
     "text": [
<<<<<<< HEAD
      "62 0.3217614458737967 0.8818275908119658 0.8660857677459717\n"
=======
      "62 0.32041817903518677 0.8829126602564102 0.8681890964508057\n"
>>>>>>> 3daf2ce3a0ac810462b7df190a09cf402b1262bb
     ]
    },
    {
     "name": "stderr",
     "output_type": "stream",
     "text": [
<<<<<<< HEAD
      "100%|██████████| 234/234 [00:04<00:00, 47.38it/s]\n"
=======
      "100%|█████████████████████████████████████████| 234/234 [00:05<00:00, 40.73it/s]\n"
>>>>>>> 3daf2ce3a0ac810462b7df190a09cf402b1262bb
     ]
    },
    {
     "name": "stdout",
     "output_type": "stream",
     "text": [
<<<<<<< HEAD
      "63 0.3200336743322053 0.8843649839743589 0.8615785241127014\n"
=======
      "63 0.31920864519387354 0.884498530982906 0.8678886294364929\n"
>>>>>>> 3daf2ce3a0ac810462b7df190a09cf402b1262bb
     ]
    },
    {
     "name": "stderr",
     "output_type": "stream",
     "text": [
<<<<<<< HEAD
      "100%|██████████| 234/234 [00:04<00:00, 47.35it/s]\n"
=======
      "100%|█████████████████████████████████████████| 234/234 [00:05<00:00, 40.81it/s]\n"
>>>>>>> 3daf2ce3a0ac810462b7df190a09cf402b1262bb
     ]
    },
    {
     "name": "stdout",
     "output_type": "stream",
     "text": [
<<<<<<< HEAD
      "64 0.31790437981038644 0.8837640224358975 0.8685897588729858\n"
=======
      "64 0.3164584811281237 0.8846988514957265 0.859375\n"
>>>>>>> 3daf2ce3a0ac810462b7df190a09cf402b1262bb
     ]
    },
    {
     "name": "stderr",
     "output_type": "stream",
     "text": [
<<<<<<< HEAD
      "100%|██████████| 234/234 [00:04<00:00, 46.94it/s]\n"
=======
      "100%|█████████████████████████████████████████| 234/234 [00:05<00:00, 40.74it/s]\n"
>>>>>>> 3daf2ce3a0ac810462b7df190a09cf402b1262bb
     ]
    },
    {
     "name": "stdout",
     "output_type": "stream",
     "text": [
<<<<<<< HEAD
      "65 0.31636694489374695 0.8838975694444444 0.8625801205635071\n"
=======
      "65 0.31599676954388106 0.8852330395299145 0.8670873641967773\n"
>>>>>>> 3daf2ce3a0ac810462b7df190a09cf402b1262bb
     ]
    },
    {
     "name": "stderr",
     "output_type": "stream",
     "text": [
<<<<<<< HEAD
      "100%|██████████| 234/234 [00:04<00:00, 47.11it/s]\n"
=======
      "100%|█████████████████████████████████████████| 234/234 [00:05<00:00, 40.81it/s]\n"
>>>>>>> 3daf2ce3a0ac810462b7df190a09cf402b1262bb
     ]
    },
    {
     "name": "stdout",
     "output_type": "stream",
     "text": [
<<<<<<< HEAD
      "66 0.3134734799421908 0.8846821581196581 0.8667868971824646\n"
=======
      "66 0.313277449091105 0.885299813034188 0.8686898946762085\n"
>>>>>>> 3daf2ce3a0ac810462b7df190a09cf402b1262bb
     ]
    },
    {
     "name": "stderr",
     "output_type": "stream",
     "text": [
<<<<<<< HEAD
      "100%|██████████| 234/234 [00:04<00:00, 47.19it/s]\n"
=======
      "100%|█████████████████████████████████████████| 234/234 [00:05<00:00, 40.81it/s]\n"
>>>>>>> 3daf2ce3a0ac810462b7df190a09cf402b1262bb
     ]
    },
    {
     "name": "stdout",
     "output_type": "stream",
     "text": [
<<<<<<< HEAD
      "67 0.31126405560919146 0.8862680288461539 0.8615785241127014\n"
=======
      "67 0.3107725320455854 0.8878872863247863 0.8704928159713745\n"
>>>>>>> 3daf2ce3a0ac810462b7df190a09cf402b1262bb
     ]
    },
    {
     "name": "stderr",
     "output_type": "stream",
     "text": [
<<<<<<< HEAD
      "100%|██████████| 234/234 [00:04<00:00, 47.27it/s]\n"
=======
      "100%|█████████████████████████████████████████| 234/234 [00:05<00:00, 40.81it/s]\n"
>>>>>>> 3daf2ce3a0ac810462b7df190a09cf402b1262bb
     ]
    },
    {
     "name": "stdout",
     "output_type": "stream",
     "text": [
<<<<<<< HEAD
      "68 0.30864765683724643 0.8883046207264957 0.8703926205635071\n"
=======
      "68 0.31162232237312415 0.8852330395299145 0.8636819124221802\n"
>>>>>>> 3daf2ce3a0ac810462b7df190a09cf402b1262bb
     ]
    },
    {
     "name": "stderr",
     "output_type": "stream",
     "text": [
<<<<<<< HEAD
      "100%|██████████| 234/234 [00:04<00:00, 47.52it/s]\n"
=======
      "100%|█████████████████████████████████████████| 234/234 [00:05<00:00, 40.75it/s]\n"
>>>>>>> 3daf2ce3a0ac810462b7df190a09cf402b1262bb
     ]
    },
    {
     "name": "stdout",
     "output_type": "stream",
     "text": [
<<<<<<< HEAD
      "69 0.30959603311933676 0.8871026976495726 0.8730969429016113\n"
=======
      "69 0.3082266211381798 0.8873530982905983 0.8700921535491943\n"
>>>>>>> 3daf2ce3a0ac810462b7df190a09cf402b1262bb
     ]
    },
    {
     "name": "stderr",
     "output_type": "stream",
     "text": [
<<<<<<< HEAD
      "100%|██████████| 234/234 [00:04<00:00, 47.28it/s]\n"
=======
      "100%|█████████████████████████████████████████| 234/234 [00:05<00:00, 40.85it/s]\n"
>>>>>>> 3daf2ce3a0ac810462b7df190a09cf402b1262bb
     ]
    },
    {
     "name": "stdout",
     "output_type": "stream",
     "text": [
<<<<<<< HEAD
      "70 0.30584692795133384 0.8876034989316239 0.8679887652397156\n"
=======
      "70 0.3057498148454617 0.8890725160256411 0.8694912195205688\n"
>>>>>>> 3daf2ce3a0ac810462b7df190a09cf402b1262bb
     ]
    },
    {
     "name": "stderr",
     "output_type": "stream",
     "text": [
<<<<<<< HEAD
      "100%|██████████| 234/234 [00:04<00:00, 47.04it/s]\n"
=======
      "100%|█████████████████████████████████████████| 234/234 [00:05<00:00, 40.71it/s]\n"
>>>>>>> 3daf2ce3a0ac810462b7df190a09cf402b1262bb
     ]
    },
    {
     "name": "stdout",
     "output_type": "stream",
     "text": [
<<<<<<< HEAD
      "71 0.30320995553624475 0.8891392895299145 0.8667868971824646\n"
=======
      "71 0.3046914628774823 0.8893062232905983 0.8747996687889099\n"
>>>>>>> 3daf2ce3a0ac810462b7df190a09cf402b1262bb
     ]
    },
    {
     "name": "stderr",
     "output_type": "stream",
     "text": [
<<<<<<< HEAD
      "100%|██████████| 234/234 [00:04<00:00, 46.92it/s]\n"
=======
      "100%|█████████████████████████████████████████| 234/234 [00:05<00:00, 40.77it/s]\n"
>>>>>>> 3daf2ce3a0ac810462b7df190a09cf402b1262bb
     ]
    },
    {
     "name": "stdout",
     "output_type": "stream",
     "text": [
<<<<<<< HEAD
      "72 0.3014721375422416 0.8897068643162394 0.8707932829856873\n"
=======
      "72 0.30196372685002665 0.8885717147435898 0.8736979365348816\n"
>>>>>>> 3daf2ce3a0ac810462b7df190a09cf402b1262bb
     ]
    },
    {
     "name": "stderr",
     "output_type": "stream",
     "text": [
<<<<<<< HEAD
      "100%|██████████| 234/234 [00:04<00:00, 47.20it/s]\n"
=======
      "100%|█████████████████████████████████████████| 234/234 [00:05<00:00, 40.91it/s]\n"
>>>>>>> 3daf2ce3a0ac810462b7df190a09cf402b1262bb
     ]
    },
    {
     "name": "stdout",
     "output_type": "stream",
     "text": [
<<<<<<< HEAD
      "73 0.30170993231908444 0.890090811965812 0.8720953464508057\n"
=======
      "73 0.3008008158002289 0.8890558226495726 0.8742988705635071\n"
>>>>>>> 3daf2ce3a0ac810462b7df190a09cf402b1262bb
     ]
    },
    {
     "name": "stderr",
     "output_type": "stream",
     "text": [
<<<<<<< HEAD
      "100%|██████████| 234/234 [00:04<00:00, 46.95it/s]\n"
=======
      "100%|█████████████████████████████████████████| 234/234 [00:05<00:00, 40.79it/s]\n"
>>>>>>> 3daf2ce3a0ac810462b7df190a09cf402b1262bb
     ]
    },
    {
     "name": "stdout",
     "output_type": "stream",
     "text": [
<<<<<<< HEAD
      "74 0.298802716857374 0.8910590277777778 0.8696914911270142\n"
=======
      "74 0.2991522462966616 0.8905415331196581 0.8715945482254028\n"
>>>>>>> 3daf2ce3a0ac810462b7df190a09cf402b1262bb
     ]
    },
    {
     "name": "stderr",
     "output_type": "stream",
     "text": [
<<<<<<< HEAD
      "100%|██████████| 234/234 [00:04<00:00, 47.14it/s]\n"
=======
      "100%|█████████████████████████████████████████| 234/234 [00:05<00:00, 40.60it/s]\n"
>>>>>>> 3daf2ce3a0ac810462b7df190a09cf402b1262bb
     ]
    },
    {
     "name": "stdout",
     "output_type": "stream",
     "text": [
<<<<<<< HEAD
      "75 0.2975045393336996 0.8918603098290598 0.8705929517745972\n"
=======
      "75 0.29783973967568556 0.892311030982906 0.8691906929016113\n"
>>>>>>> 3daf2ce3a0ac810462b7df190a09cf402b1262bb
     ]
    },
    {
     "name": "stderr",
     "output_type": "stream",
     "text": [
<<<<<<< HEAD
      "100%|██████████| 234/234 [00:04<00:00, 47.38it/s]\n"
=======
      "100%|█████████████████████████████████████████| 234/234 [00:05<00:00, 40.50it/s]\n"
>>>>>>> 3daf2ce3a0ac810462b7df190a09cf402b1262bb
     ]
    },
    {
     "name": "stdout",
     "output_type": "stream",
     "text": [
<<<<<<< HEAD
      "76 0.2956705823732548 0.8912259615384616 0.8735977411270142\n"
=======
      "76 0.29624026598081055 0.8920272435897436 0.8687900900840759\n"
>>>>>>> 3daf2ce3a0ac810462b7df190a09cf402b1262bb
     ]
    },
    {
     "name": "stderr",
     "output_type": "stream",
     "text": [
<<<<<<< HEAD
      "100%|██████████| 234/234 [00:04<00:00, 47.30it/s]\n"
=======
      "100%|█████████████████████████████████████████| 234/234 [00:05<00:00, 40.40it/s]\n"
>>>>>>> 3daf2ce3a0ac810462b7df190a09cf402b1262bb
     ]
    },
    {
     "name": "stdout",
     "output_type": "stream",
     "text": [
<<<<<<< HEAD
      "77 0.29469466689062734 0.8927283653846154 0.8718950152397156\n"
=======
      "77 0.29319406182469215 0.8941139155982906 0.8717948794364929\n"
>>>>>>> 3daf2ce3a0ac810462b7df190a09cf402b1262bb
     ]
    },
    {
     "name": "stderr",
     "output_type": "stream",
     "text": [
<<<<<<< HEAD
      "100%|██████████| 234/234 [00:04<00:00, 47.26it/s]\n"
=======
      "100%|█████████████████████████████████████████| 234/234 [00:05<00:00, 40.43it/s]\n"
>>>>>>> 3daf2ce3a0ac810462b7df190a09cf402b1262bb
     ]
    },
    {
     "name": "stdout",
     "output_type": "stream",
     "text": [
<<<<<<< HEAD
      "78 0.29269185483199844 0.8919103899572649 0.8725961446762085\n"
=======
      "78 0.29219328129240374 0.893112313034188 0.8726963400840759\n"
>>>>>>> 3daf2ce3a0ac810462b7df190a09cf402b1262bb
     ]
    },
    {
     "name": "stderr",
     "output_type": "stream",
     "text": [
<<<<<<< HEAD
      "100%|██████████| 234/234 [00:04<00:00, 46.83it/s]\n"
=======
      "100%|█████████████████████████████████████████| 234/234 [00:05<00:00, 40.53it/s]\n"
>>>>>>> 3daf2ce3a0ac810462b7df190a09cf402b1262bb
     ]
    },
    {
     "name": "stdout",
     "output_type": "stream",
     "text": [
<<<<<<< HEAD
      "79 0.29110120313617804 0.8929954594017094 0.8731971383094788\n"
=======
      "79 0.29193789547093435 0.8929620726495726 0.8619791865348816\n"
>>>>>>> 3daf2ce3a0ac810462b7df190a09cf402b1262bb
     ]
    },
    {
     "name": "stderr",
     "output_type": "stream",
     "text": [
<<<<<<< HEAD
      "100%|██████████| 234/234 [00:04<00:00, 47.30it/s]\n"
=======
      "100%|█████████████████████████████████████████| 234/234 [00:05<00:00, 40.33it/s]\n"
>>>>>>> 3daf2ce3a0ac810462b7df190a09cf402b1262bb
     ]
    },
    {
     "name": "stdout",
     "output_type": "stream",
     "text": [
<<<<<<< HEAD
      "80 0.2894224028858504 0.8939469818376068 0.8725961446762085\n"
=======
      "80 0.2899936080746385 0.8934294871794872 0.8660857677459717\n"
>>>>>>> 3daf2ce3a0ac810462b7df190a09cf402b1262bb
     ]
    },
    {
     "name": "stderr",
     "output_type": "stream",
     "text": [
<<<<<<< HEAD
      "100%|██████████| 234/234 [00:04<00:00, 47.22it/s]\n"
=======
      "100%|█████████████████████████████████████████| 234/234 [00:05<00:00, 40.59it/s]\n"
>>>>>>> 3daf2ce3a0ac810462b7df190a09cf402b1262bb
     ]
    },
    {
     "name": "stdout",
     "output_type": "stream",
     "text": [
<<<<<<< HEAD
      "81 0.28668301766778265 0.8959668803418803 0.8706931471824646\n"
=======
      "81 0.29012560716514424 0.8927116720085471 0.8753004670143127\n"
>>>>>>> 3daf2ce3a0ac810462b7df190a09cf402b1262bb
     ]
    },
    {
     "name": "stderr",
     "output_type": "stream",
     "text": [
<<<<<<< HEAD
      "100%|██████████| 234/234 [00:04<00:00, 47.11it/s]\n"
=======
      "100%|█████████████████████████████████████████| 234/234 [00:05<00:00, 40.56it/s]\n"
>>>>>>> 3daf2ce3a0ac810462b7df190a09cf402b1262bb
     ]
    },
    {
     "name": "stdout",
     "output_type": "stream",
     "text": [
<<<<<<< HEAD
      "82 0.28587179966750575 0.8957832532051282 0.8732972741127014\n"
=======
      "82 0.2865848740155093 0.8954159989316239 0.8716947436332703\n"
>>>>>>> 3daf2ce3a0ac810462b7df190a09cf402b1262bb
     ]
    },
    {
     "name": "stderr",
     "output_type": "stream",
     "text": [
<<<<<<< HEAD
      "100%|██████████| 234/234 [00:04<00:00, 47.21it/s]\n"
=======
      "100%|█████████████████████████████████████████| 234/234 [00:05<00:00, 40.45it/s]\n"
>>>>>>> 3daf2ce3a0ac810462b7df190a09cf402b1262bb
     ]
    },
    {
     "name": "stdout",
     "output_type": "stream",
     "text": [
<<<<<<< HEAD
      "83 0.2848230242217559 0.8944310897435898 0.8713942170143127\n"
=======
      "83 0.2844040721910706 0.8957999465811965 0.8777043223381042\n"
>>>>>>> 3daf2ce3a0ac810462b7df190a09cf402b1262bb
     ]
    },
    {
     "name": "stderr",
     "output_type": "stream",
     "text": [
<<<<<<< HEAD
      "100%|██████████| 234/234 [00:04<00:00, 47.19it/s]\n"
=======
      "100%|█████████████████████████████████████████| 234/234 [00:05<00:00, 40.55it/s]\n"
>>>>>>> 3daf2ce3a0ac810462b7df190a09cf402b1262bb
     ]
    },
    {
     "name": "stdout",
     "output_type": "stream",
     "text": [
<<<<<<< HEAD
      "84 0.2845222857888676 0.896217280982906 0.8692908883094788\n"
=======
      "84 0.2854708855244223 0.8954994658119658 0.8788061141967773\n"
>>>>>>> 3daf2ce3a0ac810462b7df190a09cf402b1262bb
     ]
    },
    {
     "name": "stderr",
     "output_type": "stream",
     "text": [
<<<<<<< HEAD
      "100%|██████████| 234/234 [00:04<00:00, 47.31it/s]\n"
=======
      "100%|█████████████████████████████████████████| 234/234 [00:05<00:00, 40.64it/s]\n"
>>>>>>> 3daf2ce3a0ac810462b7df190a09cf402b1262bb
     ]
    },
    {
     "name": "stdout",
     "output_type": "stream",
     "text": [
<<<<<<< HEAD
      "85 0.2808308831611928 0.8969184027777778 0.872896671295166\n"
=======
      "85 0.28146086428554273 0.8965344551282052 0.8758012652397156\n"
>>>>>>> 3daf2ce3a0ac810462b7df190a09cf402b1262bb
     ]
    },
    {
     "name": "stderr",
     "output_type": "stream",
     "text": [
<<<<<<< HEAD
      "100%|██████████| 234/234 [00:04<00:00, 47.24it/s]\n"
=======
      "100%|█████████████████████████████████████████| 234/234 [00:05<00:00, 40.53it/s]\n"
>>>>>>> 3daf2ce3a0ac810462b7df190a09cf402b1262bb
     ]
    },
    {
     "name": "stdout",
     "output_type": "stream",
     "text": [
<<<<<<< HEAD
      "86 0.280163276285061 0.8974025106837606 0.8736979365348816\n"
=======
      "86 0.28084389775863533 0.896217280982906 0.8726963400840759\n"
>>>>>>> 3daf2ce3a0ac810462b7df190a09cf402b1262bb
     ]
    },
    {
     "name": "stderr",
     "output_type": "stream",
     "text": [
<<<<<<< HEAD
      "100%|██████████| 234/234 [00:04<00:00, 47.00it/s]\n"
=======
      "100%|█████████████████████████████████████████| 234/234 [00:05<00:00, 40.67it/s]\n"
>>>>>>> 3daf2ce3a0ac810462b7df190a09cf402b1262bb
     ]
    },
    {
     "name": "stdout",
     "output_type": "stream",
     "text": [
<<<<<<< HEAD
      "87 0.2767464892674925 0.8983874198717948 0.8739984035491943\n"
=======
      "87 0.27748971237389314 0.8980869391025641 0.8621795177459717\n"
>>>>>>> 3daf2ce3a0ac810462b7df190a09cf402b1262bb
     ]
    },
    {
     "name": "stderr",
     "output_type": "stream",
     "text": [
<<<<<<< HEAD
      "100%|██████████| 234/234 [00:04<00:00, 47.41it/s]\n"
=======
      "100%|█████████████████████████████████████████| 234/234 [00:05<00:00, 40.60it/s]\n"
>>>>>>> 3daf2ce3a0ac810462b7df190a09cf402b1262bb
     ]
    },
    {
     "name": "stdout",
     "output_type": "stream",
     "text": [
<<<<<<< HEAD
      "88 0.27634152162484343 0.8984875801282052 0.87109375\n"
=======
      "88 0.277425506212169 0.8980869391025641 0.876802921295166\n"
>>>>>>> 3daf2ce3a0ac810462b7df190a09cf402b1262bb
     ]
    },
    {
     "name": "stderr",
     "output_type": "stream",
     "text": [
<<<<<<< HEAD
      "100%|██████████| 234/234 [00:04<00:00, 47.19it/s]\n"
=======
      "100%|█████████████████████████████████████████| 234/234 [00:05<00:00, 40.55it/s]\n"
>>>>>>> 3daf2ce3a0ac810462b7df190a09cf402b1262bb
     ]
    },
    {
     "name": "stdout",
     "output_type": "stream",
     "text": [
<<<<<<< HEAD
      "89 0.27667589344947635 0.8984041132478633 0.8756009936332703\n"
=======
      "89 0.2783099531871566 0.8971688034188035 0.87890625\n"
>>>>>>> 3daf2ce3a0ac810462b7df190a09cf402b1262bb
     ]
    },
    {
     "name": "stderr",
     "output_type": "stream",
     "text": [
<<<<<<< HEAD
      "100%|██████████| 234/234 [00:04<00:00, 47.06it/s]\n"
=======
      "100%|█████████████████████████████████████████| 234/234 [00:05<00:00, 40.60it/s]\n"
>>>>>>> 3daf2ce3a0ac810462b7df190a09cf402b1262bb
     ]
    },
    {
     "name": "stdout",
     "output_type": "stream",
     "text": [
<<<<<<< HEAD
      "90 0.2750039891751539 0.8990551549145299 0.8761017918586731\n"
=======
      "90 0.2753158824382422 0.8984708867521367 0.8777043223381042\n"
>>>>>>> 3daf2ce3a0ac810462b7df190a09cf402b1262bb
     ]
    },
    {
     "name": "stderr",
     "output_type": "stream",
     "text": [
<<<<<<< HEAD
      "100%|██████████| 234/234 [00:04<00:00, 47.25it/s]\n"
=======
      "100%|█████████████████████████████████████████| 234/234 [00:05<00:00, 40.70it/s]\n"
>>>>>>> 3daf2ce3a0ac810462b7df190a09cf402b1262bb
     ]
    },
    {
     "name": "stdout",
     "output_type": "stream",
     "text": [
<<<<<<< HEAD
      "91 0.2730813500963056 0.8984208066239316 0.8729968070983887\n"
=======
      "91 0.2735794750661809 0.8996895032051282 0.8765023946762085\n"
>>>>>>> 3daf2ce3a0ac810462b7df190a09cf402b1262bb
     ]
    },
    {
     "name": "stderr",
     "output_type": "stream",
     "text": [
<<<<<<< HEAD
      "100%|██████████| 234/234 [00:04<00:00, 47.60it/s]\n"
=======
      "100%|█████████████████████████████████████████| 234/234 [00:05<00:00, 40.63it/s]\n"
>>>>>>> 3daf2ce3a0ac810462b7df190a09cf402b1262bb
     ]
    },
    {
     "name": "stdout",
     "output_type": "stream",
     "text": [
<<<<<<< HEAD
      "92 0.27218814424434956 0.9001402243589743 0.876802921295166\n"
=======
      "92 0.27044038020490063 0.9007578792735043 0.8784054517745972\n"
>>>>>>> 3daf2ce3a0ac810462b7df190a09cf402b1262bb
     ]
    },
    {
     "name": "stderr",
     "output_type": "stream",
     "text": [
<<<<<<< HEAD
      "100%|██████████| 234/234 [00:04<00:00, 47.02it/s]\n"
=======
      "100%|█████████████████████████████████████████| 234/234 [00:05<00:00, 40.49it/s]\n"
>>>>>>> 3daf2ce3a0ac810462b7df190a09cf402b1262bb
     ]
    },
    {
     "name": "stdout",
     "output_type": "stream",
     "text": [
<<<<<<< HEAD
      "93 0.2690366471402123 0.9011084401709402 0.8757011294364929\n"
=======
      "93 0.2712521351586084 0.8998731303418803 0.8659855723381042\n"
>>>>>>> 3daf2ce3a0ac810462b7df190a09cf402b1262bb
     ]
    },
    {
     "name": "stderr",
     "output_type": "stream",
     "text": [
<<<<<<< HEAD
      "100%|██████████| 234/234 [00:04<00:00, 47.22it/s]\n"
=======
      "100%|█████████████████████████████████████████| 234/234 [00:05<00:00, 40.69it/s]\n"
>>>>>>> 3daf2ce3a0ac810462b7df190a09cf402b1262bb
     ]
    },
    {
     "name": "stdout",
     "output_type": "stream",
     "text": [
<<<<<<< HEAD
      "94 0.2687296110800919 0.9003238514957265 0.8784054517745972\n"
=======
      "94 0.27016606626336664 0.9004073183760684 0.8766025900840759\n"
>>>>>>> 3daf2ce3a0ac810462b7df190a09cf402b1262bb
     ]
    },
    {
     "name": "stderr",
     "output_type": "stream",
     "text": [
<<<<<<< HEAD
      "100%|██████████| 234/234 [00:04<00:00, 47.18it/s]\n"
=======
      "100%|█████████████████████████████████████████| 234/234 [00:05<00:00, 40.63it/s]\n"
>>>>>>> 3daf2ce3a0ac810462b7df190a09cf402b1262bb
     ]
    },
    {
     "name": "stdout",
     "output_type": "stream",
     "text": [
<<<<<<< HEAD
      "95 0.2674978926074351 0.900924813034188 0.8787059187889099\n"
=======
      "95 0.2681702619714287 0.9014256143162394 0.8799078464508057\n"
>>>>>>> 3daf2ce3a0ac810462b7df190a09cf402b1262bb
     ]
    },
    {
     "name": "stderr",
     "output_type": "stream",
     "text": [
<<<<<<< HEAD
      "100%|██████████| 234/234 [00:04<00:00, 47.39it/s]\n"
=======
      "100%|█████████████████████████████████████████| 234/234 [00:05<00:00, 40.73it/s]\n"
>>>>>>> 3daf2ce3a0ac810462b7df190a09cf402b1262bb
     ]
    },
    {
     "name": "stdout",
     "output_type": "stream",
     "text": [
<<<<<<< HEAD
      "96 0.2635407456128894 0.9037293002136753 0.8741987347602844\n"
=======
      "96 0.26605742818040395 0.90234375 0.879807710647583\n"
>>>>>>> 3daf2ce3a0ac810462b7df190a09cf402b1262bb
     ]
    },
    {
     "name": "stderr",
     "output_type": "stream",
     "text": [
<<<<<<< HEAD
      "100%|██████████| 234/234 [00:04<00:00, 47.32it/s]\n"
=======
      "100%|█████████████████████████████████████████| 234/234 [00:05<00:00, 40.64it/s]\n"
>>>>>>> 3daf2ce3a0ac810462b7df190a09cf402b1262bb
     ]
    },
    {
     "name": "stdout",
     "output_type": "stream",
     "text": [
<<<<<<< HEAD
      "97 0.2649159450643564 0.9018596420940171 0.876802921295166\n"
=======
      "97 0.2656927853822708 0.9022268963675214 0.8603765964508057\n"
>>>>>>> 3daf2ce3a0ac810462b7df190a09cf402b1262bb
     ]
    },
    {
     "name": "stderr",
     "output_type": "stream",
     "text": [
<<<<<<< HEAD
      "100%|██████████| 234/234 [00:04<00:00, 47.28it/s]\n"
=======
      "100%|█████████████████████████████████████████| 234/234 [00:05<00:00, 40.57it/s]\n"
>>>>>>> 3daf2ce3a0ac810462b7df190a09cf402b1262bb
     ]
    },
    {
     "name": "stdout",
     "output_type": "stream",
     "text": [
<<<<<<< HEAD
      "98 0.2612699606004191 0.9036959134615384 0.8742988705635071\n"
=======
      "98 0.2643988758581391 0.9029947916666666 0.8800080418586731\n"
>>>>>>> 3daf2ce3a0ac810462b7df190a09cf402b1262bb
     ]
    },
    {
     "name": "stderr",
     "output_type": "stream",
     "text": [
<<<<<<< HEAD
      "100%|██████████| 234/234 [00:04<00:00, 47.50it/s]\n"
=======
      "100%|█████████████████████████████████████████| 234/234 [00:05<00:00, 40.24it/s]\n"
>>>>>>> 3daf2ce3a0ac810462b7df190a09cf402b1262bb
     ]
    },
    {
     "name": "stdout",
     "output_type": "stream",
     "text": [
<<<<<<< HEAD
      "99 0.261193945620193 0.9039463141025641 0.8746995329856873\n",
      "-----------training finished-----------\n",
      "train_losses:  [2.3018628241166534, 1.8194220076303114, 0.9498021280305068, 0.7949442029510957, 0.7356180034481916, 0.6996430120243023, 0.6706724380474746, 0.6451157735652678, 0.6263081045109826, 0.6077172669218334, 0.5928888331155409, 0.5796954131689195, 0.5630742930547362, 0.5506209847497326, 0.5389016086451486, 0.526694319662618, 0.5166175302773586, 0.5072072373439314, 0.5002347238585673, 0.48945858985057716, 0.4805831308016961, 0.4739516331402529, 0.4689443085838285, 0.46161707941554647, 0.4536956093342007, 0.4493564560433826, 0.4423412967137513, 0.43870939563783967, 0.43215812071198556, 0.4277253583265476, 0.4241107521906431, 0.41690537090465235, 0.4155805434536013, 0.4086747055657432, 0.4049044163186151, 0.4029401149360919, 0.3986702011378538, 0.3927824359722915, 0.38981787291207537, 0.38502270430965996, 0.3831967729355644, 0.37859972006773235, 0.37573007478222825, 0.3713625597851471, 0.369392591420673, 0.36292838647386033, 0.3615543968943567, 0.3591298755146403, 0.3541060015878964, 0.35210628046498277, 0.3493366827268969, 0.34715699452443183, 0.3446800158770811, 0.34270518883870904, 0.33939472608300236, 0.33743167224104315, 0.33517838445344195, 0.33356954170143144, 0.32984834576880984, 0.32764983273115283, 0.3267152290871215, 0.32224342578726267, 0.3217614458737967, 0.3200336743322053, 0.31790437981038644, 0.31636694489374695, 0.3134734799421908, 0.31126405560919146, 0.30864765683724643, 0.30959603311933676, 0.30584692795133384, 0.30320995553624475, 0.3014721375422416, 0.30170993231908444, 0.298802716857374, 0.2975045393336996, 0.2956705823732548, 0.29469466689062734, 0.29269185483199844, 0.29110120313617804, 0.2894224028858504, 0.28668301766778265, 0.28587179966750575, 0.2848230242217559, 0.2845222857888676, 0.2808308831611928, 0.280163276285061, 0.2767464892674925, 0.27634152162484343, 0.27667589344947635, 0.2750039891751539, 0.2730813500963056, 0.27218814424434956, 0.2690366471402123, 0.2687296110800919, 0.2674978926074351, 0.2635407456128894, 0.2649159450643564, 0.2612699606004191, 0.261193945620193]\n",
      "train_acc:  [0.10828993055555555, 0.3531650641025641, 0.6480034722222222, 0.7021067040598291, 0.7242087339743589, 0.7399338942307693, 0.7503505608974359, 0.7614850427350427, 0.7685797275641025, 0.7754573985042735, 0.7818175747863247, 0.7872763087606838, 0.7934194711538461, 0.7975093482905983, 0.8029513888888888, 0.8089610042735043, 0.8095452724358975, 0.8157885950854701, 0.8181423611111112, 0.8221487713675214, 0.8241018963675214, 0.8253372061965812, 0.8291599893162394, 0.832832532051282, 0.8344184027777778, 0.8368389423076923, 0.8387586805555556, 0.8406617254273504, 0.8426649305555556, 0.8449686164529915, 0.8467214209401709, 0.8496928418803419, 0.8483907585470085, 0.8530649038461539, 0.8536992521367521, 0.8539496527777778, 0.856270032051282, 0.8581563835470085, 0.8599592681623932, 0.8612446581196581, 0.8619958600427351, 0.8625467414529915, 0.8647836538461539, 0.8662526709401709, 0.8669037126068376, 0.8694411057692307, 0.8689903846153846, 0.8698751335470085, 0.8711104433760684, 0.8725961538461539, 0.8733306623931624, 0.8732972756410257, 0.8750834668803419, 0.875534188034188, 0.8762853899572649, 0.8774539262820513, 0.8785890758547008, 0.8784555288461539, 0.8801582532051282, 0.8813601762820513, 0.8798577724358975, 0.8833299946581197, 0.8818275908119658, 0.8843649839743589, 0.8837640224358975, 0.8838975694444444, 0.8846821581196581, 0.8862680288461539, 0.8883046207264957, 0.8871026976495726, 0.8876034989316239, 0.8891392895299145, 0.8897068643162394, 0.890090811965812, 0.8910590277777778, 0.8918603098290598, 0.8912259615384616, 0.8927283653846154, 0.8919103899572649, 0.8929954594017094, 0.8939469818376068, 0.8959668803418803, 0.8957832532051282, 0.8944310897435898, 0.896217280982906, 0.8969184027777778, 0.8974025106837606, 0.8983874198717948, 0.8984875801282052, 0.8984041132478633, 0.8990551549145299, 0.8984208066239316, 0.9001402243589743, 0.9011084401709402, 0.9003238514957265, 0.900924813034188, 0.9037293002136753, 0.9018596420940171, 0.9036959134615384, 0.9039463141025641]\n",
      "val_acc:  [0.10546875, 0.5470753312110901, 0.6634615659713745, 0.7095352411270142, 0.73828125, 0.75, 0.7585136294364929, 0.7591145634651184, 0.7519030570983887, 0.776442289352417, 0.7755408883094788, 0.7841546535491943, 0.7914663553237915, 0.7776442170143127, 0.7924679517745972, 0.8008814454078674, 0.8125, 0.8133012652397156, 0.8125, 0.8129006624221802, 0.8128004670143127, 0.8204126954078674, 0.8249198794364929, 0.825120210647583, 0.8282251954078674, 0.8324319124221802, 0.8255208730697632, 0.8138021230697632, 0.822115421295166, 0.8321314454078674, 0.842848539352417, 0.837740421295166, 0.8349359035491943, 0.8436498641967773, 0.8386418223381042, 0.8426482677459717, 0.8462539911270142, 0.8438501954078674, 0.8491586446762085, 0.8415464758872986, 0.8497596383094788, 0.8515625, 0.8520632982254028, 0.8531650900840759, 0.8539663553237915, 0.8556690812110901, 0.85546875, 0.8540664911270142, 0.8567708730697632, 0.8569711446762085, 0.862379789352417, 0.8319311141967773, 0.8599759936332703, 0.8559695482254028, 0.8605769276618958, 0.8598757982254028, 0.862379789352417, 0.8613781929016113, 0.8619791865348816, 0.8634815812110901, 0.8607772588729858, 0.8643830418586731, 0.8660857677459717, 0.8615785241127014, 0.8685897588729858, 0.8625801205635071, 0.8667868971824646, 0.8615785241127014, 0.8703926205635071, 0.8730969429016113, 0.8679887652397156, 0.8667868971824646, 0.8707932829856873, 0.8720953464508057, 0.8696914911270142, 0.8705929517745972, 0.8735977411270142, 0.8718950152397156, 0.8725961446762085, 0.8731971383094788, 0.8725961446762085, 0.8706931471824646, 0.8732972741127014, 0.8713942170143127, 0.8692908883094788, 0.872896671295166, 0.8736979365348816, 0.8739984035491943, 0.87109375, 0.8756009936332703, 0.8761017918586731, 0.8729968070983887, 0.876802921295166, 0.8757011294364929, 0.8784054517745972, 0.8787059187889099, 0.8741987347602844, 0.876802921295166, 0.8742988705635071, 0.8746995329856873]\n"
=======
      "99 0.26410239608758507 0.9030281784188035 0.8811097741127014\n",
      "-----------training finished-----------\n",
      "train_losses:  [2.306303170617558, 2.056442906416537, 1.0087311257620226, 0.8143085868061868, 0.7385250294157364, 0.6918539594171385, 0.6565865608243984, 0.6333193926084707, 0.6152223133733856, 0.5959182781978738, 0.5779559594367195, 0.5644946691815945, 0.5525223744529512, 0.5370414060072838, 0.5247860997275733, 0.5170008702595347, 0.5019518697210648, 0.49619489115195214, 0.4845295579136697, 0.47651086523809144, 0.4703686141404983, 0.4630868303161834, 0.4584410698372919, 0.45094845555882596, 0.4439501356925064, 0.4394882913566966, 0.4344742562893634, 0.42766318671693104, 0.42280128636585285, 0.419025404258859, 0.4123797774826508, 0.40958063157331276, 0.40484881106876, 0.40144159775946786, 0.3982188143315745, 0.3919975083529182, 0.3899285821443975, 0.38575175711525356, 0.3838063254632663, 0.37946960278846675, 0.37551421592163936, 0.3734026675316397, 0.3687694892607022, 0.3658951600222117, 0.36452927379649086, 0.3615756218397566, 0.3595039389164151, 0.3545524751040045, 0.352692999936992, 0.3503694414069213, 0.3459739587849302, 0.34447857545680755, 0.34218414198175523, 0.34096398495553387, 0.33682565653272967, 0.3369622908436689, 0.33347743519386, 0.3309648986026453, 0.3289654624564453, 0.32852024888787656, 0.3243250310932618, 0.32255006386486756, 0.32041817903518677, 0.31920864519387354, 0.3164584811281237, 0.31599676954388106, 0.313277449091105, 0.3107725320455854, 0.31162232237312415, 0.3082266211381798, 0.3057498148454617, 0.3046914628774823, 0.30196372685002665, 0.3008008158002289, 0.2991522462966616, 0.29783973967568556, 0.29624026598081055, 0.29319406182469215, 0.29219328129240374, 0.29193789547093435, 0.2899936080746385, 0.29012560716514424, 0.2865848740155093, 0.2844040721910706, 0.2854708855244223, 0.28146086428554273, 0.28084389775863533, 0.27748971237389314, 0.277425506212169, 0.2783099531871566, 0.2753158824382422, 0.2735794750661809, 0.27044038020490063, 0.2712521351586084, 0.27016606626336664, 0.2681702619714287, 0.26605742818040395, 0.2656927853822708, 0.2643988758581391, 0.26410239608758507]\n",
      "train_acc:  [0.13603432158119658, 0.2961738782051282, 0.6194744925213675, 0.6936097756410257, 0.7228231837606838, 0.7431891025641025, 0.7554086538461539, 0.7653412126068376, 0.7712339743589743, 0.7802150106837606, 0.7873597756410257, 0.7906984508547008, 0.7971087072649573, 0.8034354967948718, 0.807792467948718, 0.810813969017094, 0.8169571314102564, 0.8173911591880342, 0.8205962873931624, 0.8248364049145299, 0.8279246794871795, 0.8305121527777778, 0.8327657585470085, 0.8353198450854701, 0.8374732905982906, 0.8395599626068376, 0.8422309027777778, 0.8436331463675214, 0.8457698985042735, 0.8474058493589743, 0.850761217948718, 0.8503939636752137, 0.8526642628205128, 0.8535490117521367, 0.8543836805555556, 0.8563368055555556, 0.8570045405982906, 0.8580562232905983, 0.8596587873931624, 0.862129407051282, 0.8618289262820513, 0.863548344017094, 0.8667534722222222, 0.8666366185897436, 0.8664863782051282, 0.8679053151709402, 0.8685062767094017, 0.8714443108974359, 0.8718115651709402, 0.8726629273504274, 0.8739483173076923, 0.8734642094017094, 0.8753171741452992, 0.8759515224358975, 0.8776709401709402, 0.8768696581196581, 0.8776375534188035, 0.8788394764957265, 0.8796741452991453, 0.8798410790598291, 0.8822115384615384, 0.8816773504273504, 0.8829126602564102, 0.884498530982906, 0.8846988514957265, 0.8852330395299145, 0.885299813034188, 0.8878872863247863, 0.8852330395299145, 0.8873530982905983, 0.8890725160256411, 0.8893062232905983, 0.8885717147435898, 0.8890558226495726, 0.8905415331196581, 0.892311030982906, 0.8920272435897436, 0.8941139155982906, 0.893112313034188, 0.8929620726495726, 0.8934294871794872, 0.8927116720085471, 0.8954159989316239, 0.8957999465811965, 0.8954994658119658, 0.8965344551282052, 0.896217280982906, 0.8980869391025641, 0.8980869391025641, 0.8971688034188035, 0.8984708867521367, 0.8996895032051282, 0.9007578792735043, 0.8998731303418803, 0.9004073183760684, 0.9014256143162394, 0.90234375, 0.9022268963675214, 0.9029947916666666, 0.9030281784188035]\n",
      "val_acc:  [0.15034054219722748, 0.563401460647583, 0.6586538553237915, 0.6737780570983887, 0.7237580418586731, 0.7425881624221802, 0.7597155570983887, 0.7575120329856873, 0.765625, 0.7768429517745972, 0.7736378312110901, 0.7751402258872986, 0.7836538553237915, 0.7727363705635071, 0.802584171295166, 0.7934695482254028, 0.8081931471824646, 0.7994791865348816, 0.8199118971824646, 0.8156049847602844, 0.823317289352417, 0.8254206776618958, 0.8300280570983887, 0.8287259936332703, 0.8282251954078674, 0.8266226053237915, 0.8240184187889099, 0.83984375, 0.8363381624221802, 0.836838960647583, 0.8432492017745972, 0.8453525900840759, 0.8438501954078674, 0.8431490659713745, 0.8449519276618958, 0.8427484035491943, 0.8508613705635071, 0.8539663553237915, 0.8452523946762085, 0.8550681471824646, 0.8537660241127014, 0.8552684187889099, 0.8559695482254028, 0.8457531929016113, 0.8574719429016113, 0.8525640964508057, 0.8615785241127014, 0.8586738705635071, 0.8501602411270142, 0.8402444124221802, 0.8590745329856873, 0.8608773946762085, 0.8511618971824646, 0.8509615659713745, 0.859375, 0.8657852411270142, 0.8651843070983887, 0.868088960647583, 0.8633814454078674, 0.8612780570983887, 0.8573718070983887, 0.8696914911270142, 0.8681890964508057, 0.8678886294364929, 0.859375, 0.8670873641967773, 0.8686898946762085, 0.8704928159713745, 0.8636819124221802, 0.8700921535491943, 0.8694912195205688, 0.8747996687889099, 0.8736979365348816, 0.8742988705635071, 0.8715945482254028, 0.8691906929016113, 0.8687900900840759, 0.8717948794364929, 0.8726963400840759, 0.8619791865348816, 0.8660857677459717, 0.8753004670143127, 0.8716947436332703, 0.8777043223381042, 0.8788061141967773, 0.8758012652397156, 0.8726963400840759, 0.8621795177459717, 0.876802921295166, 0.87890625, 0.8777043223381042, 0.8765023946762085, 0.8784054517745972, 0.8659855723381042, 0.8766025900840759, 0.8799078464508057, 0.879807710647583, 0.8603765964508057, 0.8800080418586731, 0.8811097741127014]\n"
>>>>>>> 3daf2ce3a0ac810462b7df190a09cf402b1262bb
     ]
    }
   ],
   "source": [
    "n_epochs = 100\n",
    "\n",
    "model = model.to(device)\n",
    "loss_fn = nn.CrossEntropyLoss()\n",
    "optimizer = optim.SGD(model.parameters(), lr=1e-2)\n",
    "\n",
    "train_losses = []\n",
    "train_acc = []\n",
    "val_acc = []\n",
    "for epoch in range(n_epochs):\n",
    "    running_loss = 0.0\n",
    "    model.train()\n",
    "    n = 0\n",
    "    n_acc = 0\n",
    "    # 시간이 많이 걸리므로 tqdm을 사용해서 진행바를 표시\n",
    "    for i, (xx, yy) in tqdm.tqdm(enumerate(train_loader), total=len(train_loader)):\n",
    "        xx = xx.to(device)\n",
    "        yy = yy.to(device)\n",
    "        # yy = yy.squeeze(1).to(torch.long).to(device)\n",
    "        h = model(xx)\n",
    "        loss = loss_fn(h, yy)\n",
    "        \n",
    "        optimizer.zero_grad()\n",
    "        loss.backward()\n",
    "        optimizer.step()\n",
    "\n",
    "        running_loss += loss.item()\n",
    "        n += len(xx)\n",
    "        _, y_pred = h.max(1)\n",
    "        n_acc += (yy == y_pred).float().sum().item()\n",
    "    train_losses.append(running_loss / i)\n",
    "    # 훈련 데이터의 예측 정확도\n",
    "    train_acc.append(n_acc / n)\n",
    "\n",
    "    # 검증 데이터의 예측 정확도\n",
    "    val_acc.append(eval_net(model, test_loader, device))\n",
    "    print(epoch, train_losses[-1], train_acc[-1], val_acc[-1], flush=True)\n",
    "print('-----------training finished-----------')\n",
    "print('train_losses: ', train_losses)\n",
    "print('train_acc: ', train_acc)\n",
    "print('val_acc: ', val_acc)"
   ]
  },
  {
   "cell_type": "code",
   "execution_count": 10,
   "id": "54287ebd-aeb7-48db-b800-19dcbf7dc6d7",
   "metadata": {},
   "outputs": [
    {
     "data": {
      "text/plain": [
<<<<<<< HEAD
       "[<matplotlib.lines.Line2D at 0x7fd040775eb8>]"
=======
       "[<matplotlib.lines.Line2D at 0x1e6edd40ee0>]"
>>>>>>> 3daf2ce3a0ac810462b7df190a09cf402b1262bb
      ]
     },
     "execution_count": 10,
     "metadata": {},
     "output_type": "execute_result"
    },
    {
     "data": {
<<<<<<< HEAD
      "image/png": "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\n",
      "text/plain": [
       "<Figure size 432x288 with 1 Axes>"
      ]
     },
     "metadata": {
      "needs_background": "light"
     },
=======
      "image/png": "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",
      "text/plain": [
       "<Figure size 640x480 with 1 Axes>"
      ]
     },
     "metadata": {},
>>>>>>> 3daf2ce3a0ac810462b7df190a09cf402b1262bb
     "output_type": "display_data"
    }
   ],
   "source": [
    "import matplotlib.pyplot as plt\n",
    "plt.plot(train_losses)\n",
    "plt.plot(train_acc)\n",
    "plt.plot(val_acc)"
   ]
  },
  {
   "cell_type": "code",
   "execution_count": null,
   "id": "77c2752b-cff7-40ab-908e-c5943316d0c0",
   "metadata": {},
   "outputs": [],
   "source": []
  }
 ],
 "metadata": {
  "kernelspec": {
   "display_name": "Python 3",
   "language": "python",
   "name": "python3"
  },
  "language_info": {
   "codemirror_mode": {
    "name": "ipython",
    "version": 3
   },
   "file_extension": ".py",
   "mimetype": "text/x-python",
   "name": "python",
   "nbconvert_exporter": "python",
   "pygments_lexer": "ipython3",
<<<<<<< HEAD
   "version": "3.6.9"
=======
   "version": "3.7.9"
>>>>>>> 3daf2ce3a0ac810462b7df190a09cf402b1262bb
  }
 },
 "nbformat": 4,
 "nbformat_minor": 5
}
