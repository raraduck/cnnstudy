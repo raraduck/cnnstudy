{
 "cells": [
  {
   "cell_type": "markdown",
   "id": "6f9102f6-2a0e-4a7d-b2fb-5992e28e68f9",
   "metadata": {
    "tags": []
   },
   "source": [
    "# Data"
   ]
  },
  {
   "cell_type": "markdown",
   "id": "f0f46a4e-f82e-46c8-aa91-01a972ab8e28",
   "metadata": {},
   "source": [
    "### transform"
   ]
  },
  {
   "cell_type": "code",
   "execution_count": null,
   "id": "957cf1ee-6dee-4ef0-89e2-157c8cba6183",
   "metadata": {
    "tags": []
   },
   "outputs": [],
   "source": [
    "from torchvision import transforms\n",
    "trforms=transforms.Compose([\n",
    "    transforms.Resize(32),\n",
    "    transforms.ToTensor(),\n",
    "])"
   ]
  },
  {
   "cell_type": "markdown",
   "id": "4c0af77d-4d0b-4fea-ad08-262a7bf57522",
   "metadata": {},
   "source": [
    "### load"
   ]
  },
  {
   "cell_type": "code",
   "execution_count": null,
   "id": "c6f0e3af-65be-4fa0-b6b1-63bdc2b147af",
   "metadata": {},
   "outputs": [],
   "source": [
    "from loader.load_fashionmnist import load_fashionmnist\n",
    "\n",
    "train, test, classnames = load_fashionmnist()"
   ]
  },
  {
   "cell_type": "code",
   "execution_count": null,
   "id": "9a688948-cf53-4d8f-bf2c-029c51ca9c52",
   "metadata": {
    "tags": []
   },
   "outputs": [],
   "source": [
    "from loader.load_mnist import load_mnist\n",
    "\n",
    "train, test, classnames = load_mnist()"
   ]
  },
  {
   "cell_type": "code",
   "execution_count": null,
   "id": "810e764f-a829-4843-8a18-6dd948c75da2",
   "metadata": {
    "tags": []
   },
   "outputs": [],
   "source": [
    "from loader.load_pneumoniamnist import load_pneumoniamnist\n",
    "\n",
    "train, test, classnames = load_pneumoniamnist()"
   ]
  },
  {
   "cell_type": "code",
   "execution_count": null,
   "id": "2f0530d8-4d2d-4fb6-99c0-77b056f53c92",
   "metadata": {
    "tags": []
   },
   "outputs": [],
   "source": [
    "from loader.load_chestmnist import load_chestmnist\n",
    "\n",
    "train, test, classnames = load_chestmnist()\n",
    "print(classnames)"
   ]
  },
  {
   "cell_type": "code",
   "execution_count": null,
   "id": "d9ac8c1b-6022-43e7-9ba1-7e9152bad06e",
   "metadata": {
    "tags": []
   },
   "outputs": [],
   "source": [
    "from loader.load_cifar10 import load_cifar10\n",
    "\n",
    "train, test, classnames = load_cifar10(batch_size=64, trforms=trforms)\n",
    "print(classnames)"
   ]
  },
  {
   "cell_type": "code",
   "execution_count": null,
   "id": "c3554905-53a4-4c97-9ec2-c37087810a2c",
   "metadata": {
    "tags": []
   },
   "outputs": [],
   "source": [
    "from loader.load_cifar100 import load_cifar100\n",
    "\n",
    "train, test, classnames = load_cifar100()\n",
    "print(classnames)"
   ]
  },
  {
   "cell_type": "markdown",
   "id": "1ce3a468-97c2-4237-b540-184edede3444",
   "metadata": {
    "tags": []
   },
   "source": [
    "# Model"
   ]
  },
  {
   "cell_type": "markdown",
   "id": "af4196c2-5f01-48fb-be8b-afe58e8becf6",
   "metadata": {
    "tags": []
   },
   "source": [
    "### MyMLP"
   ]
  },
  {
   "cell_type": "code",
   "execution_count": null,
   "id": "29c5adcf-987b-4f46-8bda-efb77600b58a",
   "metadata": {
    "tags": []
   },
   "outputs": [],
   "source": [
    "from model.MyMLP import MyMLP\n",
    "\n",
    "model = MyMLP(64, 10)\n",
    "numel_list = [p.numel() for p in model.parameters()]\n",
    "# sum(numel_list), numel_list\n",
    "print('MyMLP: ', sum(numel_list), numel_list)\n",
    "\n",
    "from torchinfo import summary\n",
    "summary(model, input_size=(1,1,1,64), device='cpu') "
   ]
  },
  {
   "cell_type": "markdown",
   "id": "57016bf0-97f7-432a-bad3-6c0f9b4bf602",
   "metadata": {},
   "source": [
    "### MyCNN"
   ]
  },
  {
   "cell_type": "code",
   "execution_count": null,
   "id": "830fe26a-a4a9-444e-bb9f-7f24ec32cb83",
   "metadata": {
    "tags": []
   },
   "outputs": [],
   "source": [
    "from model.MyCNN import MyCNN\n",
    "\n",
    "model = MyCNN(28, 28, 10)\n",
    "numel_list = [p.numel() for p in model.parameters()]\n",
    "# sum(numel_list), numel_list\n",
    "print('MyCNN: ', sum(numel_list), numel_list)\n",
    "\n",
    "from torchinfo import summary\n",
    "summary(model, input_size=(1,1,28,28), device='cpu') "
   ]
  },
  {
   "cell_type": "markdown",
   "id": "5e42762e-a7cf-4072-b1d1-73abd9c7efdb",
   "metadata": {},
   "source": [
    "### MyNet"
   ]
  },
  {
   "cell_type": "code",
   "execution_count": null,
   "id": "2a2b2ec1-813b-48a4-a2fa-dda5d67af55d",
   "metadata": {
    "tags": []
   },
   "outputs": [],
   "source": [
    "from model.MyNet import MyNet\n",
    "\n",
    "model = MyNet(height=28, width=28)\n",
    "numel_list = [p.numel() for p in model.parameters()]\n",
    "# sum(numel_list), numel_list\n",
    "print('MyNet: ', sum(numel_list), numel_list)\n",
    "from torchinfo import summary\n",
    "summary(model, input_size=(1,1,28,28), device='cpu') "
   ]
  },
  {
   "cell_type": "markdown",
   "id": "53b1fbea-6fda-43ad-9aa5-b925b607eab3",
   "metadata": {},
   "source": [
    "### MyNetWidth"
   ]
  },
  {
   "cell_type": "code",
   "execution_count": null,
   "id": "576d8b66-256e-4f53-83f4-91ff1d088c9a",
   "metadata": {
    "tags": []
   },
   "outputs": [],
   "source": [
    "from model.MyNetWidth import MyNetWidth\n",
    "\n",
    "model = MyNetWidth(height=28, width=28, n_chans1=32)\n",
    "numel_list = [p.numel() for p in model.parameters()]\n",
    "# sum(numel_list), numel_list\n",
    "print('MyNetWidth: ', sum(numel_list), numel_list)\n",
    "from torchinfo import summary\n",
    "summary(model, input_size=(1,1,28,28), device='cpu') "
   ]
  },
  {
   "cell_type": "markdown",
   "id": "26aa5f85-617e-425e-91d5-a267fab41a8e",
   "metadata": {
    "tags": []
   },
   "source": [
    "### MyNetDropout"
   ]
  },
  {
   "cell_type": "code",
   "execution_count": null,
   "id": "54f2e753-4a2f-4d35-a96d-0f6faf575410",
   "metadata": {
    "tags": []
   },
   "outputs": [],
   "source": [
    "from model.MyNetDropout import MyNetDropout\n",
    "\n",
    "model = MyNetDropout(height=28, width=28, n_chans1=32)\n",
    "numel_list = [p.numel() for p in model.parameters()]\n",
    "# sum(numel_list), numel_list\n",
    "print('MyNetDropout: ', sum(numel_list), numel_list)\n",
    "from torchinfo import summary\n",
    "summary(model, input_size=(1,1,28,28), device='cpu') "
   ]
  },
  {
   "cell_type": "markdown",
   "id": "5c02b40e-b3db-429e-a477-b66f380b18ac",
   "metadata": {},
   "source": [
    "### NetBatchNorm"
   ]
  },
  {
   "cell_type": "code",
   "execution_count": null,
   "id": "31aedf45-84be-48c1-a745-b623123374cd",
   "metadata": {
    "tags": []
   },
   "outputs": [],
   "source": [
    "from model.MyNetBatchNorm import MyNetBatchNorm\n",
    "\n",
    "model = MyNetBatchNorm(height=28, width=28, n_chans1=32)\n",
    "numel_list = [p.numel() for p in model.parameters()]\n",
    "# sum(numel_list), numel_list\n",
    "print('MyNetBatchNorm: ', sum(numel_list), numel_list)\n",
    "from torchinfo import summary\n",
    "summary(model, input_size=(1,1,28,28), device='cpu') "
   ]
  },
  {
   "cell_type": "markdown",
   "id": "228444c4-ac53-473c-b732-ca7c1d7470a2",
   "metadata": {},
   "source": [
    "### MyNetDepth"
   ]
  },
  {
   "cell_type": "code",
   "execution_count": null,
   "id": "5c27dd3a-6d36-43a1-ab6b-285f7b2597a0",
   "metadata": {
    "tags": []
   },
   "outputs": [],
   "source": [
    "from model.MyNetDepth import MyNetDepth\n",
    "\n",
    "model = MyNetDepth(height=28, width=28, n_chans1=32)\n",
    "numel_list = [p.numel() for p in model.parameters()]\n",
    "# sum(numel_list), numel_list\n",
    "print('MyNetDepth: ', sum(numel_list), numel_list)\n",
    "from torchinfo import summary\n",
    "summary(model, input_size=(1,1,28,28), device='cpu') "
   ]
  },
  {
   "cell_type": "markdown",
   "id": "011b14cd-a69b-42ff-8be8-18f417fde77c",
   "metadata": {},
   "source": [
    "### AlexNet"
   ]
  },
  {
   "cell_type": "code",
   "execution_count": null,
   "id": "ad226966-fefc-4a35-8e2f-360521f4496a",
   "metadata": {
    "tags": []
   },
   "outputs": [],
   "source": [
    "from model.AlexNet import AlexNet\n",
    "\n",
    "model = AlexNet(C=3, H=32, W=32, num_classes = 10)\n",
    "numel_list = [p.numel() for p in model.parameters()]\n",
    "# sum(numel_list), numel_list\n",
    "print('AlexNet: ', sum(numel_list), numel_list)\n",
    "from torchinfo import summary\n",
    "summary(model, input_size=(1,3,32,32), device='cpu') "
   ]
  },
  {
   "cell_type": "markdown",
   "id": "1992a728-59eb-4190-85d2-5d06d32a45be",
   "metadata": {},
   "source": [
    "### VGG"
   ]
  },
  {
   "cell_type": "code",
   "execution_count": null,
   "id": "b324558a-7350-4614-b127-3c4246b46272",
   "metadata": {
    "scrolled": true,
    "tags": []
   },
   "outputs": [],
   "source": [
    "from model.VGG import VGG\n",
    "cfgs = { \"A\": [64, \"M\", 128, \"M\", 256, 256, \"M\", 512, 512, \"M\", 512, 512, \"M\"],\n",
    "         \"B\": [64, 64, \"M\", 128, 128, \"M\", 256, 256, \"M\", 512, 512, \"M\", 512, 512, \"M\"],\n",
    "         \"D\": [64, 64, \"M\", 128, 128, \"M\", 256, 256, 256, \"M\", 512, 512, 512, \"M\", 512, 512, 512, \"M\"],\n",
    "         \"E\": [64, 64, \"M\", 128, 128, \"M\", 256, 256, 256, 256, \"M\", 512, 512, 512, 512, \"M\", 512, 512, 512, 512, \"M\"] }\n",
    "model = VGG(cfgs[\"E\"], batch_norm=False, num_classes=10, C=3)\n",
    "\n",
    "numel_list = [p.numel() for p in model.parameters()]\n",
    "# sum(numel_list), numel_list\n",
    "print('VGG: ', sum(numel_list), numel_list)\n",
    "from torchinfo import summary\n",
    "summary(model, input_size=(2,3,224,224), device='cpu') "
   ]
  },
  {
   "cell_type": "markdown",
   "id": "159430d1-8e21-4eac-9c90-57b72485dea2",
   "metadata": {
    "tags": []
   },
   "source": [
    "### Inception_V1"
   ]
  },
  {
   "cell_type": "code",
   "execution_count": null,
   "id": "1ba81ea7-f9a1-44a8-9ec1-5f44911902cb",
   "metadata": {
    "scrolled": true,
    "tags": []
   },
   "outputs": [],
   "source": [
    "from model.Inception_V1 import Inception_V1\n",
    "\n",
    "model = Inception_V1(num_classes=10)\n",
    "numel_list = [p.numel() for p in model.parameters()]\n",
    "# sum(numel_list), numel_list\n",
    "print('Inception_V1: ', sum(numel_list), numel_list)\n",
    "from torchinfo import summary\n",
    "summary(model, input_size=(1,3,224,224), device='cpu') "
   ]
  },
  {
   "cell_type": "markdown",
   "id": "11b90c6e-286c-4809-bf2a-dd0609141832",
   "metadata": {},
   "source": [
    "### Inception_V3"
   ]
  },
  {
   "cell_type": "code",
   "execution_count": null,
   "id": "759c2f72-067a-477b-9725-c8909a7cccbb",
   "metadata": {
    "scrolled": true,
    "tags": []
   },
   "outputs": [],
   "source": [
    "from model.Inception_V3 import Inception_V3\n",
    "\n",
    "model = Inception_V3()\n",
    "numel_list = [p.numel() for p in model.parameters()]\n",
    "# sum(numel_list), numel_list\n",
    "print('Inception_V3: ', sum(numel_list), numel_list)\n",
    "from torchinfo import summary\n",
    "summary(model, input_size=(1,3,224,224), device='cpu') "
   ]
  },
  {
   "cell_type": "markdown",
   "id": "c1ec978f-099e-479c-bdd3-7c5597598eb8",
   "metadata": {},
   "source": [
    "### MyNetRes"
   ]
  },
  {
   "cell_type": "code",
   "execution_count": null,
   "id": "44707240-6c75-4ca9-bba9-7f24d30904f4",
   "metadata": {
    "tags": []
   },
   "outputs": [],
   "source": [
    "from model.MyNetRes import MyNetRes\n",
    "\n",
    "model = MyNetRes(C=3, H=32, W=32, n_chans1=32, O=10)\n",
    "numel_list = [p.numel() for p in model.parameters()]\n",
    "sum(numel_list), numel_list\n",
    "print('MyNetRes: ', sum(numel_list), numel_list)\n",
    "from torchinfo import summary\n",
    "summary(model, input_size=(1,3,32,32), device='cpu') "
   ]
  },
  {
   "cell_type": "markdown",
   "id": "ca6797a8-68b2-447d-94e5-bd75f75be168",
   "metadata": {},
   "source": [
    "### MyNetResDeep"
   ]
  },
  {
   "cell_type": "code",
   "execution_count": null,
   "id": "a8ca77ab-d9b1-428c-af77-5705120e6ae8",
   "metadata": {
    "tags": []
   },
   "outputs": [],
   "source": [
    "from model.MyNetResDeep import MyNetResDeep\n",
    "\n",
    "model = MyNetResDeep(C=3, H=32, W=32, n_chans1=32, O=10)\n",
    "numel_list = [p.numel() for p in model.parameters()]\n",
    "sum(numel_list), numel_list\n",
    "print('MyNetResDeep: ', sum(numel_list), numel_list)\n",
    "from torchinfo import summary\n",
    "summary(model, input_size=(1,3,32,32), device='cpu') "
   ]
  },
  {
   "cell_type": "markdown",
   "id": "6d6ca91a-193a-483a-8721-57c9ec737eee",
   "metadata": {},
   "source": [
    "### ResNet (3min)"
   ]
  },
  {
   "cell_type": "code",
   "execution_count": null,
   "id": "e96446ee-640d-492d-9197-025f467e1985",
   "metadata": {
    "scrolled": true,
    "tags": []
   },
   "outputs": [],
   "source": [
    "from model.ResNet_3min import ResNet as ResNet3min\n",
    "\n",
    "model = ResNet3min(num_classes=10)\n",
    "print(model)\n",
    "numel_list = [p.numel() for p in model.parameters()]\n",
    "sum(numel_list), numel_list\n",
    "print('ResNet3min: ', sum(numel_list), numel_list)\n",
    "from torchinfo import summary\n",
    "summary(model, input_size=(2,3,224,224), device='cpu') "
   ]
  },
  {
   "cell_type": "markdown",
   "id": "54f50073-a85f-4ff9-a68d-a37ae7d2a1d5",
   "metadata": {
    "tags": []
   },
   "source": [
    "### ResNet (Hyuk)"
   ]
  },
  {
   "cell_type": "code",
   "execution_count": null,
   "id": "6c43b301-4407-49f0-bbca-8d5ca4925fc9",
   "metadata": {
    "scrolled": true,
    "tags": []
   },
   "outputs": [],
   "source": [
    "from model.ResNet_hyuk import resnet50\n",
    "\n",
    "model = resnet50(num_classes=10)\n",
    "numel_list = [p.numel() for p in model.parameters()]\n",
    "sum(numel_list), numel_list\n",
    "print('resnet50: ', sum(numel_list), numel_list)\n",
    "from torchinfo import summary\n",
    "summary(model, input_size=(2,3,224,224), device='cpu') \n",
    "# summary(model, input_size=(2,3,32,32), device='cpu') "
   ]
  },
  {
   "cell_type": "markdown",
   "id": "e9f7fb65-05cb-4190-9d80-36912f7c409b",
   "metadata": {
    "tags": []
   },
   "source": [
    "# Runner"
   ]
  },
  {
   "cell_type": "code",
   "execution_count": null,
   "id": "5234b3b6-ec53-44e2-ae80-e557b4300c8a",
   "metadata": {
    "tags": []
   },
   "outputs": [],
   "source": [
    "import datetime\n",
    "current_time = datetime.datetime.today() # 2021-08-15 20:58:43.302125\n",
    "current_time = current_time.strftime('%Y%m%d%H%M%S') # 20210815205827"
   ]
  },
  {
   "cell_type": "markdown",
   "id": "a712926f-414b-4e13-b9be-985e61d233bd",
   "metadata": {
    "tags": []
   },
   "source": [
    "### multi-class training"
   ]
  },
  {
   "cell_type": "markdown",
   "id": "fc05e5bd-5525-4427-a6c4-d81f36895d69",
   "metadata": {
    "tags": []
   },
   "source": [
    "#### basic setup"
   ]
  },
  {
   "cell_type": "code",
   "execution_count": null,
   "id": "9b43f7f5-8c04-4aaf-b1d7-9ae3cc17233e",
   "metadata": {
    "tags": []
   },
   "outputs": [],
   "source": [
    "import torch\n",
    "from torch import nn, optim\n",
    "from runner.multi_class_training import mclass_training_loop\n",
    "# from runner.multi_label_training import mlabel_training_loop\n",
    "\n",
    "device = torch.device(\"cuda:0\" if torch.cuda.is_available() else \"cpu\")\n",
    "model = model.to(device)\n",
    "loss_fn = nn.CrossEntropyLoss()\n",
    "optimizer = optim.SGD(model.parameters(), lr=1e-2)\n",
    "# loss_fn = nn.MultiLabelSoftMarginLoss()\n",
    "\n",
    "mclass_training_loop(\n",
    "    n_epochs=10,\n",
    "    optimizer=optimizer,\n",
    "    model=model,\n",
    "    loss_fn=loss_fn,\n",
    "    train_loader=train,\n",
    "    test_loader=test,\n",
    "    device=device\n",
    ")"
   ]
  },
  {
   "cell_type": "markdown",
   "id": "0e6e8f6d-90e9-45e6-9763-40fa7d1dbe6d",
   "metadata": {
    "tags": []
   },
   "source": [
    "#### ResNet (3min) setup"
   ]
  },
  {
   "cell_type": "code",
   "execution_count": null,
   "id": "5da69241-a8a5-4061-b5fd-b0e2cb2cca0c",
   "metadata": {
    "tags": []
   },
   "outputs": [],
   "source": [
    "import torch\n",
    "from torch import nn, optim\n",
    "import torch.nn.functional as F\n",
    "\n",
    "device = torch.device(\"cuda:0\" if torch.cuda.is_available() else \"cpu\")\n",
    "model = model.to(device)\n",
    "loss_fn = nn.CrossEntropyLoss()\n",
    "optimizer = optim.SGD(model.parameters(), lr=0.1, momentum=0.9, weight_decay=0.0005)\n",
    "scheduler = optim.lr_scheduler.StepLR(optimizer, step_size=50, gamma=0.1)\n",
    "\n",
    "from runner.multi_class_training_lib import mclass_training_loop_3min\n",
    "\n",
    "mclass_training_loop_3min(\n",
    "    n_epochs=5,\n",
    "    model=model,\n",
    "    loss_fn=loss_fn,\n",
    "    optimizer=optimizer,\n",
    "    scheduler=scheduler,\n",
    "    train_loader=train,\n",
    "    test_loader=test,\n",
    "    device=device\n",
    ")"
   ]
  },
  {
   "cell_type": "markdown",
   "id": "f9bd4ad8-78e8-4ee0-a5bc-1387809c65d3",
   "metadata": {},
   "source": [
    "#### AlexNet (Basic) setup"
   ]
  },
  {
   "cell_type": "code",
   "execution_count": null,
   "id": "917fdb79-337a-4697-803a-15eb444b65de",
   "metadata": {
    "tags": []
   },
   "outputs": [],
   "source": [
    "import torch\n",
    "from torch import nn, optim\n",
    "import torch.nn.functional as F\n",
    "\n",
    "device = torch.device(\"cuda:0\" if torch.cuda.is_available() else \"cpu\")\n",
    "model = model.to(device)\n",
    "loss_fn = nn.CrossEntropyLoss()\n",
    "optimizer = optim.Adam(model.parameters(), lr=1e-3)\n",
    "scheduler = optim.lr_scheduler.StepLR(optimizer, step_size=50, gamma=0.1)\n",
    "\n",
    "from runner.multi_class_training_lib import mclass_training_loop_basic, evaluate_basic\n",
    "\n",
    "mclass_training_loop_basic(\n",
    "    n_epochs=4,\n",
    "    model=model,\n",
    "    loss_fn=loss_fn,\n",
    "    optimizer=optimizer,\n",
    "    scheduler=scheduler,\n",
    "    train_loader=train,\n",
    "    test_loader=test,\n",
    "    device=device\n",
    ")\n"
   ]
  },
  {
   "cell_type": "code",
   "execution_count": null,
   "id": "b65f2e22-74b1-4b93-9ec8-50361d946ee4",
   "metadata": {},
   "outputs": [],
   "source": []
  }
 ],
 "metadata": {
  "kernelspec": {
   "display_name": "Python 3 (ipykernel)",
   "language": "python",
   "name": "python3"
  },
  "language_info": {
   "codemirror_mode": {
    "name": "ipython",
    "version": 3
   },
   "file_extension": ".py",
   "mimetype": "text/x-python",
   "name": "python",
   "nbconvert_exporter": "python",
   "pygments_lexer": "ipython3",
   "version": "3.7.9"
  }
 },
 "nbformat": 4,
 "nbformat_minor": 5
}
