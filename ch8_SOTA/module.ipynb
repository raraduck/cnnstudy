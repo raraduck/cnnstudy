{
 "cells": [
  {
   "cell_type": "code",
   "execution_count": null,
   "id": "c6f0e3af-65be-4fa0-b6b1-63bdc2b147af",
   "metadata": {},
   "outputs": [],
   "source": [
    "from loader.load_fashionmnist import load_fashionmnist\n",
    "\n",
    "train, test, classnames = load_fashionmnist()"
   ]
  },
  {
   "cell_type": "code",
   "execution_count": null,
   "id": "9a688948-cf53-4d8f-bf2c-029c51ca9c52",
   "metadata": {
    "tags": []
   },
   "outputs": [],
   "source": [
    "from loader.load_mnist import load_mnist\n",
    "\n",
    "train, test, classnames = load_mnist()"
   ]
  },
  {
   "cell_type": "code",
   "execution_count": null,
   "id": "810e764f-a829-4843-8a18-6dd948c75da2",
   "metadata": {
    "tags": []
   },
   "outputs": [],
   "source": [
    "from loader.load_pneumoniamnist import load_pneumoniamnist\n",
    "\n",
    "train, test, classnames = load_pneumoniamnist()"
   ]
  },
  {
   "cell_type": "code",
   "execution_count": null,
   "id": "2f0530d8-4d2d-4fb6-99c0-77b056f53c92",
   "metadata": {
    "tags": []
   },
   "outputs": [],
   "source": [
    "from loader.load_chestmnist import load_chestmnist\n",
    "\n",
    "train, test, classnames = load_chestmnist()\n",
    "print(classnames)"
   ]
  },
  {
   "cell_type": "code",
   "execution_count": null,
   "id": "d9ac8c1b-6022-43e7-9ba1-7e9152bad06e",
   "metadata": {
    "tags": []
   },
   "outputs": [],
   "source": [
    "from loader.load_cifar10 import load_cifar10\n",
    "\n",
    "train, test, classnames = load_cifar10()\n",
    "print(classnames)"
   ]
  },
  {
   "cell_type": "code",
   "execution_count": null,
   "id": "c3554905-53a4-4c97-9ec2-c37087810a2c",
   "metadata": {
    "tags": []
   },
   "outputs": [],
   "source": [
    "from loader.load_cifar100 import load_cifar100\n",
    "\n",
    "train, test, classnames = load_cifar100()\n",
    "print(classnames)"
   ]
  },
  {
   "cell_type": "code",
   "execution_count": null,
   "id": "ea2d9e0b-246a-44a8-b681-1c424648991d",
   "metadata": {},
   "outputs": [],
   "source": []
  }
 ],
 "metadata": {
  "kernelspec": {
   "display_name": "Python 3 (ipykernel)",
   "language": "python",
   "name": "python3"
  },
  "language_info": {
   "codemirror_mode": {
    "name": "ipython",
    "version": 3
   },
   "file_extension": ".py",
   "mimetype": "text/x-python",
   "name": "python",
   "nbconvert_exporter": "python",
   "pygments_lexer": "ipython3",
   "version": "3.7.9"
  }
 },
 "nbformat": 4,
 "nbformat_minor": 5
}
