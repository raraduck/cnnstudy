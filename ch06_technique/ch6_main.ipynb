{
 "cells": [
  {
   "cell_type": "code",
   "execution_count": 1,
   "id": "10a5d3a8-6ac6-4539-88c8-9cbc74b62770",
   "metadata": {
    "scrolled": true
   },
   "outputs": [
    {
     "name": "stdout",
     "output_type": "stream",
     "text": [
      "Downloading http://fashion-mnist.s3-website.eu-central-1.amazonaws.com/train-images-idx3-ubyte.gz to ./data/FashionMNIST/raw/train-images-idx3-ubyte.gz\n"
     ]
    },
    {
     "name": "stderr",
     "output_type": "stream",
     "text": [
      "100.0%"
     ]
    },
    {
     "name": "stdout",
     "output_type": "stream",
     "text": [
      "Extracting ./data/FashionMNIST/raw/train-images-idx3-ubyte.gz to ./data/FashionMNIST/raw\n",
      "Downloading http://fashion-mnist.s3-website.eu-central-1.amazonaws.com/train-labels-idx1-ubyte.gz to ./data/FashionMNIST/raw/train-labels-idx1-ubyte.gz\n"
     ]
    },
    {
     "name": "stderr",
     "output_type": "stream",
     "text": [
      "111.0%"
     ]
    },
    {
     "name": "stdout",
     "output_type": "stream",
     "text": [
      "Extracting ./data/FashionMNIST/raw/train-labels-idx1-ubyte.gz to ./data/FashionMNIST/raw\n",
      "Downloading http://fashion-mnist.s3-website.eu-central-1.amazonaws.com/t10k-images-idx3-ubyte.gz to ./data/FashionMNIST/raw/t10k-images-idx3-ubyte.gz\n"
     ]
    },
    {
     "name": "stderr",
     "output_type": "stream",
     "text": [
      "100.0%"
     ]
    },
    {
     "name": "stdout",
     "output_type": "stream",
     "text": [
      "Extracting ./data/FashionMNIST/raw/t10k-images-idx3-ubyte.gz to ./data/FashionMNIST/raw\n",
      "Downloading http://fashion-mnist.s3-website.eu-central-1.amazonaws.com/t10k-labels-idx1-ubyte.gz to ./data/FashionMNIST/raw/t10k-labels-idx1-ubyte.gz\n"
     ]
    },
    {
     "name": "stderr",
     "output_type": "stream",
     "text": [
      "159.1%/home2/dwnusa/workspace/cnnstudy/venv/lib/python3.6/site-packages/torchvision/datasets/mnist.py:480: UserWarning: The given NumPy array is not writeable, and PyTorch does not support non-writeable tensors. This means you can write to the underlying (supposedly non-writeable) NumPy array using the tensor. You may want to copy the array to protect its data or make it writeable before converting it to a tensor. This type of warning will be suppressed for the rest of this program. (Triggered internally at  /pytorch/torch/csrc/utils/tensor_numpy.cpp:141.)\n",
      "  return torch.from_numpy(parsed.astype(m[2], copy=False)).view(*s)\n"
     ]
    },
    {
     "name": "stdout",
     "output_type": "stream",
     "text": [
      "Extracting ./data/FashionMNIST/raw/t10k-labels-idx1-ubyte.gz to ./data/FashionMNIST/raw\n",
      "Processing...\n",
      "Done!\n",
      "Downloading http://yann.lecun.com/exdb/mnist/train-images-idx3-ubyte.gz to ./data/MNIST/raw/train-images-idx3-ubyte.gz\n"
     ]
    },
    {
     "name": "stderr",
     "output_type": "stream",
     "text": [
      "100.1%"
     ]
    },
    {
     "name": "stdout",
     "output_type": "stream",
     "text": [
      "Extracting ./data/MNIST/raw/train-images-idx3-ubyte.gz to ./data/MNIST/raw\n",
      "Downloading http://yann.lecun.com/exdb/mnist/train-labels-idx1-ubyte.gz to ./data/MNIST/raw/train-labels-idx1-ubyte.gz\n"
     ]
    },
    {
     "name": "stderr",
     "output_type": "stream",
     "text": [
      "113.5%"
     ]
    },
    {
     "name": "stdout",
     "output_type": "stream",
     "text": [
      "Extracting ./data/MNIST/raw/train-labels-idx1-ubyte.gz to ./data/MNIST/raw\n",
      "Downloading http://yann.lecun.com/exdb/mnist/t10k-images-idx3-ubyte.gz to ./data/MNIST/raw/t10k-images-idx3-ubyte.gz\n"
     ]
    },
    {
     "name": "stderr",
     "output_type": "stream",
     "text": [
      "100.4%"
     ]
    },
    {
     "name": "stdout",
     "output_type": "stream",
     "text": [
      "Extracting ./data/MNIST/raw/t10k-images-idx3-ubyte.gz to ./data/MNIST/raw\n",
      "Downloading http://yann.lecun.com/exdb/mnist/t10k-labels-idx1-ubyte.gz to ./data/MNIST/raw/t10k-labels-idx1-ubyte.gz\n"
     ]
    },
    {
     "name": "stderr",
     "output_type": "stream",
     "text": [
      "180.4%"
     ]
    },
    {
     "name": "stdout",
     "output_type": "stream",
     "text": [
      "Extracting ./data/MNIST/raw/t10k-labels-idx1-ubyte.gz to ./data/MNIST/raw\n",
      "Processing...\n",
      "Done!\n"
     ]
    }
   ],
   "source": [
    "from torchvision.datasets import MNIST, FashionMNIST\n",
    "from torchvision import transforms\n",
    "\n",
    "fmnist_train = FashionMNIST(\"./data\", train=True, download=True,\n",
    "                           transform=transforms.ToTensor())\n",
    "fmnist_test = FashionMNIST(\"./data\", train=False, download=True,\n",
    "                           transform=transforms.ToTensor())\n",
    "\n",
    "mnist_train = MNIST(\"./data\", train=True, download=True,\n",
    "                    transform=transforms.ToTensor())\n",
    "mnist_test = MNIST(\"./data\", train=False, download=True,\n",
    "                    transform=transforms.ToTensor())\n",
    "\n",
    "batch_size=256\n",
    "from torch.utils.data import Dataset, DataLoader, TensorDataset\n",
    "f_train_loader = DataLoader(fmnist_train, batch_size=batch_size, shuffle=True, drop_last=True)\n",
    "f_test_laoder = DataLoader(fmnist_test, batch_size=batch_size, shuffle=False, drop_last=True)\n",
    "\n",
    "m_train_loader = DataLoader(mnist_train, batch_size=batch_size, shuffle=True, drop_last=True)\n",
    "m_test_laoder = DataLoader(mnist_test, batch_size=batch_size, shuffle=False, drop_last=True)"
   ]
  },
  {
   "cell_type": "code",
   "execution_count": 3,
   "id": "a895b873-b152-46fd-9455-d2da6a03754b",
   "metadata": {},
   "outputs": [
    {
     "name": "stdout",
     "output_type": "stream",
     "text": [
      "MyMLP:  2778 [2048, 32, 512, 16, 160, 10]\n",
      "MyCNN:  123222 [400, 16, 12800, 32, 51200, 64, 57600, 100, 1000, 10]\n",
      "Net:  14226 [144, 16, 1152, 8, 12544, 32, 320, 10]\n",
      "NetWidth:  30394 [288, 32, 4608, 16, 25088, 32, 320, 10]\n",
      "NetDropout:  30394 [288, 32, 4608, 16, 25088, 32, 320, 10]\n",
      "NetBatchNorm:  30490 [288, 32, 32, 32, 4608, 16, 16, 16, 25088, 32, 320, 10]\n",
      "NetDepth:  12234 [288, 32, 4608, 16, 2304, 16, 4608, 32, 320, 10]\n"
     ]
    }
   ],
   "source": [
    "from models.load_models import MyMLP, MyCNN, Net, NetWidth, NetDropout, NetBatchNorm, NetDepth\n",
    "\n",
    "model = MyMLP()\n",
    "numel_list = [p.numel() for p in model.parameters()]\n",
    "sum(numel_list), numel_list\n",
    "print('MyMLP: ', sum(numel_list), numel_list)\n",
    "\n",
    "model = MyCNN(height=28, width=28)\n",
    "numel_list = [p.numel() for p in model.parameters()]\n",
    "sum(numel_list), numel_list\n",
    "print('MyCNN: ', sum(numel_list), numel_list)\n",
    "\n",
    "model = Net(height=28, width=28)\n",
    "numel_list = [p.numel() for p in model.parameters()]\n",
    "print('Net: ', sum(numel_list), numel_list)\n",
    "\n",
    "model = NetWidth(height=28, width=28, n_chans1=32)\n",
    "numel_list = [p.numel() for p in model.parameters()]\n",
    "print('NetWidth: ', sum(numel_list), numel_list)\n",
    "\n",
    "model = NetDropout(height=28, width=28, n_chans1=32)\n",
    "numel_list = [p.numel() for p in model.parameters()]\n",
    "print('NetDropout: ', sum(numel_list), numel_list)\n",
    "\n",
    "model = NetBatchNorm(height=28, width=28, n_chans1=32)\n",
    "numel_list = [p.numel() for p in model.parameters()]\n",
    "print('NetBatchNorm: ', sum(numel_list), numel_list)\n",
    "\n",
    "model = NetDepth(height=28, width=28, n_chans1=32)\n",
    "numel_list = [p.numel() for p in model.parameters()]\n",
    "print('NetDepth: ', sum(numel_list), numel_list)"
   ]
  },
  {
   "cell_type": "code",
   "execution_count": 6,
   "id": "c52c05ae-6fbf-4c16-9577-6782d63890da",
   "metadata": {},
   "outputs": [],
   "source": [
    "import torch\n",
    "from torch import nn, optim\n",
    "from train.run_training import training_loop, training_loop_l2reg, validate\n",
    "import collections\n",
    "all_acc_dict = collections.OrderedDict()\n",
    "device = torch.device(\"cuda:0\" if torch.cuda.is_available() else \"cpu\")\n",
    "import datetime\n",
    "current_time = datetime.datetime.today() # 2021-08-15 20:58:43.302125\n",
    "current_time = current_time.strftime('%Y%m%d%H%M%S') # 20210815205827"
   ]
  },
  {
   "cell_type": "code",
   "execution_count": 7,
   "id": "e6da57c8-70c7-4575-898f-32f937c8a53e",
   "metadata": {
    "scrolled": true
   },
   "outputs": [
    {
     "name": "stderr",
     "output_type": "stream",
     "text": [
      "100%|██████████| 234/234 [00:04<00:00, 56.63it/s]\n"
     ]
    },
    {
     "name": "stdout",
     "output_type": "stream",
     "text": [
      "0 2.2896754731436144 0.1600727831196581 0.34014424681663513\n"
     ]
    },
    {
     "name": "stderr",
     "output_type": "stream",
     "text": [
      "100%|██████████| 234/234 [00:04<00:00, 56.66it/s]\n"
     ]
    },
    {
     "name": "stdout",
     "output_type": "stream",
     "text": [
      "1 2.0854438036808127 0.5723323985042735 0.5849359035491943\n"
     ]
    },
    {
     "name": "stderr",
     "output_type": "stream",
     "text": [
      "100%|██████████| 234/234 [00:04<00:00, 55.39it/s]\n"
     ]
    },
    {
     "name": "stdout",
     "output_type": "stream",
     "text": [
      "2 1.5046891373114524 0.6274205395299145 0.7018229365348816\n"
     ]
    },
    {
     "name": "stderr",
     "output_type": "stream",
     "text": [
      "100%|██████████| 234/234 [00:04<00:00, 53.53it/s]\n"
     ]
    },
    {
     "name": "stdout",
     "output_type": "stream",
     "text": [
      "3 1.0711645678389226 0.7327891292735043 0.7820512652397156\n"
     ]
    },
    {
     "name": "stderr",
     "output_type": "stream",
     "text": [
      "100%|██████████| 234/234 [00:04<00:00, 53.33it/s]\n"
     ]
    },
    {
     "name": "stdout",
     "output_type": "stream",
     "text": [
      "4 0.8369234462664362 0.7957565438034188 0.8269230723381042\n"
     ]
    },
    {
     "name": "stderr",
     "output_type": "stream",
     "text": [
      "100%|██████████| 234/234 [00:04<00:00, 54.56it/s]\n"
     ]
    },
    {
     "name": "stdout",
     "output_type": "stream",
     "text": [
      "5 0.6960779341505321 0.8310964209401709 0.856370210647583\n"
     ]
    },
    {
     "name": "stderr",
     "output_type": "stream",
     "text": [
      "100%|██████████| 234/234 [00:04<00:00, 54.33it/s]\n"
     ]
    },
    {
     "name": "stdout",
     "output_type": "stream",
     "text": [
      "6 0.6028880933579457 0.8517127403846154 0.8720953464508057\n"
     ]
    },
    {
     "name": "stderr",
     "output_type": "stream",
     "text": [
      "100%|██████████| 234/234 [00:04<00:00, 54.59it/s]\n"
     ]
    },
    {
     "name": "stdout",
     "output_type": "stream",
     "text": [
      "7 0.53697079829392 0.8665698450854701 0.8825120329856873\n"
     ]
    },
    {
     "name": "stderr",
     "output_type": "stream",
     "text": [
      "100%|██████████| 234/234 [00:04<00:00, 55.57it/s]\n"
     ]
    },
    {
     "name": "stdout",
     "output_type": "stream",
     "text": [
      "8 0.48799240282165135 0.8761685363247863 0.8904246687889099\n"
     ]
    },
    {
     "name": "stderr",
     "output_type": "stream",
     "text": [
      "100%|██████████| 234/234 [00:05<00:00, 45.94it/s]\n"
     ]
    },
    {
     "name": "stdout",
     "output_type": "stream",
     "text": [
      "9 0.45014275987772473 0.8847155448717948 0.896334171295166\n",
      "-----------training finished-----------\n",
      "train_losses:  [2.2896754731436144, 2.0854438036808127, 1.5046891373114524, 1.0711645678389226, 0.8369234462664362, 0.6960779341505321, 0.6028880933579457, 0.53697079829392, 0.48799240282165135, 0.45014275987772473]\n",
      "train_acc:  [0.1600727831196581, 0.5723323985042735, 0.6274205395299145, 0.7327891292735043, 0.7957565438034188, 0.8310964209401709, 0.8517127403846154, 0.8665698450854701, 0.8761685363247863, 0.8847155448717948]\n",
      "val_acc:  [0.34014424681663513, 0.5849359035491943, 0.7018229365348816, 0.7820512652397156, 0.8269230723381042, 0.856370210647583, 0.8720953464508057, 0.8825120329856873, 0.8904246687889099, 0.896334171295166]\n",
      "Accuracy train: 0.89\n",
      "Accuracy val: 0.90\n"
     ]
    }
   ],
   "source": [
    "model = Net(height=28, width=28).to(device)\n",
    "loss_fn = nn.CrossEntropyLoss()\n",
    "optimizer = optim.SGD(model.parameters(), lr=1e-2)\n",
    "\n",
    "training_loop(\n",
    "    n_epochs = 10, \n",
    "    optimizer = optimizer,\n",
    "    model = model,\n",
    "    loss_fn = loss_fn, \n",
    "    train_loader = m_train_loader, \n",
    "    test_loader = m_test_laoder, \n",
    "    device = device)\n",
    "\n",
    "all_acc_dict[\"Net\"] = validate(model, m_train_loader, m_test_laoder, device)\n",
    "torch.save(model.state_dict(), './results/' + f'{current_time}_Net.pt')"
   ]
  },
  {
   "cell_type": "code",
   "execution_count": 8,
   "id": "a6fe7556-4ff9-49e9-81bd-8e61363e5a54",
   "metadata": {
    "scrolled": true
   },
   "outputs": [
    {
     "name": "stderr",
     "output_type": "stream",
     "text": [
      "100%|██████████| 234/234 [00:04<00:00, 46.92it/s]\n"
     ]
    },
    {
     "name": "stdout",
     "output_type": "stream",
     "text": [
      "0 2.309183130960096 0.12428218482905982 0.13671875\n"
     ]
    },
    {
     "name": "stderr",
     "output_type": "stream",
     "text": [
      "100%|██████████| 234/234 [00:04<00:00, 46.82it/s]\n"
     ]
    },
    {
     "name": "stdout",
     "output_type": "stream",
     "text": [
      "1 2.2706608629022034 0.31640625 0.5044070482254028\n"
     ]
    },
    {
     "name": "stderr",
     "output_type": "stream",
     "text": [
      "100%|██████████| 234/234 [00:04<00:00, 47.15it/s]\n"
     ]
    },
    {
     "name": "stdout",
     "output_type": "stream",
     "text": [
      "2 1.2380531936756018 0.66015625 0.8334335088729858\n"
     ]
    },
    {
     "name": "stderr",
     "output_type": "stream",
     "text": [
      "100%|██████████| 234/234 [00:05<00:00, 46.43it/s]\n"
     ]
    },
    {
     "name": "stdout",
     "output_type": "stream",
     "text": [
      "3 0.4647430618945109 0.8543336004273504 0.8988381624221802\n"
     ]
    },
    {
     "name": "stderr",
     "output_type": "stream",
     "text": [
      "100%|██████████| 234/234 [00:05<00:00, 46.13it/s]\n"
     ]
    },
    {
     "name": "stdout",
     "output_type": "stream",
     "text": [
      "4 0.31816179532349875 0.9022102029914529 0.9230769276618958\n"
     ]
    },
    {
     "name": "stderr",
     "output_type": "stream",
     "text": [
      "100%|██████████| 234/234 [00:05<00:00, 46.68it/s]\n"
     ]
    },
    {
     "name": "stdout",
     "output_type": "stream",
     "text": [
      "5 0.24293394648977615 0.9258146367521367 0.9392027258872986\n"
     ]
    },
    {
     "name": "stderr",
     "output_type": "stream",
     "text": [
      "100%|██████████| 234/234 [00:05<00:00, 46.70it/s]\n"
     ]
    },
    {
     "name": "stdout",
     "output_type": "stream",
     "text": [
      "6 0.1945332593480405 0.9404213408119658 0.9530248641967773\n"
     ]
    },
    {
     "name": "stderr",
     "output_type": "stream",
     "text": [
      "100%|██████████| 234/234 [00:05<00:00, 46.37it/s]\n"
     ]
    },
    {
     "name": "stdout",
     "output_type": "stream",
     "text": [
      "7 0.1685333388493808 0.9485009348290598 0.9562299847602844\n"
     ]
    },
    {
     "name": "stderr",
     "output_type": "stream",
     "text": [
      "100%|██████████| 234/234 [00:05<00:00, 46.56it/s]\n"
     ]
    },
    {
     "name": "stdout",
     "output_type": "stream",
     "text": [
      "8 0.1445047904621378 0.955345219017094 0.9559295177459717\n"
     ]
    },
    {
     "name": "stderr",
     "output_type": "stream",
     "text": [
      "100%|██████████| 234/234 [00:04<00:00, 47.02it/s]\n"
     ]
    },
    {
     "name": "stdout",
     "output_type": "stream",
     "text": [
      "9 0.12927763475816648 0.9603031517094017 0.9673477411270142\n",
      "-----------training finished-----------\n",
      "train_losses:  [2.309183130960096, 2.2706608629022034, 1.2380531936756018, 0.4647430618945109, 0.31816179532349875, 0.24293394648977615, 0.1945332593480405, 0.1685333388493808, 0.1445047904621378, 0.12927763475816648]\n",
      "train_acc:  [0.12428218482905982, 0.31640625, 0.66015625, 0.8543336004273504, 0.9022102029914529, 0.9258146367521367, 0.9404213408119658, 0.9485009348290598, 0.955345219017094, 0.9603031517094017]\n",
      "val_acc:  [0.13671875, 0.5044070482254028, 0.8334335088729858, 0.8988381624221802, 0.9230769276618958, 0.9392027258872986, 0.9530248641967773, 0.9562299847602844, 0.9559295177459717, 0.9673477411270142]\n",
      "Accuracy train: 0.96\n",
      "Accuracy val: 0.97\n"
     ]
    }
   ],
   "source": [
    "model = MyCNN(height=28, width=28).to(device)\n",
    "loss_fn = nn.CrossEntropyLoss()\n",
    "optimizer = optim.SGD(model.parameters(), lr=1e-2)\n",
    "\n",
    "training_loop(\n",
    "    n_epochs = 10, \n",
    "    optimizer = optimizer,\n",
    "    model = model,\n",
    "    loss_fn = loss_fn, \n",
    "    train_loader = m_train_loader, \n",
    "    test_loader = m_test_laoder, \n",
    "    device = device)\n",
    "\n",
    "all_acc_dict[\"MyCNN\"] = validate(model, m_train_loader, m_test_laoder, device)\n",
    "torch.save(model.state_dict(), './results/' + f'{current_time}_MyCNN.pt')"
   ]
  },
  {
   "cell_type": "code",
   "execution_count": 9,
   "id": "8bcb0b44-6582-4eac-8c24-5106ac47532c",
   "metadata": {
    "scrolled": true
   },
   "outputs": [
    {
     "name": "stderr",
     "output_type": "stream",
     "text": [
      "100%|██████████| 234/234 [00:04<00:00, 56.13it/s]\n"
     ]
    },
    {
     "name": "stdout",
     "output_type": "stream",
     "text": [
      "0 2.271206937634382 0.29333600427350426 0.5671073794364929\n"
     ]
    },
    {
     "name": "stderr",
     "output_type": "stream",
     "text": [
      "100%|██████████| 234/234 [00:04<00:00, 54.59it/s]\n"
     ]
    },
    {
     "name": "stdout",
     "output_type": "stream",
     "text": [
      "1 1.877593821722039 0.6656817574786325 0.7561097741127014\n"
     ]
    },
    {
     "name": "stderr",
     "output_type": "stream",
     "text": [
      "100%|██████████| 234/234 [00:04<00:00, 54.07it/s]\n"
     ]
    },
    {
     "name": "stdout",
     "output_type": "stream",
     "text": [
      "2 1.1192165976430213 0.7813334668803419 0.8322315812110901\n"
     ]
    },
    {
     "name": "stderr",
     "output_type": "stream",
     "text": [
      "100%|██████████| 234/234 [00:04<00:00, 54.58it/s]\n"
     ]
    },
    {
     "name": "stdout",
     "output_type": "stream",
     "text": [
      "3 0.7425508174261821 0.8452857905982906 0.8742988705635071\n"
     ]
    },
    {
     "name": "stderr",
     "output_type": "stream",
     "text": [
      "100%|██████████| 234/234 [00:04<00:00, 54.28it/s]\n"
     ]
    },
    {
     "name": "stdout",
     "output_type": "stream",
     "text": [
      "4 0.5628123154200197 0.8768195779914529 0.8943309187889099\n"
     ]
    },
    {
     "name": "stderr",
     "output_type": "stream",
     "text": [
      "100%|██████████| 234/234 [00:04<00:00, 54.62it/s]\n"
     ]
    },
    {
     "name": "stdout",
     "output_type": "stream",
     "text": [
      "5 0.4616207754151504 0.8945980235042735 0.9086538553237915\n"
     ]
    },
    {
     "name": "stderr",
     "output_type": "stream",
     "text": [
      "100%|██████████| 234/234 [00:04<00:00, 54.67it/s]\n"
     ]
    },
    {
     "name": "stdout",
     "output_type": "stream",
     "text": [
      "6 0.39786761564246576 0.9052984775641025 0.9155648946762085\n"
     ]
    },
    {
     "name": "stderr",
     "output_type": "stream",
     "text": [
      "100%|██████████| 234/234 [00:04<00:00, 54.72it/s]\n"
     ]
    },
    {
     "name": "stdout",
     "output_type": "stream",
     "text": [
      "7 0.3538755376707331 0.9134782318376068 0.9229767918586731\n"
     ]
    },
    {
     "name": "stderr",
     "output_type": "stream",
     "text": [
      "100%|██████████| 234/234 [00:04<00:00, 56.89it/s]\n"
     ]
    },
    {
     "name": "stdout",
     "output_type": "stream",
     "text": [
      "8 0.3209458305600375 0.9203725961538461 0.9289863705635071\n"
     ]
    },
    {
     "name": "stderr",
     "output_type": "stream",
     "text": [
      "100%|██████████| 234/234 [00:04<00:00, 55.48it/s]\n"
     ]
    },
    {
     "name": "stdout",
     "output_type": "stream",
     "text": [
      "9 0.2949437025790562 0.9252971420940171 0.9326923489570618\n",
      "-----------training finished-----------\n",
      "train_losses:  [2.271206937634382, 1.877593821722039, 1.1192165976430213, 0.7425508174261821, 0.5628123154200197, 0.4616207754151504, 0.39786761564246576, 0.3538755376707331, 0.3209458305600375, 0.2949437025790562]\n",
      "train_acc:  [0.29333600427350426, 0.6656817574786325, 0.7813334668803419, 0.8452857905982906, 0.8768195779914529, 0.8945980235042735, 0.9052984775641025, 0.9134782318376068, 0.9203725961538461, 0.9252971420940171]\n",
      "val_acc:  [0.5671073794364929, 0.7561097741127014, 0.8322315812110901, 0.8742988705635071, 0.8943309187889099, 0.9086538553237915, 0.9155648946762085, 0.9229767918586731, 0.9289863705635071, 0.9326923489570618]\n",
      "Accuracy train: 0.93\n",
      "Accuracy val: 0.93\n"
     ]
    }
   ],
   "source": [
    "model = NetWidth(height=28, width=28, n_chans1=32).to(device)\n",
    "loss_fn = nn.CrossEntropyLoss()\n",
    "optimizer = optim.SGD(model.parameters(), lr=1e-2)\n",
    "\n",
    "training_loop(\n",
    "    n_epochs = 10, \n",
    "    optimizer = optimizer,\n",
    "    model = model,\n",
    "    loss_fn = loss_fn, \n",
    "    train_loader = m_train_loader, \n",
    "    test_loader = m_test_laoder, \n",
    "    device = device)\n",
    "\n",
    "all_acc_dict[\"NetWidth\"] = validate(model, m_train_loader, m_test_laoder, device)\n",
    "torch.save(model.state_dict(), './results/' + f'{current_time}_NetWidth.pt')"
   ]
  },
  {
   "cell_type": "code",
   "execution_count": 10,
   "id": "fd85aa31-9041-4eaf-8443-5bdc51e83e34",
   "metadata": {
    "scrolled": true
   },
   "outputs": [
    {
     "name": "stderr",
     "output_type": "stream",
     "text": [
      "100%|██████████| 234/234 [00:04<00:00, 51.11it/s]\n"
     ]
    },
    {
     "name": "stdout",
     "output_type": "stream",
     "text": [
      "0 2.2821317036264444 0.25964877136752135 0.6420272588729858\n"
     ]
    },
    {
     "name": "stderr",
     "output_type": "stream",
     "text": [
      "100%|██████████| 234/234 [00:04<00:00, 51.10it/s]\n"
     ]
    },
    {
     "name": "stdout",
     "output_type": "stream",
     "text": [
      "1 1.7602279201597615 0.6820245726495726 0.7474960088729858\n"
     ]
    },
    {
     "name": "stderr",
     "output_type": "stream",
     "text": [
      "100%|██████████| 234/234 [00:04<00:00, 51.10it/s]\n"
     ]
    },
    {
     "name": "stdout",
     "output_type": "stream",
     "text": [
      "2 1.1001809231713093 0.7773103632478633 0.8280248641967773\n"
     ]
    },
    {
     "name": "stderr",
     "output_type": "stream",
     "text": [
      "100%|██████████| 234/234 [00:04<00:00, 50.49it/s]\n"
     ]
    },
    {
     "name": "stdout",
     "output_type": "stream",
     "text": [
      "3 0.7910801486907599 0.840995592948718 0.8684896230697632\n"
     ]
    },
    {
     "name": "stderr",
     "output_type": "stream",
     "text": [
      "100%|██████████| 234/234 [00:04<00:00, 50.71it/s]\n"
     ]
    },
    {
     "name": "stdout",
     "output_type": "stream",
     "text": [
      "4 0.6341500919264274 0.8704427083333334 0.8887219429016113\n"
     ]
    },
    {
     "name": "stderr",
     "output_type": "stream",
     "text": [
      "100%|██████████| 234/234 [00:04<00:00, 51.31it/s]\n"
     ]
    },
    {
     "name": "stdout",
     "output_type": "stream",
     "text": [
      "5 0.5426692224623307 0.8867521367521367 0.8989382982254028\n"
     ]
    },
    {
     "name": "stderr",
     "output_type": "stream",
     "text": [
      "100%|██████████| 234/234 [00:04<00:00, 49.66it/s]\n"
     ]
    },
    {
     "name": "stdout",
     "output_type": "stream",
     "text": [
      "6 0.48379290717865775 0.8980201655982906 0.907151460647583\n"
     ]
    },
    {
     "name": "stderr",
     "output_type": "stream",
     "text": [
      "100%|██████████| 234/234 [00:04<00:00, 49.16it/s]\n"
     ]
    },
    {
     "name": "stdout",
     "output_type": "stream",
     "text": [
      "7 0.44225083451414315 0.9064169337606838 0.9151642918586731\n"
     ]
    },
    {
     "name": "stderr",
     "output_type": "stream",
     "text": [
      "100%|██████████| 234/234 [00:04<00:00, 49.90it/s]\n"
     ]
    },
    {
     "name": "stdout",
     "output_type": "stream",
     "text": [
      "8 0.4114752740563241 0.9131610576923077 0.9205729365348816\n"
     ]
    },
    {
     "name": "stderr",
     "output_type": "stream",
     "text": [
      "100%|██████████| 234/234 [00:04<00:00, 50.41it/s]\n"
     ]
    },
    {
     "name": "stdout",
     "output_type": "stream",
     "text": [
      "9 0.38729936204243115 0.9179186698717948 0.926682710647583\n",
      "-----------training finished-----------\n",
      "train_losses:  [2.2821317036264444, 1.7602279201597615, 1.1001809231713093, 0.7910801486907599, 0.6341500919264274, 0.5426692224623307, 0.48379290717865775, 0.44225083451414315, 0.4114752740563241, 0.38729936204243115]\n",
      "train_acc:  [0.25964877136752135, 0.6820245726495726, 0.7773103632478633, 0.840995592948718, 0.8704427083333334, 0.8867521367521367, 0.8980201655982906, 0.9064169337606838, 0.9131610576923077, 0.9179186698717948]\n",
      "val_acc:  [0.6420272588729858, 0.7474960088729858, 0.8280248641967773, 0.8684896230697632, 0.8887219429016113, 0.8989382982254028, 0.907151460647583, 0.9151642918586731, 0.9205729365348816, 0.926682710647583]\n",
      "Accuracy train: 0.92\n",
      "Accuracy val: 0.93\n"
     ]
    }
   ],
   "source": [
    "model = NetWidth(height=28, width=28, n_chans1=32).to(device)\n",
    "loss_fn = nn.CrossEntropyLoss()\n",
    "optimizer = optim.SGD(model.parameters(), lr=1e-2)\n",
    "\n",
    "training_loop_l2reg(\n",
    "    n_epochs = 10, \n",
    "    optimizer = optimizer,\n",
    "    model = model,\n",
    "    loss_fn = loss_fn, \n",
    "    train_loader = m_train_loader, \n",
    "    test_loader = m_test_laoder, \n",
    "    device = device)\n",
    "\n",
    "all_acc_dict[\"l2 reg\"] = validate(model, m_train_loader, m_test_laoder, device)\n",
    "torch.save(model.state_dict(), './results/' + f'{current_time}_NetWidth(l2 reg).pt')"
   ]
  },
  {
   "cell_type": "code",
   "execution_count": 11,
   "id": "a1afd3ef-a36c-45b7-b4d3-9ffcae0af3c4",
   "metadata": {
    "scrolled": true
   },
   "outputs": [
    {
     "name": "stderr",
     "output_type": "stream",
     "text": [
      "100%|██████████| 234/234 [00:04<00:00, 53.90it/s]\n"
     ]
    },
    {
     "name": "stdout",
     "output_type": "stream",
     "text": [
      "0 2.235846331191165 0.23818108974358973 0.5561898946762085\n"
     ]
    },
    {
     "name": "stderr",
     "output_type": "stream",
     "text": [
      "100%|██████████| 234/234 [00:04<00:00, 54.37it/s]\n"
     ]
    },
    {
     "name": "stdout",
     "output_type": "stream",
     "text": [
      "1 1.7345726791881184 0.5919304220085471 0.7051281929016113\n"
     ]
    },
    {
     "name": "stderr",
     "output_type": "stream",
     "text": [
      "100%|██████████| 234/234 [00:04<00:00, 56.72it/s]\n"
     ]
    },
    {
     "name": "stdout",
     "output_type": "stream",
     "text": [
      "2 1.1698789046557676 0.7302350427350427 0.7914663553237915\n"
     ]
    },
    {
     "name": "stderr",
     "output_type": "stream",
     "text": [
      "100%|██████████| 234/234 [00:04<00:00, 54.17it/s]\n"
     ]
    },
    {
     "name": "stdout",
     "output_type": "stream",
     "text": [
      "3 0.8637586885767433 0.8009147970085471 0.8390424847602844\n"
     ]
    },
    {
     "name": "stderr",
     "output_type": "stream",
     "text": [
      "100%|██████████| 234/234 [00:04<00:00, 54.49it/s]\n"
     ]
    },
    {
     "name": "stdout",
     "output_type": "stream",
     "text": [
      "4 0.6932342382459682 0.835670405982906 0.8633814454078674\n"
     ]
    },
    {
     "name": "stderr",
     "output_type": "stream",
     "text": [
      "100%|██████████| 234/234 [00:04<00:00, 54.80it/s]\n"
     ]
    },
    {
     "name": "stdout",
     "output_type": "stream",
     "text": [
      "5 0.5887557608375222 0.8564035790598291 0.8788061141967773\n"
     ]
    },
    {
     "name": "stderr",
     "output_type": "stream",
     "text": [
      "100%|██████████| 234/234 [00:04<00:00, 55.32it/s]\n"
     ]
    },
    {
     "name": "stdout",
     "output_type": "stream",
     "text": [
      "6 0.5214901901621676 0.8694744925213675 0.8854166865348816\n"
     ]
    },
    {
     "name": "stderr",
     "output_type": "stream",
     "text": [
      "100%|██████████| 234/234 [00:04<00:00, 56.09it/s]\n"
     ]
    },
    {
     "name": "stdout",
     "output_type": "stream",
     "text": [
      "7 0.47486540137954025 0.8761351495726496 0.8912259936332703\n"
     ]
    },
    {
     "name": "stderr",
     "output_type": "stream",
     "text": [
      "100%|██████████| 234/234 [00:04<00:00, 54.97it/s]\n"
     ]
    },
    {
     "name": "stdout",
     "output_type": "stream",
     "text": [
      "8 0.43928153154164423 0.8835803952991453 0.8976362347602844\n"
     ]
    },
    {
     "name": "stderr",
     "output_type": "stream",
     "text": [
      "100%|██████████| 234/234 [00:04<00:00, 54.66it/s]\n"
     ]
    },
    {
     "name": "stdout",
     "output_type": "stream",
     "text": [
      "9 0.411029663848263 0.8904580662393162 0.9019431471824646\n",
      "-----------training finished-----------\n",
      "train_losses:  [2.235846331191165, 1.7345726791881184, 1.1698789046557676, 0.8637586885767433, 0.6932342382459682, 0.5887557608375222, 0.5214901901621676, 0.47486540137954025, 0.43928153154164423, 0.411029663848263]\n",
      "train_acc:  [0.23818108974358973, 0.5919304220085471, 0.7302350427350427, 0.8009147970085471, 0.835670405982906, 0.8564035790598291, 0.8694744925213675, 0.8761351495726496, 0.8835803952991453, 0.8904580662393162]\n",
      "val_acc:  [0.5561898946762085, 0.7051281929016113, 0.7914663553237915, 0.8390424847602844, 0.8633814454078674, 0.8788061141967773, 0.8854166865348816, 0.8912259936332703, 0.8976362347602844, 0.9019431471824646]\n",
      "Accuracy train: 0.90\n",
      "Accuracy val: 0.90\n"
     ]
    }
   ],
   "source": [
    "model = NetDropout(height=28, width=28, n_chans1=32).to(device)\n",
    "loss_fn = nn.CrossEntropyLoss()\n",
    "optimizer = optim.SGD(model.parameters(), lr=1e-2)\n",
    "\n",
    "training_loop(\n",
    "    n_epochs = 10, \n",
    "    optimizer = optimizer,\n",
    "    model = model,\n",
    "    loss_fn = loss_fn, \n",
    "    train_loader = m_train_loader, \n",
    "    test_loader = m_test_laoder, \n",
    "    device = device)\n",
    "\n",
    "all_acc_dict[\"dropout\"] = validate(model, m_train_loader, m_test_laoder, device)\n",
    "torch.save(model.state_dict(), './results/' + f'{current_time}_NetDropout.pt')"
   ]
  },
  {
   "cell_type": "code",
   "execution_count": 12,
   "id": "8d0d874d-f412-4c65-88d1-192cf257336a",
   "metadata": {
    "scrolled": true
   },
   "outputs": [
    {
     "name": "stderr",
     "output_type": "stream",
     "text": [
      "100%|██████████| 234/234 [00:04<00:00, 54.55it/s]\n"
     ]
    },
    {
     "name": "stdout",
     "output_type": "stream",
     "text": [
      "0 1.553497142034539 0.6835603632478633 0.828125\n"
     ]
    },
    {
     "name": "stderr",
     "output_type": "stream",
     "text": [
      "100%|██████████| 234/234 [00:04<00:00, 54.26it/s]\n"
     ]
    },
    {
     "name": "stdout",
     "output_type": "stream",
     "text": [
      "1 0.8415276513079205 0.8502270299145299 0.8884214758872986\n"
     ]
    },
    {
     "name": "stderr",
     "output_type": "stream",
     "text": [
      "100%|██████████| 234/234 [00:04<00:00, 52.32it/s]\n"
     ]
    },
    {
     "name": "stdout",
     "output_type": "stream",
     "text": [
      "2 0.5546359766450563 0.8971354166666666 0.9192708730697632\n"
     ]
    },
    {
     "name": "stderr",
     "output_type": "stream",
     "text": [
      "100%|██████████| 234/234 [00:04<00:00, 53.12it/s]\n"
     ]
    },
    {
     "name": "stdout",
     "output_type": "stream",
     "text": [
      "3 0.4008929598996568 0.9231770833333334 0.9345953464508057\n"
     ]
    },
    {
     "name": "stderr",
     "output_type": "stream",
     "text": [
      "100%|██████████| 234/234 [00:04<00:00, 54.38it/s]\n"
     ]
    },
    {
     "name": "stdout",
     "output_type": "stream",
     "text": [
      "4 0.31288469470877506 0.937767094017094 0.9461137652397156\n"
     ]
    },
    {
     "name": "stderr",
     "output_type": "stream",
     "text": [
      "100%|██████████| 234/234 [00:04<00:00, 54.43it/s]\n"
     ]
    },
    {
     "name": "stdout",
     "output_type": "stream",
     "text": [
      "5 0.2578702565810199 0.9471487713675214 0.9547275900840759\n"
     ]
    },
    {
     "name": "stderr",
     "output_type": "stream",
     "text": [
      "100%|██████████| 234/234 [00:04<00:00, 54.31it/s]\n"
     ]
    },
    {
     "name": "stdout",
     "output_type": "stream",
     "text": [
      "6 0.22010200576209205 0.954276842948718 0.958834171295166\n"
     ]
    },
    {
     "name": "stderr",
     "output_type": "stream",
     "text": [
      "100%|██████████| 234/234 [00:04<00:00, 53.26it/s]\n"
     ]
    },
    {
     "name": "stdout",
     "output_type": "stream",
     "text": [
      "7 0.19283434652719375 0.959518563034188 0.9638421535491943\n"
     ]
    },
    {
     "name": "stderr",
     "output_type": "stream",
     "text": [
      "100%|██████████| 234/234 [00:04<00:00, 53.77it/s]\n"
     ]
    },
    {
     "name": "stdout",
     "output_type": "stream",
     "text": [
      "8 0.17179391325287552 0.9633747329059829 0.9665464758872986\n"
     ]
    },
    {
     "name": "stderr",
     "output_type": "stream",
     "text": [
      "100%|██████████| 234/234 [00:04<00:00, 53.60it/s]\n"
     ]
    },
    {
     "name": "stdout",
     "output_type": "stream",
     "text": [
      "9 0.1556627163943303 0.9658286591880342 0.9693509936332703\n",
      "-----------training finished-----------\n",
      "train_losses:  [1.553497142034539, 0.8415276513079205, 0.5546359766450563, 0.4008929598996568, 0.31288469470877506, 0.2578702565810199, 0.22010200576209205, 0.19283434652719375, 0.17179391325287552, 0.1556627163943303]\n",
      "train_acc:  [0.6835603632478633, 0.8502270299145299, 0.8971354166666666, 0.9231770833333334, 0.937767094017094, 0.9471487713675214, 0.954276842948718, 0.959518563034188, 0.9633747329059829, 0.9658286591880342]\n",
      "val_acc:  [0.828125, 0.8884214758872986, 0.9192708730697632, 0.9345953464508057, 0.9461137652397156, 0.9547275900840759, 0.958834171295166, 0.9638421535491943, 0.9665464758872986, 0.9693509936332703]\n",
      "Accuracy train: 0.97\n",
      "Accuracy val: 0.97\n"
     ]
    }
   ],
   "source": [
    "model = NetBatchNorm(height=28, width=28, n_chans1=32).to(device)\n",
    "loss_fn = nn.CrossEntropyLoss()\n",
    "optimizer = optim.SGD(model.parameters(), lr=1e-2)\n",
    "\n",
    "training_loop(\n",
    "    n_epochs = 10, \n",
    "    optimizer = optimizer,\n",
    "    model = model,\n",
    "    loss_fn = loss_fn, \n",
    "    train_loader = m_train_loader, \n",
    "    test_loader = m_test_laoder, \n",
    "    device = device)\n",
    "\n",
    "all_acc_dict[\"NetBatchNorm\"] = validate(model, m_train_loader, m_test_laoder, device)\n",
    "torch.save(model.state_dict(), './results/' + f'{current_time}_NetBatchNorm.pt')"
   ]
  },
  {
   "cell_type": "code",
   "execution_count": 13,
   "id": "06bc0a25-1536-4655-b473-7c0c99944044",
   "metadata": {},
   "outputs": [
    {
     "name": "stderr",
     "output_type": "stream",
     "text": [
      "100%|██████████| 234/234 [00:04<00:00, 54.05it/s]\n"
     ]
    },
    {
     "name": "stdout",
     "output_type": "stream",
     "text": [
      "0 2.316341629355762 0.12281316773504274 0.15014022588729858\n"
     ]
    },
    {
     "name": "stderr",
     "output_type": "stream",
     "text": [
      "100%|██████████| 234/234 [00:04<00:00, 54.26it/s]\n"
     ]
    },
    {
     "name": "stdout",
     "output_type": "stream",
     "text": [
      "1 2.308049464942048 0.11024305555555555 0.10236378014087677\n"
     ]
    },
    {
     "name": "stderr",
     "output_type": "stream",
     "text": [
      "100%|██████████| 234/234 [00:04<00:00, 54.13it/s]\n"
     ]
    },
    {
     "name": "stdout",
     "output_type": "stream",
     "text": [
      "2 2.296363454008307 0.10381610576923077 0.10797275602817535\n"
     ]
    },
    {
     "name": "stderr",
     "output_type": "stream",
     "text": [
      "100%|██████████| 234/234 [00:04<00:00, 53.77it/s]\n"
     ]
    },
    {
     "name": "stdout",
     "output_type": "stream",
     "text": [
      "3 2.2661823919402684 0.18821781517094016 0.30568909645080566\n"
     ]
    },
    {
     "name": "stderr",
     "output_type": "stream",
     "text": [
      "100%|██████████| 234/234 [00:04<00:00, 53.70it/s]\n"
     ]
    },
    {
     "name": "stdout",
     "output_type": "stream",
     "text": [
      "4 2.041921207833188 0.4271000267094017 0.6113781929016113\n"
     ]
    },
    {
     "name": "stderr",
     "output_type": "stream",
     "text": [
      "100%|██████████| 234/234 [00:04<00:00, 54.11it/s]\n"
     ]
    },
    {
     "name": "stdout",
     "output_type": "stream",
     "text": [
      "5 0.9480666684490416 0.7235076121794872 0.7953726053237915\n"
     ]
    },
    {
     "name": "stderr",
     "output_type": "stream",
     "text": [
      "100%|██████████| 234/234 [00:04<00:00, 54.62it/s]\n"
     ]
    },
    {
     "name": "stdout",
     "output_type": "stream",
     "text": [
      "6 0.5801091822176021 0.8127504006410257 0.8130007982254028\n"
     ]
    },
    {
     "name": "stderr",
     "output_type": "stream",
     "text": [
      "100%|██████████| 234/234 [00:04<00:00, 53.53it/s]\n"
     ]
    },
    {
     "name": "stdout",
     "output_type": "stream",
     "text": [
      "7 0.43965112817645585 0.8624298878205128 0.8739984035491943\n"
     ]
    },
    {
     "name": "stderr",
     "output_type": "stream",
     "text": [
      "100%|██████████| 234/234 [00:04<00:00, 54.52it/s]\n"
     ]
    },
    {
     "name": "stdout",
     "output_type": "stream",
     "text": [
      "8 0.35380235160880846 0.8902243589743589 0.9117588400840759\n"
     ]
    },
    {
     "name": "stderr",
     "output_type": "stream",
     "text": [
      "100%|██████████| 234/234 [00:04<00:00, 54.00it/s]\n"
     ]
    },
    {
     "name": "stdout",
     "output_type": "stream",
     "text": [
      "9 0.29764934446934466 0.9074352297008547 0.9152644276618958\n",
      "-----------training finished-----------\n",
      "train_losses:  [2.316341629355762, 2.308049464942048, 2.296363454008307, 2.2661823919402684, 2.041921207833188, 0.9480666684490416, 0.5801091822176021, 0.43965112817645585, 0.35380235160880846, 0.29764934446934466]\n",
      "train_acc:  [0.12281316773504274, 0.11024305555555555, 0.10381610576923077, 0.18821781517094016, 0.4271000267094017, 0.7235076121794872, 0.8127504006410257, 0.8624298878205128, 0.8902243589743589, 0.9074352297008547]\n",
      "val_acc:  [0.15014022588729858, 0.10236378014087677, 0.10797275602817535, 0.30568909645080566, 0.6113781929016113, 0.7953726053237915, 0.8130007982254028, 0.8739984035491943, 0.9117588400840759, 0.9152644276618958]\n",
      "Accuracy train: 0.91\n",
      "Accuracy val: 0.92\n"
     ]
    }
   ],
   "source": [
    "model = NetDepth(height=28, width=28, n_chans1=32).to(device)\n",
    "loss_fn = nn.CrossEntropyLoss()\n",
    "optimizer = optim.SGD(model.parameters(), lr=1e-2)\n",
    "\n",
    "training_loop(\n",
    "    n_epochs = 10, \n",
    "    optimizer = optimizer,\n",
    "    model = model,\n",
    "    loss_fn = loss_fn, \n",
    "    train_loader = m_train_loader, \n",
    "    test_loader = m_test_laoder, \n",
    "    device = device)\n",
    "\n",
    "all_acc_dict[\"NetDepth\"] = validate(model, m_train_loader, m_test_laoder, device)\n",
    "torch.save(model.state_dict(), './results/' + f'{current_time}_NetDepth.pt')"
   ]
  },
  {
   "cell_type": "code",
   "execution_count": 14,
   "id": "c50945c8-3a01-402f-9340-842ccdfa33e2",
   "metadata": {},
   "outputs": [
    {
     "data": {
      "image/png": "[encoded data removed]",
      "text/plain": [
       "<Figure size 432x288 with 1 Axes>"
      ]
     },
     "metadata": {
      "needs_background": "light"
     },
     "output_type": "display_data"
    }
   ],
   "source": [
    "from utils.load_utils import compare_validations\n",
    "compare_validations(current_time, all_acc_dict)"
   ]
  },
  {
   "cell_type": "code",
   "execution_count": null,
   "id": "216984c5-6184-4d43-b413-7a9f0a2cbe3c",
   "metadata": {},
   "outputs": [],
   "source": []
  },
  {
   "cell_type": "code",
   "execution_count": null,
   "id": "40a772bb-8eab-4043-9d24-61a134426305",
   "metadata": {},
   "outputs": [],
   "source": []
  }
 ],
 "metadata": {
  "kernelspec": {
   "display_name": "Python 3 (ipykernel)",
   "language": "python",
   "name": "python3"
  },
  "language_info": {
   "codemirror_mode": {
    "name": "ipython",
    "version": 3
   },
   "file_extension": ".py",
   "mimetype": "text/x-python",
   "name": "python",
   "nbconvert_exporter": "python",
   "pygments_lexer": "ipython3",
   "version": "3.7.9"
  }
 },
 "nbformat": 4,
 "nbformat_minor": 5
}
