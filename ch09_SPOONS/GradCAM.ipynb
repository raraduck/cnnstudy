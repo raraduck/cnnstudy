{
 "cells": [
  {
   "cell_type": "code",
   "execution_count": 3,
   "id": "872ae3b8-578b-4f95-8a6e-d2bdc4fd855e",
   "metadata": {
    "tags": []
   },
   "outputs": [],
   "source": [
    "import torch\n",
    "import torch.nn as nn, optim\n",
    "import numpy as np\n",
    "import cv2 # pip install opencv-python\n",
    "import torch.nn.functional as F"
   ]
  },
  {
   "cell_type": "code",
   "execution_count": null,
   "id": "e6f05b04-815f-4727-acca-a45edeabf6d2",
   "metadata": {},
   "outputs": [],
   "source": [
    "class GradCAM(nn.Module):\n",
    "    def __init__(self, net, cls) -> None:\n",
    "        super().__init__()\n",
    "        self.net = net\n",
    "        self.net.zero_grad()\n",
    "        self.cls = cls\n",
    "        self.act = {}\n",
    "        self.grad = {}\n",
    "    def backward_hook(self, net, inp, out):\n",
    "        self.grad['grad'] = out\n",
    "        return \n",
    "    def forward_hook(self, net, inp, out):\n",
    "        self.act['act'] = out\n",
    "        return \n",
    "    def get_gradcam(self, img, layer, org_shape):\n",
    "        layer.register_forward_hook(self.forward_hook)\n",
    "        layer.register_backward_hook(self.backward_hook)\n",
    "        self.net.train() # net.eval() <- grad 비활성\n",
    "        pred = self.net(img)\n",
    "        score = pred[:, self.cls].squeeze()\n",
    "        score.backward()\n",
    "        grad = self.grad['grad']\n",
    "        acti = self.act['act']\n",
    "        b, c, u, v = grad.size()\n",
    "        alpha = grad.view(b,c,-1).mean(2)\n",
    "        alpha = alpha.view(b,c,1,1)\n",
    "        cam = F.relu((alpha * acti).sum(1, keepdim=True)).detach().numpy().squeeze()\n",
    "        cam = cv2.resize(cam, org_shape, cv2.INTER_LINEAR)\n",
    "        return cam"
   ]
  }
 ],
 "metadata": {
  "kernelspec": {
   "display_name": "Python 3 (ipykernel)",
   "language": "python",
   "name": "python3"
  },
  "language_info": {
   "codemirror_mode": {
    "name": "ipython",
    "version": 3
   },
   "file_extension": ".py",
   "mimetype": "text/x-python",
   "name": "python",
   "nbconvert_exporter": "python",
   "pygments_lexer": "ipython3",
   "version": "3.7.2"
  }
 },
 "nbformat": 4,
 "nbformat_minor": 5
}
