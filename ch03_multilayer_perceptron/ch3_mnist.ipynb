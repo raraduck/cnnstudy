{
 "cells": [
  {
   "cell_type": "code",
   "execution_count": 1,
   "id": "4030e8ca-776e-41b5-9268-f0f3601fa925",
   "metadata": {},
   "outputs": [],
   "source": [
    "import torch\n",
    "from sklearn.datasets import load_digits\n",
    "digits = load_digits()\n",
    "\n",
    "X = digits.data\n",
    "Y = digits.target\n",
    "\n",
    "X = torch.FloatTensor(X)\n",
    "Y = torch.LongTensor(Y)\n"
   ]
  },
  {
   "cell_type": "raw",
   "id": "056c679b-b799-4d35-a78e-b347775506a8",
   "metadata": {},
   "source": [
    "from data.load_data import load_data_mnist\n",
    "X, Y = load_data_mnist()\n",
    "print(X.dtype, Y.dtype)\n",
    "print(X.shape, Y.shape)"
   ]
  },
  {
   "cell_type": "code",
   "execution_count": 2,
   "id": "834bc63e-150a-49c5-a180-66ebd3bfabdd",
   "metadata": {},
   "outputs": [
    {
     "name": "stdout",
     "output_type": "stream",
     "text": [
      "MyMLP(\n",
      "  (ln1): Linear(in_features=64, out_features=32, bias=True)\n",
      "  (relu1): ReLU()\n",
      "  (ln2): Linear(in_features=32, out_features=16, bias=True)\n",
      "  (relu2): ReLU()\n",
      "  (ln3): Linear(in_features=16, out_features=10, bias=True)\n",
      ")\n"
     ]
    }
   ],
   "source": [
    "from models.load_models import MyMLP\n",
    "net = MyMLP(X.size()[1], 10)\n",
    "print(net)"
   ]
  },
  {
   "cell_type": "code",
   "execution_count": 3,
   "id": "c2d74e73-dd80-4fbc-924d-0fdaa5d6efcb",
   "metadata": {},
   "outputs": [
    {
     "data": {
      "text/plain": [
       "MyMLP(\n",
       "  (ln1): Linear(in_features=64, out_features=32, bias=True)\n",
       "  (relu1): ReLU()\n",
       "  (ln2): Linear(in_features=32, out_features=16, bias=True)\n",
       "  (relu2): ReLU()\n",
       "  (ln3): Linear(in_features=16, out_features=10, bias=True)\n",
       ")"
      ]
     },
     "execution_count": 3,
     "metadata": {},
     "output_type": "execute_result"
    }
   ],
   "source": [
    "X = X.to(\"cuda:0\")\n",
    "Y = Y.to(\"cuda:0\")\n",
    "net.to(\"cuda:0\")"
   ]
  },
  {
   "cell_type": "code",
   "execution_count": 4,
   "id": "b3b21f7e-4040-4156-acb1-25b61f9575ec",
   "metadata": {},
   "outputs": [],
   "source": [
    "from torch import nn, optim\n",
    "loss_fn = nn.CrossEntropyLoss()\n",
    "optimizer = optim.Adam(net.parameters())"
   ]
  },
  {
   "cell_type": "raw",
   "id": "6b7fda0d-5674-4ab5-8933-8708276ffaf8",
   "metadata": {},
   "source": [
    "from train.run_train import training_loop\n",
    "training_loop(\n",
    "    n_epochs = 100,\n",
    "    optimizer = optimizer,\n",
    "    model = net,\n",
    "    loss_fn = loss_fn,\n",
    "    x_train = X,\n",
    "    y_train = Y,\n",
    ")"
   ]
  },
  {
   "cell_type": "code",
   "execution_count": 5,
   "id": "69a9478b-2fc3-41bf-8582-c1f0ac6c1909",
   "metadata": {},
   "outputs": [],
   "source": [
    "losses = []\n",
    "\n",
    "for epoc in range(1000):\n",
    "    optimizer.zero_grad()\n",
    "    y_pred = net(X)\n",
    "    loss = loss_fn(y_pred, Y)\n",
    "    loss.backward()\n",
    "    optimizer.step()\n",
    "    losses.append(loss.item())\n"
   ]
  },
  {
   "cell_type": "code",
   "execution_count": 6,
   "id": "44297089-7056-48a3-a1ba-bea119c04fda",
   "metadata": {},
   "outputs": [
    {
     "name": "stdout",
     "output_type": "stream",
     "text": [
      "torch.Size([1797, 64])\n",
      "tensor([[ 0.,  0.,  5., 13.,  9.,  1.,  0.,  0.,  0.,  0., 13., 15., 10., 15.,\n",
      "          5.,  0.,  0.,  3., 15.,  2.,  0., 11.,  8.,  0.,  0.,  4., 12.,  0.,\n",
      "          0.,  8.,  8.,  0.,  0.,  5.,  8.,  0.,  0.,  9.,  8.,  0.,  0.,  4.,\n",
      "         11.,  0.,  1., 12.,  7.,  0.,  0.,  2., 14.,  5., 10., 12.,  0.,  0.,\n",
      "          0.,  0.,  6., 13., 10.,  0.,  0.,  0.],\n",
      "        [ 0.,  0.,  0., 12., 13.,  5.,  0.,  0.,  0.,  0.,  0., 11., 16.,  9.,\n",
      "          0.,  0.,  0.,  0.,  3., 15., 16.,  6.,  0.,  0.,  0.,  7., 15., 16.,\n",
      "         16.,  2.,  0.,  0.,  0.,  0.,  1., 16., 16.,  3.,  0.,  0.,  0.,  0.,\n",
      "          1., 16., 16.,  6.,  0.,  0.,  0.,  0.,  1., 16., 16.,  6.,  0.,  0.,\n",
      "          0.,  0.,  0., 11., 16., 10.,  0.,  0.],\n",
      "        [ 0.,  0.,  0.,  4., 15., 12.,  0.,  0.,  0.,  0.,  3., 16., 15., 14.,\n",
      "          0.,  0.,  0.,  0.,  8., 13.,  8., 16.,  0.,  0.,  0.,  0.,  1.,  6.,\n",
      "         15., 11.,  0.,  0.,  0.,  1.,  8., 13., 15.,  1.,  0.,  0.,  0.,  9.,\n",
      "         16., 16.,  5.,  0.,  0.,  0.,  0.,  3., 13., 16., 16., 11.,  5.,  0.,\n",
      "          0.,  0.,  0.,  3., 11., 16.,  9.,  0.],\n",
      "        [ 0.,  0.,  7., 15., 13.,  1.,  0.,  0.,  0.,  8., 13.,  6., 15.,  4.,\n",
      "          0.,  0.,  0.,  2.,  1., 13., 13.,  0.,  0.,  0.,  0.,  0.,  2., 15.,\n",
      "         11.,  1.,  0.,  0.,  0.,  0.,  0.,  1., 12., 12.,  1.,  0.,  0.,  0.,\n",
      "          0.,  0.,  1., 10.,  8.,  0.,  0.,  0.,  8.,  4.,  5., 14.,  9.,  0.,\n",
      "          0.,  0.,  7., 13., 13.,  9.,  0.,  0.],\n",
      "        [ 0.,  0.,  0.,  1., 11.,  0.,  0.,  0.,  0.,  0.,  0.,  7.,  8.,  0.,\n",
      "          0.,  0.,  0.,  0.,  1., 13.,  6.,  2.,  2.,  0.,  0.,  0.,  7., 15.,\n",
      "          0.,  9.,  8.,  0.,  0.,  5., 16., 10.,  0., 16.,  6.,  0.,  0.,  4.,\n",
      "         15., 16., 13., 16.,  1.,  0.,  0.,  0.,  0.,  3., 15., 10.,  0.,  0.,\n",
      "          0.,  0.,  0.,  2., 16.,  4.,  0.,  0.]], device='cuda:0')\n"
     ]
    }
   ],
   "source": [
    "print(X.shape)\n",
    "print(X[0:5,:])"
   ]
  },
  {
   "cell_type": "code",
   "execution_count": 19,
   "id": "652743b9-bcbf-4372-987c-34f79ba18763",
   "metadata": {},
   "outputs": [
    {
     "data": {
      "text/plain": [
       "[<matplotlib.lines.Line2D at 0x243473faec0>]"
      ]
     },
     "execution_count": 19,
     "metadata": {},
     "output_type": "execute_result"
    },
    {
     "data": {
      "image/png": "[encoded data removed]",
      "text/plain": [
       "<Figure size 640x480 with 1 Axes>"
      ]
     },
     "metadata": {},
     "output_type": "display_data"
    }
   ],
   "source": [
    "import matplotlib.pyplot as plt\n",
    "plt.plot(losses)"
   ]
  },
  {
   "cell_type": "code",
   "execution_count": null,
   "id": "4a90a55b-c696-4eae-965b-87767543b36f",
   "metadata": {},
   "outputs": [],
   "source": []
  }
 ],
 "metadata": {
  "kernelspec": {
   "display_name": "Python 3 (ipykernel)",
   "language": "python",
   "name": "python3"
  },
  "language_info": {
   "codemirror_mode": {
    "name": "ipython",
    "version": 3
   },
   "file_extension": ".py",
   "mimetype": "text/x-python",
   "name": "python",
   "nbconvert_exporter": "python",
   "pygments_lexer": "ipython3",
   "version": "3.7.9"
  }
 },
 "nbformat": 4,
 "nbformat_minor": 5
}
