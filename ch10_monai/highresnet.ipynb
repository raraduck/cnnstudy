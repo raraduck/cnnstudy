{
 "cells": [
  {
   "cell_type": "code",
   "execution_count": 45,
   "id": "34f1b0a3-6a8b-4e00-96b1-8b69a0a85ead",
   "metadata": {},
   "outputs": [
    {
     "name": "stdout",
     "output_type": "stream",
     "text": [
      "Requirement already satisfied: ipykernel in /home2/dwnusa/workspace/cnnstudy/venv/lib/python3.6/site-packages (5.5.6)\n",
      "Requirement already satisfied: ipython-genutils in /home2/dwnusa/workspace/cnnstudy/venv/lib/python3.6/site-packages (from ipykernel) (0.2.0)\n",
      "Requirement already satisfied: jupyter-client in /home2/dwnusa/workspace/cnnstudy/venv/lib/python3.6/site-packages (from ipykernel) (7.1.2)\n",
      "Requirement already satisfied: tornado>=4.2 in /home2/dwnusa/workspace/cnnstudy/venv/lib/python3.6/site-packages (from ipykernel) (6.1)\n",
      "Requirement already satisfied: ipython>=5.0.0 in /home2/dwnusa/workspace/cnnstudy/venv/lib/python3.6/site-packages (from ipykernel) (7.16.3)\n",
      "Requirement already satisfied: traitlets>=4.1.0 in /home2/dwnusa/workspace/cnnstudy/venv/lib/python3.6/site-packages (from ipykernel) (4.3.3)\n",
      "Requirement already satisfied: pickleshare in /home2/dwnusa/workspace/cnnstudy/venv/lib/python3.6/site-packages (from ipython>=5.0.0->ipykernel) (0.7.5)\n",
      "Requirement already satisfied: decorator in /home2/dwnusa/workspace/cnnstudy/venv/lib/python3.6/site-packages (from ipython>=5.0.0->ipykernel) (4.4.2)\n",
      "Requirement already satisfied: setuptools>=18.5 in /home2/dwnusa/workspace/cnnstudy/venv/lib/python3.6/site-packages (from ipython>=5.0.0->ipykernel) (39.0.1)\n",
      "Requirement already satisfied: backcall in /home2/dwnusa/workspace/cnnstudy/venv/lib/python3.6/site-packages (from ipython>=5.0.0->ipykernel) (0.2.0)\n",
      "Requirement already satisfied: pygments in /home2/dwnusa/workspace/cnnstudy/venv/lib/python3.6/site-packages (from ipython>=5.0.0->ipykernel) (2.14.0)\n",
      "Requirement already satisfied: jedi<=0.17.2,>=0.10 in /home2/dwnusa/workspace/cnnstudy/venv/lib/python3.6/site-packages (from ipython>=5.0.0->ipykernel) (0.17.2)\n",
      "Requirement already satisfied: pexpect in /home2/dwnusa/workspace/cnnstudy/venv/lib/python3.6/site-packages (from ipython>=5.0.0->ipykernel) (4.8.0)\n",
      "Requirement already satisfied: prompt-toolkit!=3.0.0,!=3.0.1,<3.1.0,>=2.0.0 in /home2/dwnusa/workspace/cnnstudy/venv/lib/python3.6/site-packages (from ipython>=5.0.0->ipykernel) (3.0.36)\n",
      "Requirement already satisfied: six in /home2/dwnusa/workspace/cnnstudy/venv/lib/python3.6/site-packages (from traitlets>=4.1.0->ipykernel) (1.16.0)\n",
      "Requirement already satisfied: python-dateutil>=2.1 in /home2/dwnusa/workspace/cnnstudy/venv/lib/python3.6/site-packages (from jupyter-client->ipykernel) (2.8.2)\n",
      "Requirement already satisfied: entrypoints in /home2/dwnusa/workspace/cnnstudy/venv/lib/python3.6/site-packages (from jupyter-client->ipykernel) (0.4)\n",
      "Requirement already satisfied: pyzmq>=13 in /home2/dwnusa/workspace/cnnstudy/venv/lib/python3.6/site-packages (from jupyter-client->ipykernel) (25.1.1)\n",
      "Requirement already satisfied: jupyter-core>=4.6.0 in /home2/dwnusa/workspace/cnnstudy/venv/lib/python3.6/site-packages (from jupyter-client->ipykernel) (4.9.2)\n",
      "Requirement already satisfied: nest-asyncio>=1.5 in /home2/dwnusa/workspace/cnnstudy/venv/lib/python3.6/site-packages (from jupyter-client->ipykernel) (1.5.7)\n",
      "Requirement already satisfied: parso<0.8.0,>=0.7.0 in /home2/dwnusa/workspace/cnnstudy/venv/lib/python3.6/site-packages (from jedi<=0.17.2,>=0.10->ipython>=5.0.0->ipykernel) (0.7.1)\n",
      "Requirement already satisfied: wcwidth in /home2/dwnusa/workspace/cnnstudy/venv/lib/python3.6/site-packages (from prompt-toolkit!=3.0.0,!=3.0.1,<3.1.0,>=2.0.0->ipython>=5.0.0->ipykernel) (0.2.6)\n",
      "Requirement already satisfied: ptyprocess>=0.5 in /home2/dwnusa/workspace/cnnstudy/venv/lib/python3.6/site-packages (from pexpect->ipython>=5.0.0->ipykernel) (0.7.0)\n"
     ]
    }
   ],
   "source": [
    "!pip install ipykernel --pre"
   ]
  },
  {
   "cell_type": "code",
   "execution_count": 14,
   "id": "f1ef92b4-bb0b-4739-b0e4-54c45655ea4a",
   "metadata": {},
   "outputs": [
    {
     "name": "stdout",
     "output_type": "stream",
     "text": [
      "/home2/dwnusa/workspace/cnnstudy/ch10_monai/downloaded_data/data.tar.gz\n"
     ]
    }
   ],
   "source": [
    "import tarfile\n",
    "import tempfile\n",
    "import urllib.request\n",
    "from pathlib import Path\n",
    "from configparser import ConfigParser\n",
    "import os\n",
    "\n",
    "def get_data_url_from_model_zoo():\n",
    "    url = 'https://raw.githubusercontent.com/NifTK/NiftyNetModelZoo/5-reorganising-with-lfs/highres3dnet_brain_parcellation/main.ini'\n",
    "    with urllib.request.urlopen(url) as response:\n",
    "        config_string = response.read().decode()\n",
    "    config = ConfigParser()\n",
    "    config.read_string(config_string)\n",
    "    data_url = config['data']['url']\n",
    "    return data_url\n",
    "\n",
    "\n",
    "def download_data(data_url):\n",
    "    # tempdir = Path(tempfile.gettempdir())\n",
    "    tempdir = Path(os.getcwd())\n",
    "    download_dir = tempdir / 'downloaded_data'\n",
    "    download_dir.mkdir(exist_ok=True)\n",
    "    data_path = download_dir / Path(data_url).name\n",
    "    print(data_path)\n",
    "    if not data_path.is_file():\n",
    "        urllib.request.urlretrieve(data_url, data_path)\n",
    "    with tarfile.open(data_path, 'r') as tar:\n",
    "        tar.extractall(download_dir)\n",
    "    nifti_files = download_dir.glob('**/*.nii.gz')\n",
    "    return list(nifti_files)[0]\n",
    "\n",
    "\n",
    "def test_infer():\n",
    "    image_path = download_data(get_data_url_from_model_zoo())\n",
    "\n",
    "test_infer()"
   ]
  },
  {
   "cell_type": "code",
   "execution_count": 37,
   "id": "a723ad54-3f57-45c3-9a7d-afb8f3252248",
   "metadata": {},
   "outputs": [],
   "source": [
    "import nibabel as nib\n",
    "import torch\n",
    "import numpy as np\n",
    "import SimpleITK as sitk"
   ]
  },
  {
   "cell_type": "code",
   "execution_count": 38,
   "id": "3f0da670-9f98-43d4-be9a-a2d65919bc13",
   "metadata": {},
   "outputs": [
    {
     "name": "stderr",
     "output_type": "stream",
     "text": [
      "Using cache found in /home2/dwnusa/.cache/torch/hub/fepegar_highresnet_master\n"
     ]
    },
    {
     "name": "stdout",
     "output_type": "stream",
     "text": [
      "\n",
      "    HighRes3DNet by Li et al. 2017 for T1-MRI brain parcellation\n",
      "    pretrained (bool): load parameters from pretrained model\n",
      "    \n"
     ]
    },
    {
     "name": "stderr",
     "output_type": "stream",
     "text": [
      "Using cache found in /home2/dwnusa/.cache/torch/hub/fepegar_highresnet_master\n"
     ]
    }
   ],
   "source": [
    "repo = 'fepegar/highresnet'\n",
    "model_name = 'highres3dnet'\n",
    "print(torch.hub.help(repo, model_name))\n",
    "\"HighRes3DNet by Li et al. 2017 for T1-MRI brain parcellation\"\n",
    "\"pretrained (bool): load parameters from pretrained model\"\n",
    "model = torch.hub.load(repo, model_name, pretrained=True)"
   ]
  },
  {
   "cell_type": "code",
   "execution_count": 39,
   "id": "71ef3acd-7701-4da8-94eb-ab565b4d1176",
   "metadata": {},
   "outputs": [],
   "source": [
    "def check_header(nifti_image):\n",
    "    orientation = ''.join(nib.aff2axcodes(nifti_image.affine))\n",
    "    spacing = nifti_image.header.get_zooms()\n",
    "    one_iso = 1, 1, 1\n",
    "    is_ras = orientation == 'RAS'\n",
    "    if not is_ras:\n",
    "        print(f'Detected orientation: {orientation}. Reorienting to RAS...')\n",
    "    is_1_iso = np.allclose(spacing, one_iso)\n",
    "    if not is_1_iso:\n",
    "        print(f'Detected spacing: {spacing}. Resampling to 1 mm iso...')\n",
    "    needs_resampling = not is_ras or not is_1_iso\n",
    "    return needs_resampling\n",
    "\n",
    "def resample_ras_1mm_iso(nifti, interpolation=None):\n",
    "    if interpolation is None:\n",
    "        interpolation = sitk.sitkLinear\n",
    "    nii_ras = nib.as_closest_canonical(nifti)\n",
    "    spacing = nii_ras.header.get_zooms()\n",
    "    one_iso = 1, 1, 1\n",
    "    if np.allclose(spacing, one_iso):\n",
    "        return nii_ras\n",
    "    nii_resampled = resample_spacing(\n",
    "        nii_ras,\n",
    "        output_spacing=one_iso,\n",
    "        interpolation=interpolation,\n",
    "    )\n",
    "    return nii_resampled"
   ]
  },
  {
   "cell_type": "code",
   "execution_count": 41,
   "id": "6e67b4a4-316b-48da-b81e-d3abdeafd1c8",
   "metadata": {
    "tags": []
   },
   "outputs": [],
   "source": [
    "input_path1 = \"_data/gaain/AD01_MR.nii\"\n",
    "# nii1 = nib.load(str(input_path1))\n",
    "input_path2 = \"_data/OASIS/OAS1_MR.nii\"\n",
    "# nii2 = nib.load(str(input_path2))\n",
    "# print(nii1)\n",
    "# print(nii2)"
   ]
  },
  {
   "cell_type": "code",
   "execution_count": 44,
   "id": "4be09f18-e487-407b-a67f-97ddac836332",
   "metadata": {},
   "outputs": [
    {
     "name": "stdout",
     "output_type": "stream",
     "text": [
      "Detected orientation: ASL. Reorienting to RAS...\n",
      "True\n"
     ]
    }
   ],
   "source": [
    "input_path = input_path2\n",
    "nii = nib.load(str(input_path))\n",
    "needs_resampling = check_header(nii)\n",
    "print(needs_resampling)"
   ]
  },
  {
   "cell_type": "code",
   "execution_count": 35,
   "id": "411cee67-947c-46fc-8d8c-9d8faa4d0ce1",
   "metadata": {},
   "outputs": [
    {
     "name": "stdout",
     "output_type": "stream",
     "text": [
      "Detected orientation: LPS. Reorienting to RAS...\n"
     ]
    },
    {
     "ename": "ValueError",
     "evalue": "operands could not be broadcast together with shapes (4,) (3,) ",
     "output_type": "error",
     "traceback": [
      "\u001b[0;31m---------------------------------------------------------------------------\u001b[0m",
      "\u001b[0;31mValueError\u001b[0m                                Traceback (most recent call last)",
      "\u001b[0;32m<ipython-input-35-f59baaccfc7d>\u001b[0m in \u001b[0;36m<module>\u001b[0;34m\u001b[0m\n\u001b[1;32m      1\u001b[0m \u001b[0minput_path\u001b[0m \u001b[0;34m=\u001b[0m \u001b[0;34m\"_data/gaain/AD02_MR.nii\"\u001b[0m\u001b[0;34m\u001b[0m\u001b[0;34m\u001b[0m\u001b[0m\n\u001b[1;32m      2\u001b[0m \u001b[0mnii\u001b[0m \u001b[0;34m=\u001b[0m \u001b[0mnib\u001b[0m\u001b[0;34m.\u001b[0m\u001b[0mload\u001b[0m\u001b[0;34m(\u001b[0m\u001b[0mstr\u001b[0m\u001b[0;34m(\u001b[0m\u001b[0minput_path\u001b[0m\u001b[0;34m)\u001b[0m\u001b[0;34m)\u001b[0m\u001b[0;34m\u001b[0m\u001b[0;34m\u001b[0m\u001b[0m\n\u001b[0;32m----> 3\u001b[0;31m \u001b[0mneeds_resampling\u001b[0m \u001b[0;34m=\u001b[0m \u001b[0mcheck_header\u001b[0m\u001b[0;34m(\u001b[0m\u001b[0mnii\u001b[0m\u001b[0;34m)\u001b[0m\u001b[0;34m\u001b[0m\u001b[0;34m\u001b[0m\u001b[0m\n\u001b[0m\u001b[1;32m      4\u001b[0m \u001b[0;34m\u001b[0m\u001b[0m\n\u001b[1;32m      5\u001b[0m \u001b[0;32mif\u001b[0m \u001b[0mneeds_resampling\u001b[0m\u001b[0;34m:\u001b[0m\u001b[0;34m\u001b[0m\u001b[0;34m\u001b[0m\u001b[0m\n",
      "\u001b[0;32m<ipython-input-27-a97bb6da51e4>\u001b[0m in \u001b[0;36mcheck_header\u001b[0;34m(nifti_image)\u001b[0m\n\u001b[1;32m      6\u001b[0m     \u001b[0;32mif\u001b[0m \u001b[0;32mnot\u001b[0m \u001b[0mis_ras\u001b[0m\u001b[0;34m:\u001b[0m\u001b[0;34m\u001b[0m\u001b[0;34m\u001b[0m\u001b[0m\n\u001b[1;32m      7\u001b[0m         \u001b[0mprint\u001b[0m\u001b[0;34m(\u001b[0m\u001b[0;34mf'Detected orientation: {orientation}. Reorienting to RAS...'\u001b[0m\u001b[0;34m)\u001b[0m\u001b[0;34m\u001b[0m\u001b[0;34m\u001b[0m\u001b[0m\n\u001b[0;32m----> 8\u001b[0;31m     \u001b[0mis_1_iso\u001b[0m \u001b[0;34m=\u001b[0m \u001b[0mnp\u001b[0m\u001b[0;34m.\u001b[0m\u001b[0mallclose\u001b[0m\u001b[0;34m(\u001b[0m\u001b[0mspacing\u001b[0m\u001b[0;34m,\u001b[0m \u001b[0mone_iso\u001b[0m\u001b[0;34m)\u001b[0m\u001b[0;34m\u001b[0m\u001b[0;34m\u001b[0m\u001b[0m\n\u001b[0m\u001b[1;32m      9\u001b[0m     \u001b[0;32mif\u001b[0m \u001b[0;32mnot\u001b[0m \u001b[0mis_1_iso\u001b[0m\u001b[0;34m:\u001b[0m\u001b[0;34m\u001b[0m\u001b[0;34m\u001b[0m\u001b[0m\n\u001b[1;32m     10\u001b[0m         \u001b[0mprint\u001b[0m\u001b[0;34m(\u001b[0m\u001b[0;34mf'Detected spacing: {spacing}. Resampling to 1 mm iso...'\u001b[0m\u001b[0;34m)\u001b[0m\u001b[0;34m\u001b[0m\u001b[0;34m\u001b[0m\u001b[0m\n",
      "\u001b[0;32m<__array_function__ internals>\u001b[0m in \u001b[0;36mallclose\u001b[0;34m(*args, **kwargs)\u001b[0m\n",
      "\u001b[0;32m~/workspace/cnnstudy/venv/lib/python3.6/site-packages/numpy/core/numeric.py\u001b[0m in \u001b[0;36mallclose\u001b[0;34m(a, b, rtol, atol, equal_nan)\u001b[0m\n\u001b[1;32m   2187\u001b[0m \u001b[0;34m\u001b[0m\u001b[0m\n\u001b[1;32m   2188\u001b[0m     \"\"\"\n\u001b[0;32m-> 2189\u001b[0;31m     \u001b[0mres\u001b[0m \u001b[0;34m=\u001b[0m \u001b[0mall\u001b[0m\u001b[0;34m(\u001b[0m\u001b[0misclose\u001b[0m\u001b[0;34m(\u001b[0m\u001b[0ma\u001b[0m\u001b[0;34m,\u001b[0m \u001b[0mb\u001b[0m\u001b[0;34m,\u001b[0m \u001b[0mrtol\u001b[0m\u001b[0;34m=\u001b[0m\u001b[0mrtol\u001b[0m\u001b[0;34m,\u001b[0m \u001b[0matol\u001b[0m\u001b[0;34m=\u001b[0m\u001b[0matol\u001b[0m\u001b[0;34m,\u001b[0m \u001b[0mequal_nan\u001b[0m\u001b[0;34m=\u001b[0m\u001b[0mequal_nan\u001b[0m\u001b[0;34m)\u001b[0m\u001b[0;34m)\u001b[0m\u001b[0;34m\u001b[0m\u001b[0;34m\u001b[0m\u001b[0m\n\u001b[0m\u001b[1;32m   2190\u001b[0m     \u001b[0;32mreturn\u001b[0m \u001b[0mbool\u001b[0m\u001b[0;34m(\u001b[0m\u001b[0mres\u001b[0m\u001b[0;34m)\u001b[0m\u001b[0;34m\u001b[0m\u001b[0;34m\u001b[0m\u001b[0m\n\u001b[1;32m   2191\u001b[0m \u001b[0;34m\u001b[0m\u001b[0m\n",
      "\u001b[0;32m<__array_function__ internals>\u001b[0m in \u001b[0;36misclose\u001b[0;34m(*args, **kwargs)\u001b[0m\n",
      "\u001b[0;32m~/workspace/cnnstudy/venv/lib/python3.6/site-packages/numpy/core/numeric.py\u001b[0m in \u001b[0;36misclose\u001b[0;34m(a, b, rtol, atol, equal_nan)\u001b[0m\n\u001b[1;32m   2288\u001b[0m     \u001b[0myfin\u001b[0m \u001b[0;34m=\u001b[0m \u001b[0misfinite\u001b[0m\u001b[0;34m(\u001b[0m\u001b[0my\u001b[0m\u001b[0;34m)\u001b[0m\u001b[0;34m\u001b[0m\u001b[0;34m\u001b[0m\u001b[0m\n\u001b[1;32m   2289\u001b[0m     \u001b[0;32mif\u001b[0m \u001b[0mall\u001b[0m\u001b[0;34m(\u001b[0m\u001b[0mxfin\u001b[0m\u001b[0;34m)\u001b[0m \u001b[0;32mand\u001b[0m \u001b[0mall\u001b[0m\u001b[0;34m(\u001b[0m\u001b[0myfin\u001b[0m\u001b[0;34m)\u001b[0m\u001b[0;34m:\u001b[0m\u001b[0;34m\u001b[0m\u001b[0;34m\u001b[0m\u001b[0m\n\u001b[0;32m-> 2290\u001b[0;31m         \u001b[0;32mreturn\u001b[0m \u001b[0mwithin_tol\u001b[0m\u001b[0;34m(\u001b[0m\u001b[0mx\u001b[0m\u001b[0;34m,\u001b[0m \u001b[0my\u001b[0m\u001b[0;34m,\u001b[0m \u001b[0matol\u001b[0m\u001b[0;34m,\u001b[0m \u001b[0mrtol\u001b[0m\u001b[0;34m)\u001b[0m\u001b[0;34m\u001b[0m\u001b[0;34m\u001b[0m\u001b[0m\n\u001b[0m\u001b[1;32m   2291\u001b[0m     \u001b[0;32melse\u001b[0m\u001b[0;34m:\u001b[0m\u001b[0;34m\u001b[0m\u001b[0;34m\u001b[0m\u001b[0m\n\u001b[1;32m   2292\u001b[0m         \u001b[0mfinite\u001b[0m \u001b[0;34m=\u001b[0m \u001b[0mxfin\u001b[0m \u001b[0;34m&\u001b[0m \u001b[0myfin\u001b[0m\u001b[0;34m\u001b[0m\u001b[0;34m\u001b[0m\u001b[0m\n",
      "\u001b[0;32m~/workspace/cnnstudy/venv/lib/python3.6/site-packages/numpy/core/numeric.py\u001b[0m in \u001b[0;36mwithin_tol\u001b[0;34m(x, y, atol, rtol)\u001b[0m\n\u001b[1;32m   2274\u001b[0m     \u001b[0;32mdef\u001b[0m \u001b[0mwithin_tol\u001b[0m\u001b[0;34m(\u001b[0m\u001b[0mx\u001b[0m\u001b[0;34m,\u001b[0m \u001b[0my\u001b[0m\u001b[0;34m,\u001b[0m \u001b[0matol\u001b[0m\u001b[0;34m,\u001b[0m \u001b[0mrtol\u001b[0m\u001b[0;34m)\u001b[0m\u001b[0;34m:\u001b[0m\u001b[0;34m\u001b[0m\u001b[0;34m\u001b[0m\u001b[0m\n\u001b[1;32m   2275\u001b[0m         \u001b[0;32mwith\u001b[0m \u001b[0merrstate\u001b[0m\u001b[0;34m(\u001b[0m\u001b[0minvalid\u001b[0m\u001b[0;34m=\u001b[0m\u001b[0;34m'ignore'\u001b[0m\u001b[0;34m)\u001b[0m\u001b[0;34m:\u001b[0m\u001b[0;34m\u001b[0m\u001b[0;34m\u001b[0m\u001b[0m\n\u001b[0;32m-> 2276\u001b[0;31m             \u001b[0;32mreturn\u001b[0m \u001b[0mless_equal\u001b[0m\u001b[0;34m(\u001b[0m\u001b[0mabs\u001b[0m\u001b[0;34m(\u001b[0m\u001b[0mx\u001b[0m\u001b[0;34m-\u001b[0m\u001b[0my\u001b[0m\u001b[0;34m)\u001b[0m\u001b[0;34m,\u001b[0m \u001b[0matol\u001b[0m \u001b[0;34m+\u001b[0m \u001b[0mrtol\u001b[0m \u001b[0;34m*\u001b[0m \u001b[0mabs\u001b[0m\u001b[0;34m(\u001b[0m\u001b[0my\u001b[0m\u001b[0;34m)\u001b[0m\u001b[0;34m)\u001b[0m\u001b[0;34m\u001b[0m\u001b[0;34m\u001b[0m\u001b[0m\n\u001b[0m\u001b[1;32m   2277\u001b[0m \u001b[0;34m\u001b[0m\u001b[0m\n\u001b[1;32m   2278\u001b[0m     \u001b[0mx\u001b[0m \u001b[0;34m=\u001b[0m \u001b[0masanyarray\u001b[0m\u001b[0;34m(\u001b[0m\u001b[0ma\u001b[0m\u001b[0;34m)\u001b[0m\u001b[0;34m\u001b[0m\u001b[0;34m\u001b[0m\u001b[0m\n",
      "\u001b[0;31mValueError\u001b[0m: operands could not be broadcast together with shapes (4,) (3,) "
     ]
    }
   ],
   "source": [
    "if needs_resampling:\n",
    "    nii = resample_ras_1mm_iso(nii)\n",
    "data = nii.get_fdata()"
   ]
  },
  {
   "cell_type": "code",
   "execution_count": 29,
   "id": "c8313f76-a871-4f1e-a1c7-ded896e8587a",
   "metadata": {},
   "outputs": [
    {
     "data": {
      "text/plain": [
       "array([[[0., 0., 0., ..., 0., 0., 0.],\n",
       "        [0., 0., 0., ..., 0., 0., 0.],\n",
       "        [0., 0., 0., ..., 0., 0., 0.],\n",
       "        ...,\n",
       "        [0., 0., 0., ..., 0., 0., 0.],\n",
       "        [0., 0., 0., ..., 0., 0., 0.],\n",
       "        [0., 0., 0., ..., 0., 0., 0.]],\n",
       "\n",
       "       [[0., 0., 0., ..., 0., 0., 0.],\n",
       "        [0., 0., 0., ..., 0., 0., 0.],\n",
       "        [0., 0., 0., ..., 0., 0., 0.],\n",
       "        ...,\n",
       "        [0., 0., 0., ..., 0., 0., 0.],\n",
       "        [0., 0., 0., ..., 0., 0., 0.],\n",
       "        [0., 0., 0., ..., 0., 0., 0.]],\n",
       "\n",
       "       [[0., 0., 0., ..., 0., 0., 0.],\n",
       "        [0., 0., 0., ..., 0., 0., 0.],\n",
       "        [0., 0., 0., ..., 0., 0., 0.],\n",
       "        ...,\n",
       "        [0., 0., 0., ..., 0., 0., 0.],\n",
       "        [0., 0., 0., ..., 0., 0., 0.],\n",
       "        [0., 0., 0., ..., 0., 0., 0.]],\n",
       "\n",
       "       ...,\n",
       "\n",
       "       [[0., 0., 0., ..., 0., 0., 0.],\n",
       "        [0., 0., 0., ..., 0., 0., 0.],\n",
       "        [0., 0., 0., ..., 0., 0., 0.],\n",
       "        ...,\n",
       "        [0., 0., 0., ..., 0., 0., 0.],\n",
       "        [0., 0., 0., ..., 0., 0., 0.],\n",
       "        [0., 0., 0., ..., 0., 0., 0.]],\n",
       "\n",
       "       [[0., 0., 0., ..., 0., 0., 0.],\n",
       "        [0., 0., 0., ..., 0., 0., 0.],\n",
       "        [0., 0., 0., ..., 0., 0., 0.],\n",
       "        ...,\n",
       "        [0., 0., 0., ..., 0., 0., 0.],\n",
       "        [0., 0., 0., ..., 0., 0., 0.],\n",
       "        [0., 0., 0., ..., 0., 0., 0.]],\n",
       "\n",
       "       [[0., 0., 0., ..., 0., 0., 0.],\n",
       "        [0., 0., 0., ..., 0., 0., 0.],\n",
       "        [0., 0., 0., ..., 0., 0., 0.],\n",
       "        ...,\n",
       "        [0., 0., 0., ..., 0., 0., 0.],\n",
       "        [0., 0., 0., ..., 0., 0., 0.],\n",
       "        [0., 0., 0., ..., 0., 0., 0.]]])"
      ]
     },
     "execution_count": 29,
     "metadata": {},
     "output_type": "execute_result"
    }
   ],
   "source": [
    "data"
   ]
  }
 ],
 "metadata": {
  "kernelspec": {
   "display_name": "Python 3 (ipykernel)",
   "language": "python",
   "name": "python3"
  },
  "language_info": {
   "codemirror_mode": {
    "name": "ipython",
    "version": 3
   },
   "file_extension": ".py",
   "mimetype": "text/x-python",
   "name": "python",
   "nbconvert_exporter": "python",
   "pygments_lexer": "ipython3",
   "version": "3.8.13"
  }
 },
 "nbformat": 4,
 "nbformat_minor": 5
}
