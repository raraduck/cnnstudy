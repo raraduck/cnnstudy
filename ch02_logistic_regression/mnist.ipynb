{
 "cells": [
  {
   "cell_type": "code",
   "execution_count": 1,
   "id": "237c648f-f231-4511-8b3f-d3e3718f6eaa",
   "metadata": {},
   "outputs": [],
   "source": [
    "import torch\n",
    "from sklearn.datasets import load_digits"
   ]
  },
  {
   "cell_type": "code",
   "execution_count": 2,
   "id": "8abf8034-9d84-4c4c-ad65-640f802cb9e7",
   "metadata": {},
   "outputs": [
    {
     "name": "stdout",
     "output_type": "stream",
     "text": [
      "torch.float32\n",
      "torch.int64\n",
      "torch.Size([1797, 64])\n",
      "torch.Size([1797])\n"
     ]
    }
   ],
   "source": [
    "digits = load_digits()\n",
    "\n",
    "X = digits.data\n",
    "y = digits.target\n",
    "\n",
    "X = torch.FloatTensor(X)\n",
    "y = torch.LongTensor(y)\n",
    "\n",
    "print(X.dtype)\n",
    "print(y.dtype)\n",
    "print(X.shape)\n",
    "print(y.shape)"
   ]
  },
  {
   "cell_type": "raw",
   "id": "e635df46-f40b-4308-b807-7a41d4b84438",
   "metadata": {},
   "source": [
    "from data.load_data import load_data_mnist\n",
    "xx, yy = load_data_mnist()\n",
    "\n",
    "print(xx.dtype)\n",
    "print(yy.dtype)\n",
    "print(xx.shape)\n",
    "print(yy.shape)"
   ]
  },
  {
   "cell_type": "code",
   "execution_count": 3,
   "id": "4054a1c1-fd8d-4a64-8a53-24cc28ac56b9",
   "metadata": {},
   "outputs": [],
   "source": [
    "from torch import nn, optim\n",
    "net = nn.Linear(X.size()[1], 10)\n",
    "\n",
    "loss_fn = nn.CrossEntropyLoss()\n",
    "\n",
    "optimizer = optim.SGD(net.parameters(), lr=0.1)"
   ]
  },
  {
   "cell_type": "code",
   "execution_count": 4,
   "id": "3e3c91c4-8767-441e-a959-4a20302d6978",
   "metadata": {
    "scrolled": true
   },
   "outputs": [
    {
     "name": "stdout",
     "output_type": "stream",
     "text": [
      "Epoch 1, Training loss 5.5017\n",
      "Epoch 100, Training loss 0.0814\n",
      "Epoch 200, Training loss 0.0333\n",
      "Epoch 300, Training loss 0.0207\n",
      "Epoch 400, Training loss 0.0151\n",
      "Epoch 500, Training loss 0.0120\n",
      "Epoch 600, Training loss 0.0101\n",
      "Epoch 700, Training loss 0.0090\n",
      "Epoch 800, Training loss 0.0081\n",
      "Epoch 900, Training loss 0.0074\n",
      "Epoch 1000, Training loss 0.0069\n"
     ]
    }
   ],
   "source": [
    "from train.run_train import training_loop\n",
    "training_loop(\n",
    "    n_epochs = 1000,\n",
    "    optimizer = optimizer,\n",
    "    model = net,\n",
    "    loss_fn = loss_fn,\n",
    "    x_train = X,\n",
    "    y_train = y,\n",
    ")\n",
    "# import matplotlib.pyplot as plt\n",
    "# plt.plot(losses)"
   ]
  },
  {
   "cell_type": "code",
   "execution_count": 21,
   "id": "bbbd6383-40c0-4b7a-bec3-69fde9b98918",
   "metadata": {},
   "outputs": [],
   "source": [
    "losses = []\n",
    "\n",
    "for epoc in range(100):\n",
    "    optimizer.zero_grad()\n",
    "    y_pred = net(X)\n",
    "\n",
    "    loss = loss_fn(y_pred, y)\n",
    "    loss.backward()\n",
    "\n",
    "    optimizer.step()\n",
    "\n",
    "    losses.append(loss.item())"
   ]
  },
  {
   "cell_type": "code",
   "execution_count": 22,
   "id": "6387b766-e953-4326-bfc8-bb5713817ced",
   "metadata": {},
   "outputs": [
    {
     "name": "stdout",
     "output_type": "stream",
     "text": [
      "torch.float32\n",
      "torch.int64\n",
      "torch.Size([1797, 10])\n",
      "torch.Size([1797])\n",
      "tensor([[ 35.7846, -23.3329,  -1.1800,  -7.5949,   4.1081,   7.2326,  -8.4689,\n",
      "          -4.2222,   4.4188,  10.0446],\n",
      "        [-22.2908,  33.1710,   1.7938,   4.9065,  14.0573, -16.5357, -16.9581,\n",
      "          -5.7977,  14.5298,  -5.9212],\n",
      "        [ -4.7593,  17.6532,  24.1476,  -4.4865,   0.9832, -30.0968,  -3.7473,\n",
      "          -3.3486,  14.2879, -13.4365],\n",
      "        [-12.2045,   2.3501,   6.9561,  28.2467, -11.0153,   7.7710, -18.0111,\n",
      "         -13.3669,   7.1317,   7.7571],\n",
      "        [  3.3546,  11.1777, -16.7987, -17.0099,  27.8404, -13.2238,  17.5664,\n",
      "          -1.9079,  11.3511, -12.4842]], grad_fn=<SliceBackward0>)\n",
      "tensor([0, 1, 2, 3, 4])\n"
     ]
    }
   ],
   "source": [
    "print(y_pred.dtype)\n",
    "print(y.dtype)\n",
    "print(y_pred.shape)\n",
    "print(y.shape)\n",
    "print(y_pred[0:5,:])\n",
    "print(y[0:5])"
   ]
  },
  {
   "cell_type": "code",
   "execution_count": 23,
   "id": "8f0406b2-25dc-488b-a5d2-05973c120921",
   "metadata": {},
   "outputs": [
    {
     "data": {
      "text/plain": [
       "[<matplotlib.lines.Line2D at 0x23948c0ac50>]"
      ]
     },
     "execution_count": 23,
     "metadata": {},
     "output_type": "execute_result"
    },
    {
     "data": {
      "image/png": "[encoded data removed]",
      "text/plain": [
       "<Figure size 640x480 with 1 Axes>"
      ]
     },
     "metadata": {},
     "output_type": "display_data"
    }
   ],
   "source": [
    "import matplotlib.pyplot as plt\n",
    "plt.plot(losses)"
   ]
  },
  {
   "cell_type": "code",
   "execution_count": 32,
   "id": "d1aff649-cb85-49dd-b562-f392bcb0d15d",
   "metadata": {},
   "outputs": [
    {
     "data": {
      "text/plain": [
       "0.9515859766277128"
      ]
     },
     "execution_count": 32,
     "metadata": {},
     "output_type": "execute_result"
    }
   ],
   "source": [
    "_, y_pred = torch.max(net(X), 1)\n",
    "(y_pred == y).sum().item() / len(y)"
   ]
  },
  {
   "cell_type": "code",
   "execution_count": 34,
   "id": "f1201835-8b0e-49fa-9a42-db5fef4f45c4",
   "metadata": {},
   "outputs": [
    {
     "name": "stdout",
     "output_type": "stream",
     "text": [
      "1\n",
      "2\n",
      "3\n",
      "4\n",
      "5\n",
      "6\n",
      "7\n",
      "8\n",
      "9\n"
     ]
    }
   ],
   "source": [
    "for epoch in range(1, 10):\n",
    "    print(epoch)"
   ]
  }
 ],
 "metadata": {
  "kernelspec": {
   "display_name": "Python 3 (ipykernel)",
   "language": "python",
   "name": "python3"
  },
  "language_info": {
   "codemirror_mode": {
    "name": "ipython",
    "version": 3
   },
   "file_extension": ".py",
   "mimetype": "text/x-python",
   "name": "python",
   "nbconvert_exporter": "python",
   "pygments_lexer": "ipython3",
   "version": "3.10.10"
  }
 },
 "nbformat": 4,
 "nbformat_minor": 5
}
