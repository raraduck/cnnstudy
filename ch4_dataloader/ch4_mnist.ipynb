{
 "cells": [
  {
   "cell_type": "code",
<<<<<<< HEAD
   "execution_count": 1,
   "id": "aecdac8b-f55e-4e0f-b054-076781e994fd",
=======
   "execution_count": 3,
   "id": "254e321c-0c80-451b-b760-c386b9123e5f",
>>>>>>> 8dc94370a0f02ee8ef94474f4d7d236087cd9a10
   "metadata": {},
   "outputs": [
    {
     "name": "stdout",
     "output_type": "stream",
     "text": [
<<<<<<< HEAD
      "Downloading http://yann.lecun.com/exdb/mnist/train-images-idx3-ubyte.gz to ./data/MNIST/raw/train-images-idx3-ubyte.gz\n"
     ]
    },
    {
     "name": "stderr",
     "output_type": "stream",
     "text": [
      "100.1%"
     ]
    },
    {
     "name": "stdout",
     "output_type": "stream",
     "text": [
      "Extracting ./data/MNIST/raw/train-images-idx3-ubyte.gz to ./data/MNIST/raw\n",
      "Downloading http://yann.lecun.com/exdb/mnist/train-labels-idx1-ubyte.gz to ./data/MNIST/raw/train-labels-idx1-ubyte.gz\n"
     ]
    },
    {
     "name": "stderr",
     "output_type": "stream",
     "text": [
      "113.5%"
     ]
    },
    {
     "name": "stdout",
     "output_type": "stream",
     "text": [
      "Extracting ./data/MNIST/raw/train-labels-idx1-ubyte.gz to ./data/MNIST/raw\n",
      "Downloading http://yann.lecun.com/exdb/mnist/t10k-images-idx3-ubyte.gz to ./data/MNIST/raw/t10k-images-idx3-ubyte.gz\n"
     ]
    },
    {
     "name": "stderr",
     "output_type": "stream",
     "text": [
      "100.4%"
     ]
    },
    {
     "name": "stdout",
     "output_type": "stream",
     "text": [
      "Extracting ./data/MNIST/raw/t10k-images-idx3-ubyte.gz to ./data/MNIST/raw\n",
      "Downloading http://yann.lecun.com/exdb/mnist/t10k-labels-idx1-ubyte.gz to ./data/MNIST/raw/t10k-labels-idx1-ubyte.gz\n"
     ]
    },
    {
     "name": "stderr",
     "output_type": "stream",
     "text": [
      "180.4%/home2/dwnusa/workspace/cnnstudy/venv/lib/python3.6/site-packages/torchvision/datasets/mnist.py:480: UserWarning: The given NumPy array is not writeable, and PyTorch does not support non-writeable tensors. This means you can write to the underlying (supposedly non-writeable) NumPy array using the tensor. You may want to copy the array to protect its data or make it writeable before converting it to a tensor. This type of warning will be suppressed for the rest of this program. (Triggered internally at  /pytorch/torch/csrc/utils/tensor_numpy.cpp:141.)\n",
      "  return torch.from_numpy(parsed.astype(m[2], copy=False)).view(*s)\n"
     ]
    },
    {
     "name": "stdout",
     "output_type": "stream",
     "text": [
      "Extracting ./data/MNIST/raw/t10k-labels-idx1-ubyte.gz to ./data/MNIST/raw\n",
      "Processing...\n",
      "Done!\n",
      "torch.utils.data.dataloader.DataLoader\n",
      "torch.Size([1, 28, 28])\n",
      "tensor(2.3031, device='cuda:0', grad_fn=<NllLossBackward>)\n",
      "tensor(0.2741, device='cuda:0', grad_fn=<NllLossBackward>)\n",
      "tensor(0.1567, device='cuda:0', grad_fn=<NllLossBackward>)\n",
      "tensor(0.1425, device='cuda:0', grad_fn=<NllLossBackward>)\n",
      "tensor(0.0615, device='cuda:0', grad_fn=<NllLossBackward>)\n",
      "tensor(0.0391, device='cuda:0', grad_fn=<NllLossBackward>)\n",
      "tensor(0.0371, device='cuda:0', grad_fn=<NllLossBackward>)\n",
      "tensor(0.0733, device='cuda:0', grad_fn=<NllLossBackward>)\n",
      "tensor(0.0471, device='cuda:0', grad_fn=<NllLossBackward>)\n",
      "tensor(0.0418, device='cuda:0', grad_fn=<NllLossBackward>)\n"
     ]
=======
      "tensor(2.2979, device='cuda:0', grad_fn=<NllLossBackward0>)\n",
      "tensor(0.2659, device='cuda:0', grad_fn=<NllLossBackward0>)\n",
      "tensor(0.1175, device='cuda:0', grad_fn=<NllLossBackward0>)\n",
      "tensor(0.0828, device='cuda:0', grad_fn=<NllLossBackward0>)\n",
      "tensor(0.0715, device='cuda:0', grad_fn=<NllLossBackward0>)\n",
      "tensor(0.0678, device='cuda:0', grad_fn=<NllLossBackward0>)\n",
      "tensor(0.0438, device='cuda:0', grad_fn=<NllLossBackward0>)\n",
      "tensor(0.0383, device='cuda:0', grad_fn=<NllLossBackward0>)\n",
      "tensor(0.0149, device='cuda:0', grad_fn=<NllLossBackward0>)\n",
      "tensor(0.0353, device='cuda:0', grad_fn=<NllLossBackward0>)\n"
     ]
    },
    {
     "data": {
      "image/png": "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",
      "text/plain": [
       "<Figure size 640x480 with 4 Axes>"
      ]
     },
     "metadata": {},
     "output_type": "display_data"
>>>>>>> 8dc94370a0f02ee8ef94474f4d7d236087cd9a10
    }
   ],
   "source": [
    "import torch\n",
    "import torch.nn as nn\n",
    "import torch.optim as optim\n",
    "import torch.nn.init as init\n",
    "import torchvision.datasets as dset\n",
    "import torchvision.transforms as transforms\n",
    "from torch.utils.data import TensorDataset, DataLoader\n",
    "\n",
    "batch_size = 256\n",
    "learning_rate = 0.0002\n",
    "num_epoch = 10\n",
    "\n",
    "mnist_train = dset.MNIST(\"./data/\", train=True, transform=transforms.ToTensor(),\n",
    "                         target_transform=None, download=True)\n",
    "mnist_test = dset.MNIST(\"./data/\", train=False, transform=transforms.ToTensor(),\n",
    "                        target_transform=None, download=True)\n",
    "\n",
    "train_loader = torch.utils.data.DataLoader(mnist_train, batch_size=batch_size,\n",
    "                                           shuffle=True, num_workers=0, drop_last=True)\n",
    "test_loader = torch.utils.data.DataLoader(mnist_test, batch_size,\n",
    "                                          shuffle=True, num_workers=0, drop_last=True)\n",
    "\n",
    "sample_batch = next(iter(train_loader))\n",
    "from utils.load_utils import display_from_batch\n",
    "display_from_batch(sample_batch, 2, 2)            \n",
    "\n",
    "from models.load_models import MyCNN\n",
    "device = torch.device(\"cuda:0\" if torch.cuda.is_available() else \"cpu\")\n",
    "model = MyCNN(batch_size=batch_size).to(device)\n",
    "loss_func = nn.CrossEntropyLoss()\n",
    "optimizer = torch.optim.Adam(model.parameters(), lr=learning_rate)\n",
    "\n",
    "\n",
    "\n",
    "\n",
    "\n",
    "\n",
    "loss_arr = []\n",
    "for i in range(num_epoch):\n",
    "    for j,[image, label] in enumerate(train_loader):\n",
    "        x = image.to(device)\n",
    "        y_ = label.to(device)\n",
    "\n",
    "        optimizer.zero_grad()\n",
    "        output = model(x)\n",
    "        loss = loss_func(output, y_)\n",
    "        loss.backward()\n",
    "        optimizer.step()\n",
    "\n",
    "        if j % 1000 == 0:\n",
    "            print(loss)\n",
    "            loss_arr.append(loss.cpu().detach().numpy())"
   ]
  },
  {
   "cell_type": "code",
   "execution_count": 4,
   "id": "6a47aef6-08e3-4700-8e2b-c286ff45c7b9",
   "metadata": {},
   "outputs": [
    {
     "name": "stdout",
     "output_type": "stream",
     "text": [
      "torch.utils.data.dataloader.DataLoader\n",
      "torch.Size([1, 28, 28])\n",
      "tensor(2.3031, device='cuda:0', grad_fn=<NllLossBackward>)\n",
      "tensor(0.2144, device='cuda:0', grad_fn=<NllLossBackward>)\n",
      "tensor(0.1268, device='cuda:0', grad_fn=<NllLossBackward>)\n",
      "tensor(0.1151, device='cuda:0', grad_fn=<NllLossBackward>)\n",
      "tensor(0.0557, device='cuda:0', grad_fn=<NllLossBackward>)\n",
      "tensor(0.0833, device='cuda:0', grad_fn=<NllLossBackward>)\n",
      "tensor(0.0569, device='cuda:0', grad_fn=<NllLossBackward>)\n",
      "tensor(0.0774, device='cuda:0', grad_fn=<NllLossBackward>)\n",
      "tensor(0.0514, device='cuda:0', grad_fn=<NllLossBackward>)\n",
      "tensor(0.0220, device='cuda:0', grad_fn=<NllLossBackward>)\n"
     ]
    }
   ],
   "source": [
    "import torch\n",
    "import torch.nn as nn\n",
    "import torch.optim as optim\n",
    "import torch.nn.init as init\n",
    "import torchvision.datasets as dset\n",
    "import torchvision.transforms as transforms\n",
    "from torch.utils.data import TensorDataset, DataLoader\n",
    "\n",
    "batch_size = 256\n",
    "learning_rate = 0.0002\n",
    "num_epoch = 10\n",
    "\n",
    "from data.load_data import loader_data_mnist_torchvision\n",
    "train_loader, test_loader = loader_data_mnist_torchvision()\n",
    "\n",
    "print(type(train_loader))\n",
    "print(train_loader.dataset[0][0].shape)\n",
    "\n",
    "from models.load_models import MyCNN, MyMLP\n",
    "device = torch.device(\"cuda:0\" if torch.cuda.is_available() else \"cpu\")\n",
    "model = MyCNN(batch_size=batch_size).to(device)\n",
    "loss_func = nn.CrossEntropyLoss()\n",
    "optimizer = torch.optim.Adam(model.parameters(), lr=learning_rate)\n",
    "\n",
    "\n",
    "\n",
    "loss_arr = []\n",
    "for i in range(num_epoch):\n",
    "    for j,[image, label] in enumerate(train_loader):\n",
    "        x = image.to(device)\n",
    "        y_ = label.to(device)\n",
    "\n",
    "        optimizer.zero_grad()\n",
    "        output = model(x)\n",
    "        loss = loss_func(output, y_)\n",
    "        loss.backward()\n",
    "        optimizer.step()\n",
    "\n",
    "        if j % 1000 == 0:\n",
    "            print(loss)\n",
    "            loss_arr.append(loss.cpu().detach().numpy())"
   ]
  },
  {
   "cell_type": "code",
   "execution_count": 5,
   "id": "0fca3b7c-632e-4907-b23e-3cb0c85e8da9",
   "metadata": {},
   "outputs": [
    {
     "name": "stdout",
     "output_type": "stream",
     "text": [
      "torch.utils.data.dataloader.DataLoader\n",
      "2\n",
      "tensor(2.3089, device='cuda:0', grad_fn=<NllLossBackward>)\n",
      "tensor(0.1788, device='cuda:0', grad_fn=<NllLossBackward>)\n",
      "tensor(0.1096, device='cuda:0', grad_fn=<NllLossBackward>)\n",
      "tensor(0.0749, device='cuda:0', grad_fn=<NllLossBackward>)\n",
      "tensor(0.0509, device='cuda:0', grad_fn=<NllLossBackward>)\n",
      "tensor(0.0398, device='cuda:0', grad_fn=<NllLossBackward>)\n",
      "tensor(0.0441, device='cuda:0', grad_fn=<NllLossBackward>)\n",
      "tensor(0.0385, device='cuda:0', grad_fn=<NllLossBackward>)\n",
      "tensor(0.0242, device='cuda:0', grad_fn=<NllLossBackward>)\n",
      "tensor(0.0702, device='cuda:0', grad_fn=<NllLossBackward>)\n"
     ]
    }
   ],
   "source": [
    "import torch\n",
    "import torch.nn as nn\n",
    "import torch.optim as optim\n",
    "import torch.nn.init as init\n",
    "import torchvision.datasets as dset\n",
    "import torchvision.transforms as transforms\n",
    "from torch.utils.data import TensorDataset, DataLoader\n",
    "\n",
    "batch_size = 256\n",
    "learning_rate = 0.0002\n",
    "num_epoch = 10\n",
    "\n",
    "from sklearn.datasets import load_digits, fetch_openml\n",
    "\n",
    "digits = fetch_openml('MNIST_784', version=1, data_home='./data/')\n",
    "X_df = digits.data\n",
    "Y_str = digits.target\n",
    "\n",
    "X_t = torch.FloatTensor(X_df.values) / 255\n",
    "X = torch.reshape(X_t, (-1, 1, 28, 28))\n",
    "Y = torch.LongTensor([int(x) for x in Y_str])\n",
    "\n",
    "n_samples = X.shape[0]\n",
    "n_val = int(0.2 * n_samples)\n",
    "shuffled_indices = torch.randperm(n_samples)\n",
    "train_indices = shuffled_indices[:-n_val]\n",
    "val_indices = shuffled_indices[-n_val:]\n",
    "X_train = X[train_indices,:]\n",
    "Y_train = Y[train_indices]\n",
    "X_val = X[val_indices,:]\n",
    "Y_val = Y[val_indices]\n",
    "\n",
    "ds_train = TensorDataset(X_train, Y_train)\n",
    "ds_val = TensorDataset(X_val, Y_val)\n",
    "train_loader = DataLoader(ds_train, batch_size=batch_size, shuffle=True, drop_last=True)\n",
    "test_loader = DataLoader(ds_val, batch_size=batch_size, shuffle=True, drop_last=True)\n",
    "\n",
    "print(type(train_loader))\n",
    "print(len(train_loader.dataset[0]))\n",
    "\n",
    "\n",
    "\n",
    "from models.load_models import MyCNN\n",
    "device = torch.device(\"cuda:0\" if torch.cuda.is_available() else \"cpu\")\n",
    "model = MyCNN(batch_size=batch_size).to(device)\n",
    "loss_func = nn.CrossEntropyLoss()\n",
    "optimizer = torch.optim.Adam(model.parameters(), lr=learning_rate)\n",
    "\n",
    "\n",
    "\n",
    "\n",
    "\n",
    "loss_arr = []\n",
    "for i in range(num_epoch):\n",
    "    for j,[image, label] in enumerate(train_loader):\n",
    "        x = image.to(device)\n",
    "        y_ = label.to(device)\n",
    "\n",
    "        optimizer.zero_grad()\n",
    "        output = model(x)\n",
    "        loss = loss_func(output, y_)\n",
    "        loss.backward()\n",
    "        optimizer.step()\n",
    "\n",
    "        if j % 1000 == 0:\n",
    "            print(loss)\n",
    "            loss_arr.append(loss.cpu().detach().numpy())"
   ]
  },
  {
   "cell_type": "code",
   "execution_count": 6,
   "id": "63ce9471-244b-46d3-9e08-0cab3d20ac66",
   "metadata": {
    "scrolled": true
   },
   "outputs": [
    {
     "name": "stdout",
     "output_type": "stream",
     "text": [
      "tensor(2.3075, device='cuda:0', grad_fn=<NllLossBackward>)\n",
      "tensor(0.2431, device='cuda:0', grad_fn=<NllLossBackward>)\n",
      "tensor(0.1477, device='cuda:0', grad_fn=<NllLossBackward>)\n",
      "tensor(0.1053, device='cuda:0', grad_fn=<NllLossBackward>)\n",
      "tensor(0.0681, device='cuda:0', grad_fn=<NllLossBackward>)\n",
      "tensor(0.0181, device='cuda:0', grad_fn=<NllLossBackward>)\n",
      "tensor(0.0913, device='cuda:0', grad_fn=<NllLossBackward>)\n",
      "tensor(0.0725, device='cuda:0', grad_fn=<NllLossBackward>)\n",
      "tensor(0.0539, device='cuda:0', grad_fn=<NllLossBackward>)\n",
      "tensor(0.0067, device='cuda:0', grad_fn=<NllLossBackward>)\n"
     ]
    },
    {
     "data": {
      "text/plain": [
       "[array(2.307535, dtype=float32),\n",
       " array(0.24312569, dtype=float32),\n",
       " array(0.14770298, dtype=float32),\n",
       " array(0.10528561, dtype=float32),\n",
       " array(0.06805909, dtype=float32),\n",
       " array(0.01813728, dtype=float32),\n",
       " array(0.09129666, dtype=float32),\n",
       " array(0.07253212, dtype=float32),\n",
       " array(0.05394066, dtype=float32),\n",
       " array(0.0067056, dtype=float32)]"
      ]
     },
     "execution_count": 6,
     "metadata": {},
     "output_type": "execute_result"
    }
   ],
   "source": [
    "import torch\n",
    "import torch.nn as nn\n",
    "import torch.optim as optim\n",
    "import torch.nn.init as init\n",
    "import torchvision.datasets as dset\n",
    "import torchvision.transforms as transforms\n",
    "from torch.utils.data import TensorDataset, DataLoader\n",
    "\n",
    "batch_size = 256\n",
    "learning_rate = 0.0002\n",
    "num_epoch = 10\n",
    "\n",
    "mnist_train = dset.MNIST(\"./data/\", train=True, transform=transforms.ToTensor(),\n",
    "                         target_transform=None, download=True)\n",
    "mnist_test = dset.MNIST(\"./data/\", train=False, transform=transforms.ToTensor(),\n",
    "                        target_transform=None, download=True)\n",
    "\n",
    "train_loader = torch.utils.data.DataLoader(mnist_train, batch_size=batch_size,\n",
    "                                           shuffle=True, num_workers=0, drop_last=True)\n",
    "test_loader = torch.utils.data.DataLoader(mnist_test, batch_size,\n",
    "                                          shuffle=True, num_workers=0, drop_last=True)\n",
    "\n",
    "\n",
    "\n",
    "\n",
    "\n",
    "from models.load_models import MyCNN\n",
    "device = torch.device(\"cuda:0\" if torch.cuda.is_available() else \"cpu\")\n",
    "model = MyCNN(batch_size=batch_size).to(device)\n",
    "loss_func = nn.CrossEntropyLoss()\n",
    "optimizer = torch.optim.Adam(model.parameters(), lr=learning_rate)\n",
    "\n",
    "\n",
    "\n",
    "\n",
    "\n",
    "\n",
    "from train.run_training import training_loop, validate\n",
    "training_loop(10, optimizer, model, loss_func, train_loader, device=device)"
   ]
  },
  {
   "cell_type": "code",
   "execution_count": 7,
   "id": "8fddd6ef-d9a2-4ff6-a054-5d5a208fdd75",
   "metadata": {},
   "outputs": [
    {
     "name": "stdout",
     "output_type": "stream",
     "text": [
      "Accuracy train: 0.99\n",
      "Accuracy val: 0.99\n"
     ]
    }
   ],
   "source": [
    "import collections\n",
    "all_acc_dict = collections.OrderedDict()\n",
    "all_acc_dict[\"mycnn\"] = validate(model, train_loader, test_loader, device=device)"
   ]
  },
  {
   "cell_type": "code",
   "execution_count": 8,
   "id": "3cdfbc5b-ca37-45c7-bd8a-26f1626f0710",
   "metadata": {},
   "outputs": [
    {
     "name": "stdout",
     "output_type": "stream",
     "text": [
      "OrderedDict([('mycnn', {'train': 0.9872629540598291, 'val': 0.9873798076923077})])\n"
     ]
    }
   ],
   "source": [
    "print(all_acc_dict)"
   ]
  },
  {
   "cell_type": "code",
   "execution_count": 9,
   "id": "8e2fef73-9279-4c40-836d-948bec8b021f",
   "metadata": {},
   "outputs": [
    {
     "data": {
      "image/png": "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\n",
      "text/plain": [
       "<Figure size 432x288 with 1 Axes>"
      ]
     },
     "metadata": {
      "needs_background": "light"
     },
     "output_type": "display_data"
    }
   ],
   "source": [
    "import matplotlib.pyplot as plt\n",
    "import numpy as np\n",
    "trn_acc = [v['train'] for k, v in all_acc_dict.items()]\n",
    "val_acc = [v['val'] for k, v in all_acc_dict.items()]\n",
    "\n",
    "width = 0.3\n",
    "plt.bar(np.arange(len(trn_acc)), trn_acc, width=width, label='train')\n",
    "plt.bar(np.arange(len(val_acc))+ width, val_acc, width=width, label='val')\n",
    "plt.xticks(np.arange(len(val_acc))+ width/2, list(all_acc_dict.keys()),\n",
    "           rotation=60)\n",
    "plt.ylabel('accuracy')\n",
    "plt.legend(loc='lower right')\n",
    "plt.ylim(0.7, 1)\n",
    "plt.savefig('./fig/accuracy_comparison.png', bbox_inches='tight')\n",
    "plt.show()\n"
   ]
  },
  {
   "cell_type": "code",
   "execution_count": null,
   "id": "e454c53f-3d98-49d5-912a-6b1a60d4969b",
   "metadata": {},
   "outputs": [],
   "source": []
  }
 ],
 "metadata": {
  "kernelspec": {
   "display_name": "Python 3",
   "language": "python",
   "name": "python3"
  },
  "language_info": {
   "codemirror_mode": {
    "name": "ipython",
    "version": 3
   },
   "file_extension": ".py",
   "mimetype": "text/x-python",
   "name": "python",
   "nbconvert_exporter": "python",
   "pygments_lexer": "ipython3",
   "version": "3.6.9"
  }
 },
 "nbformat": 4,
 "nbformat_minor": 5
}
