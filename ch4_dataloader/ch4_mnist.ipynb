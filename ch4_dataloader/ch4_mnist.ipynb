{
 "cells": [
  {
   "cell_type": "code",
   "execution_count": null,
   "id": "aecdac8b-f55e-4e0f-b054-076781e994fd",
   "metadata": {},
   "outputs": [],
   "source": [
    "import torch\n",
    "import torch.nn as nn\n",
    "import torch.optim as optim\n",
    "import torch.nn.init as init\n",
    "import torchvision.datasets as dset\n",
    "import torchvision.transforms as transforms\n",
    "from torch.utils.data import TensorDataset, DataLoader\n",
    "\n",
    "batch_size = 256\n",
    "learning_rate = 0.0002\n",
    "num_epoch = 10\n",
    "\n",
    "mnist_train = dset.MNIST(\"./data/\", train=True, transform=transforms.ToTensor(),\n",
    "                         target_transform=None, download=True)\n",
    "mnist_test = dset.MNIST(\"./data/\", train=False, transform=transforms.ToTensor(),\n",
    "                        target_transform=None, download=True)\n",
    "\n",
    "train_loader = torch.utils.data.DataLoader(mnist_train, batch_size=batch_size,\n",
    "                                           shuffle=True, num_workers=0, drop_last=True)\n",
    "test_loader = torch.utils.data.DataLoader(mnist_test, batch_size,\n",
    "                                          shuffle=True, num_workers=0, drop_last=True)\n",
    "\n",
    "print(type(train_loader))\n",
    "print(train_loader.dataset[0][0].shape)\n",
    "\n",
    "\n",
    "\n",
    "\n",
    "from models.load_models import MyCNN\n",
    "device = torch.device(\"cuda:0\" if torch.cuda.is_available() else \"cpu\")\n",
    "model = MyCNN(batch_size=batch_size).to(device)\n",
    "loss_func = nn.CrossEntropyLoss()\n",
    "optimizer = torch.optim.Adam(model.parameters(), lr=learning_rate)\n",
    "\n",
    "\n",
    "\n",
    "\n",
    "\n",
    "\n",
    "loss_arr = []\n",
    "for i in range(num_epoch):\n",
    "    for j,[image, label] in enumerate(train_loader):\n",
    "        x = image.to(device)\n",
    "        y_ = label.to(device)\n",
    "\n",
    "        optimizer.zero_grad()\n",
    "        output = model(x)\n",
    "        loss = loss_func(output, y_)\n",
    "        loss.backward()\n",
    "        optimizer.step()\n",
    "\n",
    "        if j % 1000 == 0:\n",
    "            print(loss)\n",
    "            loss_arr.append(loss.cpu().detach().numpy())"
   ]
  },
  {
   "cell_type": "code",
   "execution_count": null,
   "id": "6a47aef6-08e3-4700-8e2b-c286ff45c7b9",
   "metadata": {},
   "outputs": [],
   "source": [
    "import torch\n",
    "import torch.nn as nn\n",
    "import torch.optim as optim\n",
    "import torch.nn.init as init\n",
    "import torchvision.datasets as dset\n",
    "import torchvision.transforms as transforms\n",
    "from torch.utils.data import TensorDataset, DataLoader\n",
    "\n",
    "batch_size = 256\n",
    "learning_rate = 0.0002\n",
    "num_epoch = 10\n",
    "\n",
    "from data.load_data import loader_data_mnist_torchvision\n",
    "train_loader, test_loader = loader_data_mnist_torchvision()\n",
    "\n",
    "print(type(train_loader))\n",
    "print(train_loader.dataset[0][0].shape)\n",
    "\n",
    "from models.load_models import MyCNN\n",
    "device = torch.device(\"cuda:0\" if torch.cuda.is_available() else \"cpu\")\n",
    "model = MyMLP(batch_size=batch_size).to(device)\n",
    "loss_func = nn.CrossEntropyLoss()\n",
    "optimizer = torch.optim.Adam(model.parameters(), lr=learning_rate)\n",
    "\n",
    "\n",
    "\n",
    "loss_arr = []\n",
    "for i in range(num_epoch):\n",
    "    for j,[image, label] in enumerate(train_loader):\n",
    "        x = image.to(device)\n",
    "        y_ = label.to(device)\n",
    "\n",
    "        optimizer.zero_grad()\n",
    "        output = model(x)\n",
    "        loss = loss_func(output, y_)\n",
    "        loss.backward()\n",
    "        optimizer.step()\n",
    "\n",
    "        if j % 1000 == 0:\n",
    "            print(loss)\n",
    "            loss_arr.append(loss.cpu().detach().numpy())"
   ]
  },
  {
   "cell_type": "code",
   "execution_count": null,
   "id": "0fca3b7c-632e-4907-b23e-3cb0c85e8da9",
   "metadata": {},
   "outputs": [],
   "source": [
    "import torch\n",
    "import torch.nn as nn\n",
    "import torch.optim as optim\n",
    "import torch.nn.init as init\n",
    "import torchvision.datasets as dset\n",
    "import torchvision.transforms as transforms\n",
    "from torch.utils.data import TensorDataset, DataLoader\n",
    "\n",
    "batch_size = 256\n",
    "learning_rate = 0.0002\n",
    "num_epoch = 10\n",
    "\n",
    "from sklearn.datasets import load_digits, fetch_openml\n",
    "\n",
    "digits = fetch_openml('MNIST_784', version=1, data_home='./data/')\n",
    "X_df = digits.data\n",
    "Y_str = digits.target\n",
    "\n",
    "X_t = torch.FloatTensor(X_df.values) / 255\n",
    "X = torch.reshape(X_t, (-1, 1, 28, 28))\n",
    "Y = torch.LongTensor([int(x) for x in Y_str])\n",
    "\n",
    "n_samples = X.shape[0]\n",
    "n_val = int(0.2 * n_samples)\n",
    "shuffled_indices = torch.randperm(n_samples)\n",
    "train_indices = shuffled_indices[:-n_val]\n",
    "val_indices = shuffled_indices[-n_val:]\n",
    "X_train = X[train_indices,:]\n",
    "Y_train = Y[train_indices]\n",
    "X_val = X[val_indices,:]\n",
    "Y_val = Y[val_indices]\n",
    "\n",
    "ds_train = TensorDataset(X_train, Y_train)\n",
    "ds_val = TensorDataset(X_val, Y_val)\n",
    "train_loader = DataLoader(ds_train, batch_size=batch_size, shuffle=True, drop_last=True)\n",
    "test_loader = DataLoader(ds_val, batch_size=batch_size, shuffle=True, drop_last=True)\n",
    "\n",
    "print(type(train_loader))\n",
    "print(len(train_loader.dataset[0]))\n",
    "\n",
    "\n",
    "\n",
    "from models.load_models import MyCNN\n",
    "device = torch.device(\"cuda:0\" if torch.cuda.is_available() else \"cpu\")\n",
    "model = MyCNN(batch_size=batch_size).to(device)\n",
    "loss_func = nn.CrossEntropyLoss()\n",
    "optimizer = torch.optim.Adam(model.parameters(), lr=learning_rate)\n",
    "\n",
    "\n",
    "\n",
    "\n",
    "\n",
    "loss_arr = []\n",
    "for i in range(num_epoch):\n",
    "    for j,[image, label] in enumerate(train_loader):\n",
    "        x = image.to(device)\n",
    "        y_ = label.to(device)\n",
    "\n",
    "        optimizer.zero_grad()\n",
    "        output = model(x)\n",
    "        loss = loss_func(output, y_)\n",
    "        loss.backward()\n",
    "        optimizer.step()\n",
    "\n",
    "        if j % 1000 == 0:\n",
    "            print(loss)\n",
    "            loss_arr.append(loss.cpu().detach().numpy())"
   ]
  },
  {
   "cell_type": "code",
   "execution_count": 1,
   "id": "63ce9471-244b-46d3-9e08-0cab3d20ac66",
   "metadata": {
    "scrolled": true
   },
   "outputs": [
    {
     "name": "stdout",
     "output_type": "stream",
     "text": [
      "tensor(2.3024, device='cuda:0', grad_fn=<NllLossBackward0>)\n",
      "tensor(0.3013, device='cuda:0', grad_fn=<NllLossBackward0>)\n",
      "tensor(0.1277, device='cuda:0', grad_fn=<NllLossBackward0>)\n",
      "tensor(0.0961, device='cuda:0', grad_fn=<NllLossBackward0>)\n",
      "tensor(0.0919, device='cuda:0', grad_fn=<NllLossBackward0>)\n",
      "tensor(0.0430, device='cuda:0', grad_fn=<NllLossBackward0>)\n",
      "tensor(0.0401, device='cuda:0', grad_fn=<NllLossBackward0>)\n",
      "tensor(0.0316, device='cuda:0', grad_fn=<NllLossBackward0>)\n",
      "tensor(0.0552, device='cuda:0', grad_fn=<NllLossBackward0>)\n",
      "tensor(0.0306, device='cuda:0', grad_fn=<NllLossBackward0>)\n"
     ]
    },
    {
     "data": {
      "text/plain": [
       "[array(2.3023531, dtype=float32),\n",
       " array(0.30126992, dtype=float32),\n",
       " array(0.12774536, dtype=float32),\n",
       " array(0.09610345, dtype=float32),\n",
       " array(0.09194464, dtype=float32),\n",
       " array(0.04302622, dtype=float32),\n",
       " array(0.04010257, dtype=float32),\n",
       " array(0.03162958, dtype=float32),\n",
       " array(0.05517501, dtype=float32),\n",
       " array(0.03060807, dtype=float32)]"
      ]
     },
     "execution_count": 1,
     "metadata": {},
     "output_type": "execute_result"
    }
   ],
   "source": [
    "import torch\n",
    "import torch.nn as nn\n",
    "import torch.optim as optim\n",
    "import torch.nn.init as init\n",
    "import torchvision.datasets as dset\n",
    "import torchvision.transforms as transforms\n",
    "from torch.utils.data import TensorDataset, DataLoader\n",
    "\n",
    "batch_size = 256\n",
    "learning_rate = 0.0002\n",
    "num_epoch = 10\n",
    "\n",
    "mnist_train = dset.MNIST(\"./data/\", train=True, transform=transforms.ToTensor(),\n",
    "                         target_transform=None, download=True)\n",
    "mnist_test = dset.MNIST(\"./data/\", train=False, transform=transforms.ToTensor(),\n",
    "                        target_transform=None, download=True)\n",
    "\n",
    "train_loader = torch.utils.data.DataLoader(mnist_train, batch_size=batch_size,\n",
    "                                           shuffle=True, num_workers=0, drop_last=True)\n",
    "test_loader = torch.utils.data.DataLoader(mnist_test, batch_size,\n",
    "                                          shuffle=True, num_workers=0, drop_last=True)\n",
    "\n",
    "\n",
    "\n",
    "\n",
    "\n",
    "from models.load_models import MyCNN\n",
    "device = torch.device(\"cuda:0\" if torch.cuda.is_available() else \"cpu\")\n",
    "model = MyCNN(batch_size=batch_size).to(device)\n",
    "loss_func = nn.CrossEntropyLoss()\n",
    "optimizer = torch.optim.Adam(model.parameters(), lr=learning_rate)\n",
    "\n",
    "\n",
    "\n",
    "\n",
    "\n",
    "\n",
    "from train.run_training import training_loop, validate\n",
    "training_loop(10, optimizer, model, loss_func, train_loader, device=device)"
   ]
  },
  {
   "cell_type": "code",
   "execution_count": 9,
   "id": "8fddd6ef-d9a2-4ff6-a054-5d5a208fdd75",
   "metadata": {},
   "outputs": [
    {
     "name": "stdout",
     "output_type": "stream",
     "text": [
      "Accuracy train: 0.99\n",
      "Accuracy val: 0.99\n"
     ]
    }
   ],
   "source": [
    "import collections\n",
    "all_acc_dict = collections.OrderedDict()\n",
    "all_acc_dict[\"mycnn\"] = validate(model, train_loader, test_loader, device=device)"
   ]
  },
  {
   "cell_type": "code",
   "execution_count": 11,
   "id": "3cdfbc5b-ca37-45c7-bd8a-26f1626f0710",
   "metadata": {},
   "outputs": [
    {
     "name": "stdout",
     "output_type": "stream",
     "text": [
      "OrderedDict([('baseline', {'train': 0.9890491452991453, 'val': 0.9881810897435898}), ('mycnn', {'train': 0.9890324519230769, 'val': 0.9881810897435898})])\n"
     ]
    }
   ],
   "source": [
    "print(all_acc_dict)"
   ]
  },
  {
   "cell_type": "code",
   "execution_count": 10,
   "id": "8e2fef73-9279-4c40-836d-948bec8b021f",
   "metadata": {},
   "outputs": [
    {
     "data": {
      "image/png": "[encoded data removed]",
      "text/plain": [
       "<Figure size 640x480 with 1 Axes>"
      ]
     },
     "metadata": {},
     "output_type": "display_data"
    }
   ],
   "source": [
    "import matplotlib.pyplot as plt\n",
    "import numpy as np\n",
    "trn_acc = [v['train'] for k, v in all_acc_dict.items()]\n",
    "val_acc = [v['val'] for k, v in all_acc_dict.items()]\n",
    "\n",
    "width = 0.3\n",
    "plt.bar(np.arange(len(trn_acc)), trn_acc, width=width, label='train')\n",
    "plt.bar(np.arange(len(val_acc))+ width, val_acc, width=width, label='val')\n",
    "plt.xticks(np.arange(len(val_acc))+ width/2, list(all_acc_dict.keys()),\n",
    "           rotation=60)\n",
    "plt.ylabel('accuracy')\n",
    "plt.legend(loc='lower right')\n",
    "plt.ylim(0.7, 1)\n",
    "plt.savefig('./fig/accuracy_comparison.png', bbox_inches='tight')\n",
    "plt.show()\n"
   ]
  }
 ],
 "metadata": {
  "kernelspec": {
   "display_name": "Python 3 (ipykernel)",
   "language": "python",
   "name": "python3"
  },
  "language_info": {
   "codemirror_mode": {
    "name": "ipython",
    "version": 3
   },
   "file_extension": ".py",
   "mimetype": "text/x-python",
   "name": "python",
   "nbconvert_exporter": "python",
   "pygments_lexer": "ipython3",
   "version": "3.10.10"
  }
 },
 "nbformat": 4,
 "nbformat_minor": 5
}
