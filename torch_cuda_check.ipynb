{
 "cells": [
  {
   "cell_type": "code",
   "execution_count": 3,
   "id": "dca38b23-5250-4815-8872-a77df399278a",
   "metadata": {
    "collapsed": true,
    "jupyter": {
     "outputs_hidden": true
    },
    "tags": []
   },
   "outputs": [
    {
     "name": "stdout",
     "output_type": "stream",
     "text": [
      "Collecting monai\n",
      "  Downloading monai-0.8.1-202202162213-py3-none-any.whl (721 kB)\n",
      "     |████████████████████████████████| 721 kB 1.1 MB/s            \n",
      "\u001b[?25hRequirement already satisfied: numpy>=1.17 in ./venv/lib/python3.6/site-packages (from monai) (1.19.5)\n",
      "Requirement already satisfied: torch>=1.6 in ./venv/lib/python3.6/site-packages (from monai) (1.10.1)\n",
      "Requirement already satisfied: dataclasses in ./venv/lib/python3.6/site-packages (from torch>=1.6->monai) (0.8)\n",
      "Requirement already satisfied: typing-extensions in ./venv/lib/python3.6/site-packages (from torch>=1.6->monai) (4.1.1)\n",
      "Installing collected packages: monai\n",
      "Successfully installed monai-0.8.1\n"
     ]
    }
   ],
   "source": [
    "!pip install monai"
   ]
  },
  {
   "cell_type": "code",
   "execution_count": 4,
   "id": "655d5cc3-246f-43fd-b1db-eccf254c4c33",
   "metadata": {
    "collapsed": true,
    "jupyter": {
     "outputs_hidden": true
    },
    "tags": []
   },
   "outputs": [
    {
     "name": "stdout",
     "output_type": "stream",
     "text": [
      "Package              Version\n",
      "-------------------- ---------\n",
      "anyio                3.6.2\n",
      "argon2-cffi          21.3.0\n",
      "argon2-cffi-bindings 21.2.0\n",
      "async-generator      1.10\n",
      "attrs                22.2.0\n",
      "Babel                2.11.0\n",
      "backcall             0.2.0\n",
      "bleach               4.1.0\n",
      "certifi              2023.7.22\n",
      "cffi                 1.15.1\n",
      "charset-normalizer   2.0.12\n",
      "contextvars          2.4\n",
      "cycler               0.11.0\n",
      "dataclasses          0.8\n",
      "decorator            4.4.2\n",
      "defusedxml           0.7.1\n",
      "entrypoints          0.4\n",
      "fire                 0.5.0\n",
      "idna                 3.4\n",
      "imageio              2.15.0\n",
      "immutables           0.19\n",
      "importlib-metadata   4.8.3\n",
      "importlib-resources  5.4.0\n",
      "ipykernel            5.5.6\n",
      "ipython              7.16.3\n",
      "ipython-genutils     0.2.0\n",
      "jedi                 0.17.2\n",
      "Jinja2               3.0.3\n",
      "joblib               1.1.1\n",
      "json5                0.9.14\n",
      "jsonschema           3.2.0\n",
      "jupyter-client       7.1.2\n",
      "jupyter-core         4.9.2\n",
      "jupyter-server       1.13.1\n",
      "jupyterlab           3.2.9\n",
      "jupyterlab-pygments  0.1.2\n",
      "jupyterlab-server    2.10.3\n",
      "kiwisolver           1.3.1\n",
      "MarkupSafe           2.0.1\n",
      "matplotlib           3.3.4\n",
      "medmnist             2.2.3\n",
      "mistune              0.8.4\n",
      "monai                0.8.1\n",
      "nbclassic            0.3.5\n",
      "nbclient             0.5.9\n",
      "nbconvert            6.0.7\n",
      "nbformat             5.1.3\n",
      "nest-asyncio         1.5.7\n",
      "networkx             2.5.1\n",
      "notebook             6.4.10\n",
      "numpy                1.19.5\n",
      "packaging            21.3\n",
      "pandas               1.1.5\n",
      "pandocfilters        1.5.0\n",
      "parso                0.7.1\n",
      "pexpect              4.8.0\n",
      "pickleshare          0.7.5\n",
      "Pillow               8.4.0\n",
      "pip                  21.3.1\n",
      "pkg_resources        0.0.0\n",
      "prometheus-client    0.17.1\n",
      "prompt-toolkit       3.0.36\n",
      "ptyprocess           0.7.0\n",
      "pycparser            2.21\n",
      "Pygments             2.14.0\n",
      "pyparsing            3.1.1\n",
      "pyrsistent           0.18.0\n",
      "python-dateutil      2.8.2\n",
      "pytz                 2023.3\n",
      "PyWavelets           1.1.1\n",
      "pyzmq                25.1.1\n",
      "requests             2.27.1\n",
      "scikit-image         0.17.2\n",
      "scikit-learn         0.24.2\n",
      "scipy                1.5.4\n",
      "Send2Trash           1.8.2\n",
      "setuptools           39.0.1\n",
      "six                  1.16.0\n",
      "sniffio              1.2.0\n",
      "termcolor            1.1.0\n",
      "terminado            0.12.1\n",
      "testpath             0.6.0\n",
      "threadpoolctl        3.1.0\n",
      "tifffile             2020.9.3\n",
      "torch                1.10.1\n",
      "torchvision          0.11.2\n",
      "tornado              6.1\n",
      "tqdm                 4.64.1\n",
      "traitlets            4.3.3\n",
      "typing_extensions    4.1.1\n",
      "urllib3              1.26.16\n",
      "wcwidth              0.2.6\n",
      "webencodings         0.5.1\n",
      "websocket-client     1.3.1\n",
      "zipp                 3.6.0\n"
     ]
    }
   ],
   "source": [
    "!pip list"
   ]
  },
  {
   "cell_type": "code",
   "execution_count": 5,
   "id": "6393bb6b-4704-499d-a200-5c174e564d20",
   "metadata": {
    "collapsed": true,
    "jupyter": {
     "outputs_hidden": true
    },
    "tags": []
   },
   "outputs": [
    {
     "name": "stdout",
     "output_type": "stream",
     "text": [
      "Requirement already satisfied: monai[nibabel] in ./venv/lib/python3.6/site-packages (0.8.1)\n",
      "Requirement already satisfied: torch>=1.6 in ./venv/lib/python3.6/site-packages (from monai[nibabel]) (1.10.1)\n",
      "Requirement already satisfied: numpy>=1.17 in ./venv/lib/python3.6/site-packages (from monai[nibabel]) (1.19.5)\n",
      "Collecting nibabel\n",
      "  Downloading nibabel-3.2.2-py3-none-any.whl (3.3 MB)\n",
      "     |████████████████████████████████| 3.3 MB 1.1 MB/s            \n",
      "\u001b[?25hRequirement already satisfied: dataclasses in ./venv/lib/python3.6/site-packages (from torch>=1.6->monai[nibabel]) (0.8)\n",
      "Requirement already satisfied: typing-extensions in ./venv/lib/python3.6/site-packages (from torch>=1.6->monai[nibabel]) (4.1.1)\n",
      "Requirement already satisfied: setuptools in ./venv/lib/python3.6/site-packages (from nibabel->monai[nibabel]) (39.0.1)\n",
      "Requirement already satisfied: packaging>=14.3 in ./venv/lib/python3.6/site-packages (from nibabel->monai[nibabel]) (21.3)\n",
      "Requirement already satisfied: pyparsing!=3.0.5,>=2.0.2 in ./venv/lib/python3.6/site-packages (from packaging>=14.3->nibabel->monai[nibabel]) (3.1.1)\n",
      "Installing collected packages: nibabel\n",
      "Successfully installed nibabel-3.2.2\n"
     ]
    }
   ],
   "source": [
    "!pip install 'monai[nibabel]'"
   ]
  },
  {
   "cell_type": "code",
   "execution_count": 7,
   "id": "b4d21f64-ae13-4380-bc13-e983554701bd",
   "metadata": {},
   "outputs": [],
   "source": [
    "!pip freeze > requirements_20230906.txt"
   ]
  },
  {
   "cell_type": "code",
   "execution_count": 1,
   "id": "0c7de498",
   "metadata": {},
   "outputs": [
    {
     "name": "stderr",
     "output_type": "stream",
     "text": [
      "d:\\workspace\\dwm\\jupyter_basic\\venv\\lib\\site-packages\\tqdm\\auto.py:21: TqdmWarning: IProgress not found. Please update jupyter and ipywidgets. See https://ipywidgets.readthedocs.io/en/stable/user_install.html\n",
      "  from .autonotebook import tqdm as notebook_tqdm\n"
     ]
    },
    {
     "name": "stdout",
     "output_type": "stream",
     "text": [
      "True\n"
     ]
    }
   ],
   "source": [
    "import torch\n",
    "print(torch.cuda.is_available())"
   ]
  }
 ],
 "metadata": {
  "kernelspec": {
   "display_name": "Python 3.7.9 ('venv': venv)",
   "language": "python",
   "name": "python3"
  },
  "language_info": {
   "codemirror_mode": {
    "name": "ipython",
    "version": 3
   },
   "file_extension": ".py",
   "mimetype": "text/x-python",
   "name": "python",
   "nbconvert_exporter": "python",
   "pygments_lexer": "ipython3",
   "version": "3.7.9"
  },
  "vscode": {
   "interpreter": {
    "hash": "77a35ccee26993ab16be666979a7bc0119dbfe0fa7b2d59f42b1045260f18305"
   }
  }
 },
 "nbformat": 4,
 "nbformat_minor": 5
}
